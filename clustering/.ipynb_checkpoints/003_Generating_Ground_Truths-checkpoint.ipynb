{
 "cells": [
  {
   "cell_type": "markdown",
   "id": "crazy-acquisition",
   "metadata": {},
   "source": [
    "# Generate all the ground truth incidents\n",
    "\n",
    "* This notebook generates `cluster_version_incidents_month.pkl`\n",
    "* This notebook takes a long time because of the loading and reading of data\n",
    "* Requires:\n",
    "    * `speed_data`\n",
    "    * `cluster_clusters.pkl`\n",
    "* Generates:\n",
    "    * `cluster_version_incidents_month.pkl`"
   ]
  },
  {
   "cell_type": "code",
   "execution_count": 1,
   "id": "bibliographic-teacher",
   "metadata": {},
   "outputs": [],
   "source": [
    "import os\n",
    "import sys\n",
    "import pickle5 as pickle\n",
    "import pandas as pd\n",
    "from pprint import pprint\n",
    "from tqdm.notebook import tqdm\n",
    "\n",
    "sys.path.append(\"..\")\n",
    "from src.utils import Read_DF, Call_Back"
   ]
  },
  {
   "cell_type": "code",
   "execution_count": 2,
   "id": "eastern-restoration",
   "metadata": {},
   "outputs": [],
   "source": [
    "# Confirm directorys are in place\n",
    "\n",
    "if not os.path.exists(os.path.join(os.getcwd(), '../data')):\n",
    "    raise OSError(\"Must first download data, see README.md\")\n",
    "data_dir = os.path.join(os.getcwd(), '../data')\n",
    "\n",
    "if not os.path.exists(os.path.join(data_dir, 'generated_clusters')):\n",
    "    os.mkdir(os.path.join(data_dir, 'generated_clusters'))\n",
    "cluster_dir = os.path.join(data_dir, 'generated_clusters')\n",
    "\n",
    "if not os.path.exists(os.path.join(data_dir, 'speed_data')):\n",
    "    os.mkdir(os.path.join(data_dir, 'speed_data'))\n",
    "speed_dir = os.path.join(data_dir, 'speed_data')"
   ]
  },
  {
   "cell_type": "markdown",
   "id": "corporate-clearance",
   "metadata": {},
   "source": [
    "# Processing Incidents\n",
    "\n",
    "\n",
    "\n"
   ]
  },
  {
   "cell_type": "markdown",
   "id": "based-import",
   "metadata": {},
   "source": [
    "### Integrating with cluster information"
   ]
  },
  {
   "cell_type": "code",
   "execution_count": 7,
   "id": "treated-scoop",
   "metadata": {},
   "outputs": [
    {
     "name": "stdout",
     "output_type": "stream",
     "text": [
      "618\n"
     ]
    }
   ],
   "source": [
    "lower_bound_correlation = 0.7\n",
    "correlation_threshold = 0.85\n",
    "clustering_version = f'maxr0{int(correlation_threshold * 100)}'\n",
    "fp = os.path.join(cluster_dir, f'optimized_clustering_{lower_bound_correlation}_{correlation_threshold}_{clustering_version}_restricted.pkl')\n",
    "with open(fp, 'rb') as handle:\n",
    "    clusters = pickle.load(handle)\n",
    "print(len(clusters))    "
   ]
  },
  {
   "cell_type": "code",
   "execution_count": 8,
   "id": "attached-somewhere",
   "metadata": {},
   "outputs": [],
   "source": [
    "def locate_segment_cluster(segment, clusters):\n",
    "    if pd.isnull(segment):\n",
    "        return -1\n",
    "    for i, cluster in enumerate(list(clusters)):\n",
    "        if segment in clusters[cluster]:\n",
    "            return cluster\n",
    "    return -1"
   ]
  },
  {
   "cell_type": "code",
   "execution_count": 9,
   "id": "arbitrary-technician",
   "metadata": {},
   "outputs": [
    {
     "data": {
      "text/plain": [
       "'/home/jovyan/work/clustering/../data/generated_clusters/maxr085_incident_ratios/incidents_GT'"
      ]
     },
     "execution_count": 9,
     "metadata": {},
     "output_type": "execute_result"
    }
   ],
   "source": [
    "# Setting up output directories\n",
    "if not os.path.exists(os.path.join(cluster_dir, f\"{clustering_version}_incident_ratios\")):\n",
    "    os.mkdir(os.path.join(cluster_dir, f\"{clustering_version}_incident_ratios\"))\n",
    "incident_ratio_dir = os.path.join(cluster_dir, f\"{clustering_version}_incident_ratios\")\n",
    "\n",
    "# Setting up output directories\n",
    "if not os.path.exists(os.path.join(incident_ratio_dir, f\"incidents_GT\")):\n",
    "    os.mkdir(os.path.join(incident_ratio_dir, f\"incidents_GT\"))\n",
    "ground_truth_dir = os.path.join(incident_ratio_dir, f\"incidents_GT\")\n",
    "ground_truth_dir"
   ]
  },
  {
   "cell_type": "markdown",
   "id": "returning-cosmetic",
   "metadata": {},
   "source": [
    "#### I already generated this and is in:\n",
    "* `all_incidents_ground_truth.pkl`"
   ]
  },
  {
   "cell_type": "code",
   "execution_count": 13,
   "id": "regular-fence",
   "metadata": {},
   "outputs": [],
   "source": [
    "# str_start_time = '06:00:00'\n",
    "# str_end_time = '21:00:00'\n",
    "\n",
    "# for month in tqdm(range(1, 13)):\n",
    "\n",
    "#     fp = os.path.join(speed_dir, f'ALL_5m_DF_2019_{month}_1.gzip')\n",
    "#     DF_1 = Read_DF(DF_All = fp, Reading_Tag = 'DF_All', MetaData = {})\n",
    "\n",
    "#     fp = os.path.join(speed_dir, f'ALL_5m_DF_2019_{month}_15.gzip')\n",
    "#     DF_15 = Read_DF(DF_All = fp, Reading_Tag = 'DF_All', MetaData = {})\n",
    "\n",
    "#     DF_All = pd.concat([DF_1, DF_15])\n",
    "#     DF_All = DF_All[['time_local', 'XDSegID', 'Total_Number_Incidents']]\n",
    "#     DF_All['time'] = DF_All['time_local'].tolist()\n",
    "#     DF_All = DF_All.set_index('time_local')\n",
    "#     DF_All = DF_All.between_time(str_start_time, str_end_time)\n",
    "\n",
    "#     DF_Incidents = DF_All[DF_All['Total_Number_Incidents'] > 0]\n",
    "#     segs = DF_Incidents['XDSegID'].tolist()\n",
    "#     cluster_heads = []\n",
    "#     for s in segs:\n",
    "#         cluster_heads.append(locate_segment_cluster(s, clusters))\n",
    "#     DF_Incidents['cluster_head'] = cluster_heads\n",
    "#     fp = os.path.join(ground_truth_dir, f\"{clustering_version}_incidents_{str(month).zfill(2)}.pkl\")\n",
    "#     DF_Incidents[DF_Incidents['cluster_head'] != -1].to_pickle(fp)\n",
    "#     break"
   ]
  },
  {
   "cell_type": "markdown",
   "id": "intimate-mainland",
   "metadata": {},
   "source": [
    "## So that we don't have to load all of it again just to add the cluster_head information\n",
    "* Load `data/all_incidents_ground_truth.pkl`"
   ]
  },
  {
   "cell_type": "code",
   "execution_count": 14,
   "id": "facial-westminster",
   "metadata": {},
   "outputs": [
    {
     "data": {
      "text/html": [
       "<div>\n",
       "<style scoped>\n",
       "    .dataframe tbody tr th:only-of-type {\n",
       "        vertical-align: middle;\n",
       "    }\n",
       "\n",
       "    .dataframe tbody tr th {\n",
       "        vertical-align: top;\n",
       "    }\n",
       "\n",
       "    .dataframe thead th {\n",
       "        text-align: right;\n",
       "    }\n",
       "</style>\n",
       "<table border=\"1\" class=\"dataframe\">\n",
       "  <thead>\n",
       "    <tr style=\"text-align: right;\">\n",
       "      <th></th>\n",
       "      <th>XDSegID</th>\n",
       "      <th>Total_Number_Incidents</th>\n",
       "      <th>cluster_head</th>\n",
       "    </tr>\n",
       "    <tr>\n",
       "      <th>time_local</th>\n",
       "      <th></th>\n",
       "      <th></th>\n",
       "      <th></th>\n",
       "    </tr>\n",
       "  </thead>\n",
       "  <tbody>\n",
       "    <tr>\n",
       "      <th>2019-01-01 01:15:00</th>\n",
       "      <td>441420536</td>\n",
       "      <td>1</td>\n",
       "      <td>449614846</td>\n",
       "    </tr>\n",
       "    <tr>\n",
       "      <th>2019-01-01 02:00:00</th>\n",
       "      <td>449626583</td>\n",
       "      <td>1</td>\n",
       "      <td>449626584</td>\n",
       "    </tr>\n",
       "    <tr>\n",
       "      <th>2019-01-01 02:05:00</th>\n",
       "      <td>1524395080</td>\n",
       "      <td>1</td>\n",
       "      <td>1524308348</td>\n",
       "    </tr>\n",
       "    <tr>\n",
       "      <th>2019-01-01 16:30:00</th>\n",
       "      <td>1524581409</td>\n",
       "      <td>1</td>\n",
       "      <td>1524491673</td>\n",
       "    </tr>\n",
       "    <tr>\n",
       "      <th>2019-01-01 18:40:00</th>\n",
       "      <td>429334934</td>\n",
       "      <td>1</td>\n",
       "      <td>429334934</td>\n",
       "    </tr>\n",
       "    <tr>\n",
       "      <th>...</th>\n",
       "      <td>...</td>\n",
       "      <td>...</td>\n",
       "      <td>...</td>\n",
       "    </tr>\n",
       "    <tr>\n",
       "      <th>2019-12-31 17:00:00</th>\n",
       "      <td>1524561318</td>\n",
       "      <td>1</td>\n",
       "      <td>1524535956</td>\n",
       "    </tr>\n",
       "    <tr>\n",
       "      <th>2019-12-31 18:20:00</th>\n",
       "      <td>429335034</td>\n",
       "      <td>1</td>\n",
       "      <td>1524529197</td>\n",
       "    </tr>\n",
       "    <tr>\n",
       "      <th>2019-12-31 21:50:00</th>\n",
       "      <td>449617510</td>\n",
       "      <td>1</td>\n",
       "      <td>441552690</td>\n",
       "    </tr>\n",
       "    <tr>\n",
       "      <th>2019-12-31 21:50:00</th>\n",
       "      <td>449617535</td>\n",
       "      <td>1</td>\n",
       "      <td>449617534</td>\n",
       "    </tr>\n",
       "    <tr>\n",
       "      <th>2019-12-31 22:20:00</th>\n",
       "      <td>429334645</td>\n",
       "      <td>1</td>\n",
       "      <td>429334638</td>\n",
       "    </tr>\n",
       "  </tbody>\n",
       "</table>\n",
       "<p>6184 rows × 3 columns</p>\n",
       "</div>"
      ],
      "text/plain": [
       "                        XDSegID  Total_Number_Incidents  cluster_head\n",
       "time_local                                                           \n",
       "2019-01-01 01:15:00   441420536                       1     449614846\n",
       "2019-01-01 02:00:00   449626583                       1     449626584\n",
       "2019-01-01 02:05:00  1524395080                       1    1524308348\n",
       "2019-01-01 16:30:00  1524581409                       1    1524491673\n",
       "2019-01-01 18:40:00   429334934                       1     429334934\n",
       "...                         ...                     ...           ...\n",
       "2019-12-31 17:00:00  1524561318                       1    1524535956\n",
       "2019-12-31 18:20:00   429335034                       1    1524529197\n",
       "2019-12-31 21:50:00   449617510                       1     441552690\n",
       "2019-12-31 21:50:00   449617535                       1     449617534\n",
       "2019-12-31 22:20:00   429334645                       1     429334638\n",
       "\n",
       "[6184 rows x 3 columns]"
      ]
     },
     "execution_count": 14,
     "metadata": {},
     "output_type": "execute_result"
    }
   ],
   "source": [
    "fp = os.path.join(data_dir, 'all_incidents_ground_truth.pkl')\n",
    "all_incidents_gt = pd.read_pickle(fp)\n",
    "all_incidents_gt['cluster_head'] = all_incidents_gt['XDSegID'].apply(lambda x: locate_segment_cluster(x, clusters))\n",
    "all_incidents_gt = all_incidents_gt[all_incidents_gt['cluster_head'] != -1]\n",
    "all_incidents_gt"
   ]
  },
  {
   "cell_type": "code",
   "execution_count": 15,
   "id": "cultural-round",
   "metadata": {},
   "outputs": [
    {
     "data": {
      "application/vnd.jupyter.widget-view+json": {
       "model_id": "9f70e681f5ad47ba94902ba41018d309",
       "version_major": 2,
       "version_minor": 0
      },
      "text/plain": [
       "  0%|          | 0/12 [00:00<?, ?it/s]"
      ]
     },
     "metadata": {},
     "output_type": "display_data"
    }
   ],
   "source": [
    "for month in tqdm(range(1, 13)):\n",
    "    _tdf = all_incidents_gt[all_incidents_gt.index.month == month]\n",
    "    fp = os.path.join(ground_truth_dir, f\"{clustering_version}_incidents_{str(month).zfill(2)}.pkl\")\n",
    "    _tdf.to_pickle(fp)"
   ]
  },
  {
   "cell_type": "code",
   "execution_count": 16,
   "id": "instant-essex",
   "metadata": {},
   "outputs": [
    {
     "data": {
      "text/plain": [
       "'/home/jovyan/work/clustering/../data/generated_clusters/maxr085_incident_ratios/incidents_GT'"
      ]
     },
     "execution_count": 16,
     "metadata": {},
     "output_type": "execute_result"
    }
   ],
   "source": [
    "ground_truth_dir"
   ]
  },
  {
   "cell_type": "code",
   "execution_count": null,
   "id": "fifth-kernel",
   "metadata": {},
   "outputs": [],
   "source": []
  }
 ],
 "metadata": {
  "kernelspec": {
   "display_name": "Python 3",
   "language": "python",
   "name": "python3"
  },
  "language_info": {
   "codemirror_mode": {
    "name": "ipython",
    "version": 3
   },
   "file_extension": ".py",
   "mimetype": "text/x-python",
   "name": "python",
   "nbconvert_exporter": "python",
   "pygments_lexer": "ipython3",
   "version": "3.8.8"
  }
 },
 "nbformat": 4,
 "nbformat_minor": 5
}
