{
 "cells": [
  {
   "cell_type": "code",
   "execution_count": 2,
   "id": "becoming-dining",
   "metadata": {},
   "outputs": [],
   "source": [
    "%matplotlib inline"
   ]
  },
  {
   "cell_type": "code",
   "execution_count": 3,
   "id": "nasty-scanning",
   "metadata": {},
   "outputs": [],
   "source": [
    "%load_ext autoreload"
   ]
  },
  {
   "cell_type": "code",
   "execution_count": 4,
   "id": "increased-newcastle",
   "metadata": {},
   "outputs": [],
   "source": [
    "%autoreload 2"
   ]
  },
  {
   "cell_type": "code",
   "execution_count": 7,
   "id": "damaged-fairy",
   "metadata": {},
   "outputs": [],
   "source": [
    "import pandas as pd\n",
    "pd.options.mode.chained_assignment = None  # default='warn'\n",
    "\n",
    "import time\n",
    "import pathlib\n",
    "import random\n",
    "import importlib\n",
    "import numpy as np\n",
    "import pickle\n",
    "import os\n",
    "import json\n",
    "import sys\n",
    "import geopandas as gpd\n",
    "import matplotlib.pyplot as plt\n",
    "import osmnx as ox\n",
    "import networkx as nx\n",
    "import matplotlib.dates as md\n",
    "\n",
    "from shapely.geometry import Point, LineString, MultiLineString\n",
    "from tqdm.notebook import tqdm\n",
    "from matplotlib.lines import Line2D\n",
    "from copy import deepcopy\n",
    "from scipy.stats.stats import pearsonr\n",
    "from scipy.stats import hmean\n",
    "from pprint import pprint\n",
    "\n",
    "sys.path.append(\"..\")\n",
    "from src.utils import Read_DF, Call_Back\n",
    "from src import data_processing as data_proc"
   ]
  },
  {
   "cell_type": "code",
   "execution_count": 8,
   "id": "impressive-standing",
   "metadata": {},
   "outputs": [],
   "source": [
    "# Confirm directorys are in place\n",
    "\n",
    "if not os.path.exists(os.path.join(os.getcwd(), '../data')):\n",
    "    raise OSError(\"Must first download data, see README.md\")\n",
    "data_dir = os.path.join(os.getcwd(), '../data')\n",
    "\n",
    "if not os.path.exists(os.path.join(data_dir, 'segment_network_graphs')):\n",
    "    os.mkdir(os.path.join(data_dir, 'segment_network_graphs'))\n",
    "graphs_dir = os.path.join(data_dir, 'segment_network_graphs')\n",
    "\n",
    "if not os.path.exists(os.path.join(data_dir, 'speed_data')):\n",
    "    os.mkdir(os.path.join(data_dir, 'speed_data'))\n",
    "speed_dir = os.path.join(data_dir, 'speed_data')\n",
    "\n",
    "if not os.path.exists(os.path.join(os.getcwd(), '../img')):\n",
    "    raise OSError(\"Must first download data, see README.md\")\n",
    "img_dir = os.path.join(os.getcwd(), '../img')\n",
    "\n",
    "if not os.path.exists(os.path.join(data_dir, 'generated_clusters')):\n",
    "    os.mkdir(os.path.join(data_dir, 'generated_clusters'))\n",
    "cluster_dir = os.path.join(data_dir, 'generated_clusters')"
   ]
  },
  {
   "cell_type": "markdown",
   "id": "fixed-external",
   "metadata": {},
   "source": [
    "# Helpers"
   ]
  },
  {
   "cell_type": "code",
   "execution_count": 9,
   "id": "ambient-investment",
   "metadata": {},
   "outputs": [],
   "source": [
    "def list_all_segments_in_clusters(clusters):\n",
    "    segments = []\n",
    "    for k, v in clusters.items():\n",
    "        segments = segments + v\n",
    "    return segments"
   ]
  },
  {
   "cell_type": "code",
   "execution_count": 10,
   "id": "portuguese-california",
   "metadata": {},
   "outputs": [],
   "source": [
    "def locate_segment_cluster(segment, clusters):\n",
    "    if pd.isnull(segment):\n",
    "        return -1\n",
    "    for i, cluster in enumerate(list(clusters)):\n",
    "        if segment in clusters[cluster]:\n",
    "            return cluster\n",
    "    return -1"
   ]
  },
  {
   "cell_type": "markdown",
   "id": "pretty-memory",
   "metadata": {},
   "source": [
    "# Ratio generation proper\n",
    "* We use the clusters generated in `002_Creating_Clusters.ipynb`\n",
    "* We generate only ratios with incidents, the cleaning will come in the next notebook `005_Cleaning_Cluster_Ratios.ipynb`\n",
    "* Note that I have no easy method of loading an existing cluster configuration and editing only a single parameter and then saving as a new configuration, best case is to create a copy of the configurations instead"
   ]
  },
  {
   "cell_type": "markdown",
   "id": "reflected-weekend",
   "metadata": {},
   "source": [
    "# This is the approximation algorithm clustering"
   ]
  },
  {
   "cell_type": "code",
   "execution_count": 11,
   "id": "attempted-construction",
   "metadata": {},
   "outputs": [
    {
     "name": "stdout",
     "output_type": "stream",
     "text": [
      "618\n"
     ]
    }
   ],
   "source": [
    "lower_bound_correlation = 0.7\n",
    "correlation_threshold = 0.85\n",
    "clustering_version = f'maxr0{int(correlation_threshold * 100)}'\n",
    "fp = os.path.join(cluster_dir, f'optimized_clustering_{lower_bound_correlation}_{correlation_threshold}_{clustering_version}_restricted.pkl')\n",
    "with open(fp, 'rb') as handle:\n",
    "    clusters = pickle.load(handle)\n",
    "print(len(clusters))    "
   ]
  },
  {
   "cell_type": "code",
   "execution_count": 12,
   "id": "unlike-emergency",
   "metadata": {},
   "outputs": [
    {
     "data": {
      "text/plain": [
       "'/home/jovyan/work/clustering/../data/generated_clusters/maxr085_incident_ratios'"
      ]
     },
     "execution_count": 12,
     "metadata": {},
     "output_type": "execute_result"
    }
   ],
   "source": [
    "# Setting up output directories\n",
    "if not os.path.exists(os.path.join(cluster_dir, f\"{clustering_version}_incident_ratios\")):\n",
    "    os.mkdir(os.path.join(cluster_dir, f\"{clustering_version}_incident_ratios\"))\n",
    "incident_ratio_dir = os.path.join(cluster_dir, f\"{clustering_version}_incident_ratios\")\n",
    "incident_ratio_dir"
   ]
  },
  {
   "cell_type": "markdown",
   "id": "domestic-modem",
   "metadata": {},
   "source": [
    "# This is for generating 24 hour long incident ratios\n",
    "* The ratios generated by this notebook has 3 times as many columns\n",
    "* The purpose is for cleaning it after, we have access to data that is before 6am\n",
    "* This is due to the file including the ff: `am_{cluster_head}`, `hm_{cluster_head}`, `qr_{cluster_head}`\n",
    "* This is needed when we clean the data in the next notebook"
   ]
  },
  {
   "cell_type": "markdown",
   "id": "passive-picture",
   "metadata": {},
   "source": [
    "### Parameters"
   ]
  },
  {
   "cell_type": "code",
   "execution_count": 19,
   "id": "curious-camel",
   "metadata": {},
   "outputs": [
    {
     "data": {
      "text/plain": [
       "5"
      ]
     },
     "execution_count": 19,
     "metadata": {},
     "output_type": "execute_result"
    }
   ],
   "source": [
    "str_start_time = '00:00:00'\n",
    "str_end_time = '23:59:59'\n",
    "granularity = 5\n",
    "granularity"
   ]
  },
  {
   "cell_type": "code",
   "execution_count": 20,
   "id": "younger-teaching",
   "metadata": {},
   "outputs": [
    {
     "data": {
      "text/plain": [
       "'maxr085'"
      ]
     },
     "execution_count": 20,
     "metadata": {},
     "output_type": "execute_result"
    }
   ],
   "source": [
    "clustering_version"
   ]
  },
  {
   "cell_type": "markdown",
   "id": "educational-bandwidth",
   "metadata": {},
   "source": [
    "### This is just for demonstration"
   ]
  },
  {
   "cell_type": "code",
   "execution_count": 21,
   "id": "aware-cattle",
   "metadata": {},
   "outputs": [
    {
     "data": {
      "text/plain": [
       "[449617778, 160774420, 449616523, 1524543496, 156560786]"
      ]
     },
     "execution_count": 21,
     "metadata": {},
     "output_type": "execute_result"
    }
   ],
   "source": [
    "mini_cluster_list = random.choices(list(clusters), k=5)\n",
    "mini_cluster_list"
   ]
  },
  {
   "cell_type": "code",
   "execution_count": 22,
   "id": "expressed-prince",
   "metadata": {},
   "outputs": [
    {
     "name": "stdout",
     "output_type": "stream",
     "text": [
      "ALL_5m_DF_2019_1...\n"
     ]
    }
   ],
   "source": [
    "months = 2 #13\n",
    "DF_ALL_Arr = []\n",
    "for month in range(1, months):\n",
    "    print(f'ALL_5m_DF_2019_{month}...')\n",
    "    fp = os.path.join(speed_dir, f'ALL_5m_DF_2019_{month}_1.gzip')\n",
    "    DF_1 = Read_DF(DF_All = fp, Reading_Tag = 'DF_All', MetaData = {})\n",
    "        \n",
    "    fp = os.path.join(speed_dir, f'ALL_5m_DF_2019_{month}_15.gzip')\n",
    "    DF_15 = Read_DF(DF_All = fp, Reading_Tag = 'DF_All', MetaData = {})\n",
    "        \n",
    "    DF_All = pd.concat([DF_1, DF_15])\n",
    "    DF_All = DF_All[['time_local', 'XDSegID', 'congestion_mean', 'speed_mean', 'average_speed_mean', 'Total_Number_Incidents']]\n",
    "        \n",
    "    DF_All['time'] = DF_All['time_local'].tolist()\n",
    "    DF_All = DF_All.set_index('time_local')\n",
    "    DF_All = DF_All.between_time(str_start_time, str_end_time)\n",
    "    DF_ALL_Arr.append(DF_All)"
   ]
  },
  {
   "cell_type": "code",
   "execution_count": 23,
   "id": "broad-moisture",
   "metadata": {},
   "outputs": [
    {
     "name": "stdout",
     "output_type": "stream",
     "text": [
      "ALL_5m_DF_2019_1...\n"
     ]
    },
    {
     "data": {
      "application/vnd.jupyter.widget-view+json": {
       "model_id": "776a16d928be4453a3c940663571bba6",
       "version_major": 2,
       "version_minor": 0
      },
      "text/plain": [
       "  0%|          | 0/5 [00:00<?, ?it/s]"
      ]
     },
     "metadata": {},
     "output_type": "display_data"
    }
   ],
   "source": [
    "for month in range(1, months):\n",
    "    print(f'ALL_5m_DF_2019_{month}...')\n",
    "    DF_All = DF_ALL_Arr[month - 1]\n",
    "#     fp = os.path.join(speed_dir, f'ALL_5m_DF_2019_{month}_1.gzip')\n",
    "#     DF_1 = Read_DF(DF_All = fp, Reading_Tag = 'DF_All', MetaData = {})\n",
    "        \n",
    "#     fp = os.path.join(speed_dir, f'ALL_5m_DF_2019_{month}_15.gzip')\n",
    "#     DF_15 = Read_DF(DF_All = fp, Reading_Tag = 'DF_All', MetaData = {})\n",
    "        \n",
    "#     DF_All = pd.concat([DF_1, DF_15])\n",
    "#     DF_All = DF_All[['time_local', 'XDSegID', 'congestion_mean', 'speed_mean', 'average_speed_mean', 'Total_Number_Incidents']]\n",
    "        \n",
    "#     DF_All['time'] = DF_All['time_local'].tolist()\n",
    "#     DF_All = DF_All.set_index('time_local')\n",
    "#     DF_All = DF_All.between_time(str_start_time, str_end_time)\n",
    "    \n",
    "    start = time.time()\n",
    "    \n",
    "    cluster_dfs = []\n",
    "#     for cluster_head in tqdm(clusters):\n",
    "    for cluster_head in tqdm(mini_cluster_list):\n",
    "        cluster = clusters[cluster_head]\n",
    "        \n",
    "        a = DF_All[DF_All['XDSegID'].isin(cluster)].reset_index().dropna()\n",
    "        \n",
    "        # This is to guard from very incomplete clusters\n",
    "        existing_segs = a.XDSegID.unique().tolist()\n",
    "        if (len(existing_segs)/len(cluster)) < 0.5:\n",
    "            a[:] = np.nan\n",
    "\n",
    "        a = a.groupby(['time_local', 'XDSegID']).agg({\"speed_mean\": ['mean']})\n",
    "        a = a.droplevel(0, axis=1)\n",
    "        a = a.groupby(['time_local']).agg({\"mean\": [hmean, 'mean']})\n",
    "        \n",
    "        # Added this for granularity purposes (hopefully it is right)\n",
    "        if not a.empty:\n",
    "            a = a.resample(f\"{granularity}T\").mean()\n",
    "    \n",
    "        a['qr'] = a['mean']['hmean']/a['mean']['mean']\n",
    "#         a = a[['qr']].rename(columns={'qr':cluster_head})\n",
    "        \n",
    "        # Addendum: To calculate AD(t) ratio\n",
    "#         a = a[['qr']].rename(columns={'qr':cluster_head})\n",
    "#         h = a['mean']['hmean']\n",
    "        a = a.droplevel(0, axis=1) \n",
    "        a = a.rename(columns={'hmean':f\"hm_{cluster_head}\",\n",
    "                              'mean' :f\"am_{cluster_head}\",\n",
    "                              ''     :f\"qr_{cluster_head}\"})\n",
    "        cluster_dfs.append(a)\n",
    "\n",
    "    elapsed = time.time() - start\n",
    "#     print(f\"Done in: {elapsed} s\")\n",
    "    clusters_df = pd.concat(cluster_dfs, axis=1)\n",
    "    fp = os.path.join(incident_ratio_dir, f'{str(month).zfill(2)}_2019_ratios_{clustering_version}_gran_{granularity}_incidents_24h.pkl')\n",
    "    clusters_df.to_pickle(fp)"
   ]
  },
  {
   "cell_type": "markdown",
   "id": "unavailable-defeat",
   "metadata": {},
   "source": [
    "### Sanity check"
   ]
  },
  {
   "cell_type": "code",
   "execution_count": 29,
   "id": "mighty-medication",
   "metadata": {},
   "outputs": [
    {
     "data": {
      "text/html": [
       "<div>\n",
       "<style scoped>\n",
       "    .dataframe tbody tr th:only-of-type {\n",
       "        vertical-align: middle;\n",
       "    }\n",
       "\n",
       "    .dataframe tbody tr th {\n",
       "        vertical-align: top;\n",
       "    }\n",
       "\n",
       "    .dataframe thead th {\n",
       "        text-align: right;\n",
       "    }\n",
       "</style>\n",
       "<table border=\"1\" class=\"dataframe\">\n",
       "  <thead>\n",
       "    <tr style=\"text-align: right;\">\n",
       "      <th></th>\n",
       "      <th>hm_449617778</th>\n",
       "      <th>am_449617778</th>\n",
       "      <th>qr_449617778</th>\n",
       "      <th>hm_160774420</th>\n",
       "      <th>am_160774420</th>\n",
       "      <th>qr_160774420</th>\n",
       "      <th>hm_449616523</th>\n",
       "      <th>am_449616523</th>\n",
       "      <th>qr_449616523</th>\n",
       "      <th>hm_1524543496</th>\n",
       "      <th>am_1524543496</th>\n",
       "      <th>qr_1524543496</th>\n",
       "      <th>hm_156560786</th>\n",
       "      <th>am_156560786</th>\n",
       "      <th>qr_156560786</th>\n",
       "    </tr>\n",
       "    <tr>\n",
       "      <th>time_local</th>\n",
       "      <th></th>\n",
       "      <th></th>\n",
       "      <th></th>\n",
       "      <th></th>\n",
       "      <th></th>\n",
       "      <th></th>\n",
       "      <th></th>\n",
       "      <th></th>\n",
       "      <th></th>\n",
       "      <th></th>\n",
       "      <th></th>\n",
       "      <th></th>\n",
       "      <th></th>\n",
       "      <th></th>\n",
       "      <th></th>\n",
       "    </tr>\n",
       "  </thead>\n",
       "  <tbody>\n",
       "    <tr>\n",
       "      <th>2019-01-01 00:00:00</th>\n",
       "      <td>36.756757</td>\n",
       "      <td>37.0</td>\n",
       "      <td>0.993426</td>\n",
       "      <td>NaN</td>\n",
       "      <td>NaN</td>\n",
       "      <td>NaN</td>\n",
       "      <td>NaN</td>\n",
       "      <td>NaN</td>\n",
       "      <td>NaN</td>\n",
       "      <td>32.242936</td>\n",
       "      <td>37.793103</td>\n",
       "      <td>0.853143</td>\n",
       "      <td>NaN</td>\n",
       "      <td>NaN</td>\n",
       "      <td>NaN</td>\n",
       "    </tr>\n",
       "    <tr>\n",
       "      <th>2019-01-01 00:05:00</th>\n",
       "      <td>36.756757</td>\n",
       "      <td>37.0</td>\n",
       "      <td>0.993426</td>\n",
       "      <td>NaN</td>\n",
       "      <td>NaN</td>\n",
       "      <td>NaN</td>\n",
       "      <td>NaN</td>\n",
       "      <td>NaN</td>\n",
       "      <td>NaN</td>\n",
       "      <td>32.398649</td>\n",
       "      <td>38.073793</td>\n",
       "      <td>0.850944</td>\n",
       "      <td>NaN</td>\n",
       "      <td>NaN</td>\n",
       "      <td>NaN</td>\n",
       "    </tr>\n",
       "    <tr>\n",
       "      <th>2019-01-01 00:10:00</th>\n",
       "      <td>36.756757</td>\n",
       "      <td>37.0</td>\n",
       "      <td>0.993426</td>\n",
       "      <td>NaN</td>\n",
       "      <td>NaN</td>\n",
       "      <td>NaN</td>\n",
       "      <td>NaN</td>\n",
       "      <td>NaN</td>\n",
       "      <td>NaN</td>\n",
       "      <td>32.287423</td>\n",
       "      <td>37.971379</td>\n",
       "      <td>0.850309</td>\n",
       "      <td>NaN</td>\n",
       "      <td>NaN</td>\n",
       "      <td>NaN</td>\n",
       "    </tr>\n",
       "    <tr>\n",
       "      <th>2019-01-01 00:15:00</th>\n",
       "      <td>35.972222</td>\n",
       "      <td>36.0</td>\n",
       "      <td>0.999228</td>\n",
       "      <td>NaN</td>\n",
       "      <td>NaN</td>\n",
       "      <td>NaN</td>\n",
       "      <td>NaN</td>\n",
       "      <td>NaN</td>\n",
       "      <td>NaN</td>\n",
       "      <td>31.732477</td>\n",
       "      <td>37.471379</td>\n",
       "      <td>0.846846</td>\n",
       "      <td>NaN</td>\n",
       "      <td>NaN</td>\n",
       "      <td>NaN</td>\n",
       "    </tr>\n",
       "    <tr>\n",
       "      <th>2019-01-01 00:20:00</th>\n",
       "      <td>35.972222</td>\n",
       "      <td>36.0</td>\n",
       "      <td>0.999228</td>\n",
       "      <td>NaN</td>\n",
       "      <td>NaN</td>\n",
       "      <td>NaN</td>\n",
       "      <td>NaN</td>\n",
       "      <td>NaN</td>\n",
       "      <td>NaN</td>\n",
       "      <td>31.867736</td>\n",
       "      <td>37.655172</td>\n",
       "      <td>0.846304</td>\n",
       "      <td>NaN</td>\n",
       "      <td>NaN</td>\n",
       "      <td>NaN</td>\n",
       "    </tr>\n",
       "    <tr>\n",
       "      <th>...</th>\n",
       "      <td>...</td>\n",
       "      <td>...</td>\n",
       "      <td>...</td>\n",
       "      <td>...</td>\n",
       "      <td>...</td>\n",
       "      <td>...</td>\n",
       "      <td>...</td>\n",
       "      <td>...</td>\n",
       "      <td>...</td>\n",
       "      <td>...</td>\n",
       "      <td>...</td>\n",
       "      <td>...</td>\n",
       "      <td>...</td>\n",
       "      <td>...</td>\n",
       "      <td>...</td>\n",
       "    </tr>\n",
       "    <tr>\n",
       "      <th>2019-01-31 23:35:00</th>\n",
       "      <td>35.492958</td>\n",
       "      <td>35.5</td>\n",
       "      <td>0.999802</td>\n",
       "      <td>NaN</td>\n",
       "      <td>NaN</td>\n",
       "      <td>NaN</td>\n",
       "      <td>NaN</td>\n",
       "      <td>NaN</td>\n",
       "      <td>NaN</td>\n",
       "      <td>33.397713</td>\n",
       "      <td>40.344828</td>\n",
       "      <td>0.827807</td>\n",
       "      <td>NaN</td>\n",
       "      <td>NaN</td>\n",
       "      <td>NaN</td>\n",
       "    </tr>\n",
       "    <tr>\n",
       "      <th>2019-01-31 23:40:00</th>\n",
       "      <td>35.492958</td>\n",
       "      <td>35.5</td>\n",
       "      <td>0.999802</td>\n",
       "      <td>NaN</td>\n",
       "      <td>NaN</td>\n",
       "      <td>NaN</td>\n",
       "      <td>NaN</td>\n",
       "      <td>NaN</td>\n",
       "      <td>NaN</td>\n",
       "      <td>33.397713</td>\n",
       "      <td>40.344828</td>\n",
       "      <td>0.827807</td>\n",
       "      <td>NaN</td>\n",
       "      <td>NaN</td>\n",
       "      <td>NaN</td>\n",
       "    </tr>\n",
       "    <tr>\n",
       "      <th>2019-01-31 23:45:00</th>\n",
       "      <td>34.971429</td>\n",
       "      <td>35.0</td>\n",
       "      <td>0.999184</td>\n",
       "      <td>NaN</td>\n",
       "      <td>NaN</td>\n",
       "      <td>NaN</td>\n",
       "      <td>NaN</td>\n",
       "      <td>NaN</td>\n",
       "      <td>NaN</td>\n",
       "      <td>33.404091</td>\n",
       "      <td>40.344828</td>\n",
       "      <td>0.827965</td>\n",
       "      <td>NaN</td>\n",
       "      <td>NaN</td>\n",
       "      <td>NaN</td>\n",
       "    </tr>\n",
       "    <tr>\n",
       "      <th>2019-01-31 23:50:00</th>\n",
       "      <td>34.971429</td>\n",
       "      <td>35.0</td>\n",
       "      <td>0.999184</td>\n",
       "      <td>NaN</td>\n",
       "      <td>NaN</td>\n",
       "      <td>NaN</td>\n",
       "      <td>NaN</td>\n",
       "      <td>NaN</td>\n",
       "      <td>NaN</td>\n",
       "      <td>33.522197</td>\n",
       "      <td>40.574483</td>\n",
       "      <td>0.826189</td>\n",
       "      <td>NaN</td>\n",
       "      <td>NaN</td>\n",
       "      <td>NaN</td>\n",
       "    </tr>\n",
       "    <tr>\n",
       "      <th>2019-01-31 23:55:00</th>\n",
       "      <td>34.971429</td>\n",
       "      <td>35.0</td>\n",
       "      <td>0.999184</td>\n",
       "      <td>NaN</td>\n",
       "      <td>NaN</td>\n",
       "      <td>NaN</td>\n",
       "      <td>NaN</td>\n",
       "      <td>NaN</td>\n",
       "      <td>NaN</td>\n",
       "      <td>33.622041</td>\n",
       "      <td>40.793103</td>\n",
       "      <td>0.824209</td>\n",
       "      <td>NaN</td>\n",
       "      <td>NaN</td>\n",
       "      <td>NaN</td>\n",
       "    </tr>\n",
       "  </tbody>\n",
       "</table>\n",
       "<p>8928 rows × 15 columns</p>\n",
       "</div>"
      ],
      "text/plain": [
       "                     hm_449617778  am_449617778  qr_449617778  hm_160774420  \\\n",
       "time_local                                                                    \n",
       "2019-01-01 00:00:00     36.756757          37.0      0.993426           NaN   \n",
       "2019-01-01 00:05:00     36.756757          37.0      0.993426           NaN   \n",
       "2019-01-01 00:10:00     36.756757          37.0      0.993426           NaN   \n",
       "2019-01-01 00:15:00     35.972222          36.0      0.999228           NaN   \n",
       "2019-01-01 00:20:00     35.972222          36.0      0.999228           NaN   \n",
       "...                           ...           ...           ...           ...   \n",
       "2019-01-31 23:35:00     35.492958          35.5      0.999802           NaN   \n",
       "2019-01-31 23:40:00     35.492958          35.5      0.999802           NaN   \n",
       "2019-01-31 23:45:00     34.971429          35.0      0.999184           NaN   \n",
       "2019-01-31 23:50:00     34.971429          35.0      0.999184           NaN   \n",
       "2019-01-31 23:55:00     34.971429          35.0      0.999184           NaN   \n",
       "\n",
       "                     am_160774420  qr_160774420  hm_449616523  am_449616523  \\\n",
       "time_local                                                                    \n",
       "2019-01-01 00:00:00           NaN           NaN           NaN           NaN   \n",
       "2019-01-01 00:05:00           NaN           NaN           NaN           NaN   \n",
       "2019-01-01 00:10:00           NaN           NaN           NaN           NaN   \n",
       "2019-01-01 00:15:00           NaN           NaN           NaN           NaN   \n",
       "2019-01-01 00:20:00           NaN           NaN           NaN           NaN   \n",
       "...                           ...           ...           ...           ...   \n",
       "2019-01-31 23:35:00           NaN           NaN           NaN           NaN   \n",
       "2019-01-31 23:40:00           NaN           NaN           NaN           NaN   \n",
       "2019-01-31 23:45:00           NaN           NaN           NaN           NaN   \n",
       "2019-01-31 23:50:00           NaN           NaN           NaN           NaN   \n",
       "2019-01-31 23:55:00           NaN           NaN           NaN           NaN   \n",
       "\n",
       "                     qr_449616523  hm_1524543496  am_1524543496  \\\n",
       "time_local                                                        \n",
       "2019-01-01 00:00:00           NaN      32.242936      37.793103   \n",
       "2019-01-01 00:05:00           NaN      32.398649      38.073793   \n",
       "2019-01-01 00:10:00           NaN      32.287423      37.971379   \n",
       "2019-01-01 00:15:00           NaN      31.732477      37.471379   \n",
       "2019-01-01 00:20:00           NaN      31.867736      37.655172   \n",
       "...                           ...            ...            ...   \n",
       "2019-01-31 23:35:00           NaN      33.397713      40.344828   \n",
       "2019-01-31 23:40:00           NaN      33.397713      40.344828   \n",
       "2019-01-31 23:45:00           NaN      33.404091      40.344828   \n",
       "2019-01-31 23:50:00           NaN      33.522197      40.574483   \n",
       "2019-01-31 23:55:00           NaN      33.622041      40.793103   \n",
       "\n",
       "                     qr_1524543496  hm_156560786  am_156560786  qr_156560786  \n",
       "time_local                                                                    \n",
       "2019-01-01 00:00:00       0.853143           NaN           NaN           NaN  \n",
       "2019-01-01 00:05:00       0.850944           NaN           NaN           NaN  \n",
       "2019-01-01 00:10:00       0.850309           NaN           NaN           NaN  \n",
       "2019-01-01 00:15:00       0.846846           NaN           NaN           NaN  \n",
       "2019-01-01 00:20:00       0.846304           NaN           NaN           NaN  \n",
       "...                            ...           ...           ...           ...  \n",
       "2019-01-31 23:35:00       0.827807           NaN           NaN           NaN  \n",
       "2019-01-31 23:40:00       0.827807           NaN           NaN           NaN  \n",
       "2019-01-31 23:45:00       0.827965           NaN           NaN           NaN  \n",
       "2019-01-31 23:50:00       0.826189           NaN           NaN           NaN  \n",
       "2019-01-31 23:55:00       0.824209           NaN           NaN           NaN  \n",
       "\n",
       "[8928 rows x 15 columns]"
      ]
     },
     "execution_count": 29,
     "metadata": {},
     "output_type": "execute_result"
    }
   ],
   "source": [
    "clusters_df"
   ]
  },
  {
   "cell_type": "code",
   "execution_count": 30,
   "id": "future-newcastle",
   "metadata": {},
   "outputs": [
    {
     "data": {
      "text/plain": [
       "'qr_1524543496'"
      ]
     },
     "execution_count": 30,
     "metadata": {},
     "output_type": "execute_result"
    }
   ],
   "source": [
    "fp = os.path.join(incident_ratio_dir, f'{str(month).zfill(2)}_2019_ratios_{clustering_version}_gran_{granularity}_incidents_24h.pkl')\n",
    "clusters_df = pd.read_pickle(fp)\n",
    "rand = random.choice(clusters_df.columns)\n",
    "rand"
   ]
  },
  {
   "cell_type": "code",
   "execution_count": 32,
   "id": "cooperative-array",
   "metadata": {},
   "outputs": [
    {
     "data": {
      "text/plain": [
       "<AxesSubplot:xlabel='time_local'>"
      ]
     },
     "execution_count": 32,
     "metadata": {},
     "output_type": "execute_result"
    },
    {
     "data": {
      "image/png": "[encoded data removed]",
      "text/plain": [
       "<Figure size 1440x360 with 1 Axes>"
      ]
     },
     "metadata": {
      "needs_background": "light"
     },
     "output_type": "display_data"
    }
   ],
   "source": [
    "clusters_df['qr_1524543496'].plot(figsize=(20, 5))"
   ]
  },
  {
   "cell_type": "markdown",
   "id": "exempt-aurora",
   "metadata": {},
   "source": [
    "# Ignore everything below, this is for visualization"
   ]
  },
  {
   "cell_type": "markdown",
   "id": "naked-choice",
   "metadata": {},
   "source": [
    "### Figure 10: Graphing low and high correlation\n",
    "* no speed omly q ratio"
   ]
  },
  {
   "cell_type": "code",
   "execution_count": 201,
   "id": "elect-tunisia",
   "metadata": {},
   "outputs": [
    {
     "name": "stdout",
     "output_type": "stream",
     "text": [
      "429356410 36\n",
      "1524402419 36\n",
      "1524518468 27\n",
      "1524602415 33\n",
      "449617813 11\n",
      "449614801 6\n",
      "1524373007 7\n",
      "1524364713 10\n",
      "449631082 6\n",
      "449629845 20\n"
     ]
    }
   ],
   "source": [
    "for mc in mini_cluster_list:\n",
    "    print(mc, len(clusters[mc]))"
   ]
  },
  {
   "cell_type": "code",
   "execution_count": 202,
   "id": "hearing-provincial",
   "metadata": {},
   "outputs": [
    {
     "data": {
      "text/plain": [
       "[449614800.0,\n",
       " 449614801.0,\n",
       " 449614802.0,\n",
       " 449614803.0,\n",
       " 1524439493.0,\n",
       " 1524471443.0]"
      ]
     },
     "execution_count": 202,
     "metadata": {},
     "output_type": "execute_result"
    }
   ],
   "source": [
    "clusters[449614801]"
   ]
  },
  {
   "cell_type": "code",
   "execution_count": null,
   "id": "outstanding-punch",
   "metadata": {},
   "outputs": [],
   "source": []
  },
  {
   "cell_type": "code",
   "execution_count": 203,
   "id": "dirty-blogger",
   "metadata": {},
   "outputs": [],
   "source": [
    "fp = os.path.join(data_dir, 'all_incidents_ground_truth.pkl')\n",
    "all_incidents_gt = pd.read_pickle(fp)\n",
    "all_incidents_gt['cluster_head'] = all_incidents_gt['XDSegID'].apply(lambda x: locate_segment_cluster(x, clusters))\n",
    "all_incidents_gt = all_incidents_gt[all_incidents_gt['cluster_head'] != -1]\n",
    "all_incidents_gt = all_incidents_gt[all_incidents_gt['cluster_head'] == 449614801]"
   ]
  },
  {
   "cell_type": "code",
   "execution_count": 364,
   "id": "technical-bacon",
   "metadata": {},
   "outputs": [
    {
     "name": "stderr",
     "output_type": "stream",
     "text": [
      "WARNING:matplotlib.backends.backend_ps:The PostScript backend does not support transparency; partially transparent artists will be rendered opaque.\n"
     ]
    },
    {
     "name": "stdout",
     "output_type": "stream",
     "text": [
      "XDSegID                   449614803\n",
      "Total_Number_Incidents            1\n",
      "cluster_head              449614801\n",
      "Name: 2019-08-01 13:55:00, dtype: int64\n"
     ]
    },
    {
     "name": "stderr",
     "output_type": "stream",
     "text": [
      "WARNING:matplotlib.backends.backend_ps:The PostScript backend does not support transparency; partially transparent artists will be rendered opaque.\n"
     ]
    },
    {
     "data": {
      "image/png": "[encoded data removed]",
      "text/plain": [
       "<Figure size 432x288 with 1 Axes>"
      ]
     },
     "metadata": {
      "needs_background": "light"
     },
     "output_type": "display_data"
    }
   ],
   "source": [
    "clustering_version = 'maxr085'\n",
    "# 2019-09-10 20:10:00 449614801 good sample\n",
    "# 2019-11-28 20:30:00 449614801 good sample\n",
    "incident = all_incidents_gt[all_incidents_gt.index == '2019-08-01 13:55:00'].iloc[0]\n",
    "# incident = all_incidents_gt.sample(1).iloc[0]\n",
    "print(incident)\n",
    "incident_month = incident.name.month\n",
    "incident_day   = incident.name.day\n",
    "\n",
    "fp = os.path.join(incident_ratio_dir, f'{str(incident_month).zfill(2)}_2019_ratios_{clustering_version}_gran_{granularity}_incidents_24h.pkl')\n",
    "clusters_df = pd.read_pickle(fp)\n",
    "\n",
    "ax = clusters_df[clusters_df.index.day == incident_day][\"qr_449614801\"].plot(color='blue', marker='o', markevery=5, markersize=3)\n",
    "\n",
    "ax.vlines(x=[incident.name], ymin=0.0, ymax=1.1, colors='red', ls='--', lw=3, alpha=1.0)\n",
    "\n",
    "ax.set_ylim(0.3, 1.1)\n",
    "\n",
    "custom_lines = [\n",
    "                Line2D([0], [0], color='blue', lw=1, ls='-', marker='o'),\n",
    "                Line2D([0], [0], color='red', lw=3, ls='--')\n",
    "               ]\n",
    "ax.set_ylabel(f\"$Q$-ratio\", fontsize=17)\n",
    "ax.set_xlabel(\"Time\", fontsize=17)\n",
    "# ax.set_title(r\"Cleaning data for $i^{th}$ cluster\", fontsize=14)\n",
    "# We change the fontsize of minor ticks label \n",
    "ax.tick_params(axis='both', which='major', labelsize=12, width=2, length=4)\n",
    "ax.tick_params(axis='both', which='minor', labelsize=12, width=2, length=4)\n",
    "\n",
    "# ax.set_ylim(0.6, 1.0)\n",
    "ax.legend(custom_lines, [r'$Q_{ratio}$', 'incident'], fontsize=15)\n",
    "fp = os.path.join(img_dir, 'good_clustering.eps')\n",
    "plt.savefig(fp, dpi=1000, bbox_inches='tight', format='eps')\n",
    "\n",
    "fp = os.path.join(img_dir, 'good_clustering.png')\n",
    "plt.savefig(fp, dpi=200, bbox_inches='tight', format='png')"
   ]
  },
  {
   "cell_type": "code",
   "execution_count": 369,
   "id": "respiratory-garden",
   "metadata": {},
   "outputs": [
    {
     "name": "stdout",
     "output_type": "stream",
     "text": [
      "Name: \n",
      "Type: MultiDiGraph\n",
      "Number of nodes: 5553\n",
      "Number of edges: 5488\n",
      "Average in degree:   0.9883\n",
      "Average out degree:   0.9883\n",
      "[449614800.0, 449614801.0, 449614802.0, 449614803.0, 1524439493.0, 1524471443.0]\n",
      "['0.7728', '0.8973', '0.9154', '0.9109']\n"
     ]
    },
    {
     "data": {
      "text/plain": [
       "[0.8740949731807589]"
      ]
     },
     "execution_count": 369,
     "metadata": {},
     "output_type": "execute_result"
    }
   ],
   "source": [
    "\n",
    "from itertools import combinations\n",
    "overall_correlation = []\n",
    "fp = os.path.join(data_dir, f'positive_correlation_SG_0.7.pkl')\n",
    "SG = nx.read_gpickle(fp)\n",
    "print(nx.info(SG))\n",
    "cluster = clusters[449614801]\n",
    "print(cluster)\n",
    "combos = list(combinations(cluster, 2))\n",
    "correlations = []\n",
    "for c in combos:\n",
    "    ed = SG.get_edge_data(*c, 0)\n",
    "    if ed:\n",
    "        correlation = ed['correlation']\n",
    "#             correlations.append(correlation if correlation > 0 else 0)\n",
    "        correlations.append(correlation)\n",
    "#         print(c, correlation)\n",
    "    else:\n",
    "        ed = SG.get_edge_data(c[1], c[0], 0)\n",
    "        if ed:\n",
    "            correlation = ed['correlation']\n",
    "#                 correlations.append(correlation if correlation > 0 else 0)\n",
    "            correlations.append(correlation)\n",
    "        else:\n",
    "            continue\n",
    "pprint([f\"{c:.4f}\" for c in correlations])\n",
    "correlations = np.asarray(correlations)\n",
    "overall_correlation.append(np.mean(correlations) if np.mean(correlations) > 0 else 0)\n",
    "overall_correlation"
   ]
  },
  {
   "cell_type": "markdown",
   "id": "indonesian-blake",
   "metadata": {},
   "source": [
    "### For bad clustering"
   ]
  },
  {
   "cell_type": "code",
   "execution_count": 232,
   "id": "introductory-productivity",
   "metadata": {},
   "outputs": [
    {
     "name": "stdout",
     "output_type": "stream",
     "text": [
      "441419950.0\n",
      "449630928.0\n",
      "1524407697.0\n",
      "449630862.0\n",
      "156069304.0\n"
     ]
    }
   ],
   "source": [
    "# for _ in range(5):\n",
    "#     print(random.choice(clusters[random.choice(list(clusters))]))"
   ]
  },
  {
   "cell_type": "code",
   "execution_count": 370,
   "id": "tropical-joseph",
   "metadata": {},
   "outputs": [
    {
     "data": {
      "text/plain": [
       "time_local\n",
       "2019-08-01 00:00:00    0.685857\n",
       "2019-08-01 00:05:00    0.534373\n",
       "2019-08-01 00:10:00    0.561705\n",
       "2019-08-01 00:15:00    0.701048\n",
       "2019-08-01 00:20:00    0.725617\n",
       "                         ...   \n",
       "2019-08-31 23:35:00    0.620551\n",
       "2019-08-31 23:40:00    0.682141\n",
       "2019-08-31 23:45:00    0.753344\n",
       "2019-08-31 23:50:00    0.667997\n",
       "2019-08-31 23:55:00    0.648932\n",
       "Freq: 5T, Name: qr_449614801, Length: 8928, dtype: float64"
      ]
     },
     "execution_count": 370,
     "metadata": {},
     "output_type": "execute_result"
    }
   ],
   "source": [
    "month = 8\n",
    "day = 1\n",
    "segment_incident = 449614803\n",
    "cluster_head = 449614801\n",
    "bad_cluster = [449614803, 441419950.0, 449630928.0, 1524407697.0, 449630862.0, 156069304.0]\n",
    "\n",
    "# Generating Qratio\n",
    "\n",
    "DF_All = DF_ALL_Arr[month - 1]\n",
    "start = time.time()\n",
    "\n",
    "cluster_dfs = []\n",
    "#     for cluster_head in tqdm(clusters):\n",
    "cluster = bad_cluster\n",
    "\n",
    "a = DF_All[DF_All['XDSegID'].isin(cluster)].reset_index().dropna()\n",
    "\n",
    "# This is to guard from very incomplete clusters\n",
    "existing_segs = a.XDSegID.unique().tolist()\n",
    "if (len(existing_segs)/len(cluster)) < 0.5:\n",
    "    a[:] = np.nan\n",
    "\n",
    "a = a.groupby(['time_local', 'XDSegID']).agg({\"speed_mean\": ['mean']})\n",
    "a = a.droplevel(0, axis=1)\n",
    "a = a.groupby(['time_local']).agg({\"mean\": [hmean, 'mean']})\n",
    "\n",
    "# Added this for granularity purposes (hopefully it is right)\n",
    "if not a.empty:\n",
    "    a = a.resample(f\"{granularity}T\").mean()\n",
    "\n",
    "a['qr'] = a['mean']['hmean']/a['mean']['mean']\n",
    "#         a = a[['qr']].rename(columns={'qr':cluster_head})\n",
    "\n",
    "# Addendum: To calculate AD(t) ratio\n",
    "#         a = a[['qr']].rename(columns={'qr':cluster_head})\n",
    "#         h = a['mean']['hmean']\n",
    "a = a.droplevel(0, axis=1) \n",
    "a = a.rename(columns={'hmean':f\"hm_{cluster_head}\",\n",
    "                      'mean' :f\"am_{cluster_head}\",\n",
    "                      ''     :f\"qr_{cluster_head}\"})\n",
    "cluster_dfs.append(a)\n",
    "\n",
    "elapsed = time.time() - start\n",
    "#     print(f\"Done in: {elapsed} s\")\n",
    "clusters_df = pd.concat(cluster_dfs, axis=1)\n",
    "# fp = os.path.join(incident_ratio_dir, f'{str(month).zfill(2)}_2019_ratios_{clustering_version}_gran_{granularity}_incidents_24h.pkl')\n",
    "# clusters_df.to_pickle(fp)\n",
    "clusters_df['qr_449614801']"
   ]
  },
  {
   "cell_type": "code",
   "execution_count": 371,
   "id": "funded-sunset",
   "metadata": {},
   "outputs": [
    {
     "name": "stderr",
     "output_type": "stream",
     "text": [
      "WARNING:matplotlib.backends.backend_ps:The PostScript backend does not support transparency; partially transparent artists will be rendered opaque.\n",
      "WARNING:matplotlib.backends.backend_ps:The PostScript backend does not support transparency; partially transparent artists will be rendered opaque.\n"
     ]
    },
    {
     "name": "stdout",
     "output_type": "stream",
     "text": [
      "XDSegID                   449614803\n",
      "Total_Number_Incidents            1\n",
      "cluster_head              449614801\n",
      "Name: 2019-08-01 13:55:00, dtype: int64\n"
     ]
    },
    {
     "data": {
      "image/png": "[encoded data removed]",
      "text/plain": [
       "<Figure size 432x288 with 1 Axes>"
      ]
     },
     "metadata": {
      "needs_background": "light"
     },
     "output_type": "display_data"
    }
   ],
   "source": [
    "# 2019-09-10 20:10:00 449614801 good sample\n",
    "# 2019-11-28 20:30:00 449614801 good sample\n",
    "incident = all_incidents_gt[all_incidents_gt.index == '2019-08-01 13:55:00'].iloc[0]\n",
    "# incident = all_incidents_gt.sample(1).iloc[0]\n",
    "print(incident)\n",
    "incident_month = incident.name.month\n",
    "incident_day   = incident.name.day\n",
    "\n",
    "ax = clusters_df[clusters_df.index.day == incident_day][\"qr_449614801\"].plot(color='blue', marker='o', markevery=5, markersize=3)\n",
    "\n",
    "ax.vlines(x=[incident.name], ymin=0.0, ymax=1.1, colors='red', ls='--', lw=3, alpha=1.0)\n",
    "\n",
    "ax.set_ylim(0.3, 1.1)\n",
    "\n",
    "custom_lines = [\n",
    "                Line2D([0], [0], color='blue', lw=1, ls='-', marker='o'),\n",
    "                Line2D([0], [0], color='red', lw=3, ls='--')\n",
    "               ]\n",
    "ax.set_ylabel(f\"$Q$-ratio\", fontsize=17)\n",
    "ax.set_xlabel(\"Time\", fontsize=17)\n",
    "# ax.set_title(r\"Cleaning data for $i^{th}$ cluster\", fontsize=14)\n",
    "# We change the fontsize of minor ticks label \n",
    "ax.tick_params(axis='both', which='major', labelsize=12, width=2, length=4)\n",
    "ax.tick_params(axis='both', which='minor', labelsize=12, width=2, length=4)\n",
    "\n",
    "# ax.set_ylim(0.6, 1.0)\n",
    "ax.legend(custom_lines, [r'$Q_{ratio}$', 'incident'], fontsize=15)\n",
    "fp = os.path.join(img_dir, 'bad_clustering.eps')\n",
    "plt.savefig(fp, dpi=1000, bbox_inches='tight', format='eps')\n",
    "\n",
    "fp = os.path.join(img_dir, 'bad_clustering.png')\n",
    "plt.savefig(fp, dpi=200, bbox_inches='tight', format='png')"
   ]
  },
  {
   "cell_type": "code",
   "execution_count": 376,
   "id": "junior-cover",
   "metadata": {},
   "outputs": [
    {
     "data": {
      "text/html": [
       "<div>\n",
       "<style scoped>\n",
       "    .dataframe tbody tr th:only-of-type {\n",
       "        vertical-align: middle;\n",
       "    }\n",
       "\n",
       "    .dataframe tbody tr th {\n",
       "        vertical-align: top;\n",
       "    }\n",
       "\n",
       "    .dataframe thead th {\n",
       "        text-align: right;\n",
       "    }\n",
       "</style>\n",
       "<table border=\"1\" class=\"dataframe\">\n",
       "  <thead>\n",
       "    <tr style=\"text-align: right;\">\n",
       "      <th>XDSegID</th>\n",
       "      <th>155725149</th>\n",
       "      <th>155730113</th>\n",
       "      <th>155742183</th>\n",
       "      <th>155751635</th>\n",
       "      <th>155783062</th>\n",
       "      <th>155791217</th>\n",
       "      <th>155792268</th>\n",
       "      <th>155795795</th>\n",
       "      <th>155796708</th>\n",
       "      <th>155802488</th>\n",
       "      <th>...</th>\n",
       "      <th>1524643235</th>\n",
       "      <th>1524643236</th>\n",
       "      <th>1524643817</th>\n",
       "      <th>1524643823</th>\n",
       "      <th>1524644550</th>\n",
       "      <th>1524644585</th>\n",
       "      <th>1524645372</th>\n",
       "      <th>1524646416</th>\n",
       "      <th>1524646417</th>\n",
       "      <th>1524646899</th>\n",
       "    </tr>\n",
       "    <tr>\n",
       "      <th>datetime</th>\n",
       "      <th></th>\n",
       "      <th></th>\n",
       "      <th></th>\n",
       "      <th></th>\n",
       "      <th></th>\n",
       "      <th></th>\n",
       "      <th></th>\n",
       "      <th></th>\n",
       "      <th></th>\n",
       "      <th></th>\n",
       "      <th></th>\n",
       "      <th></th>\n",
       "      <th></th>\n",
       "      <th></th>\n",
       "      <th></th>\n",
       "      <th></th>\n",
       "      <th></th>\n",
       "      <th></th>\n",
       "      <th></th>\n",
       "      <th></th>\n",
       "      <th></th>\n",
       "    </tr>\n",
       "  </thead>\n",
       "  <tbody>\n",
       "    <tr>\n",
       "      <th>2019-01-07 00:00:00</th>\n",
       "      <td>0.087607</td>\n",
       "      <td>0.0</td>\n",
       "      <td>0.008056</td>\n",
       "      <td>0.022222</td>\n",
       "      <td>0.131170</td>\n",
       "      <td>0.212972</td>\n",
       "      <td>0.096785</td>\n",
       "      <td>0.020062</td>\n",
       "      <td>0.009492</td>\n",
       "      <td>0.011838</td>\n",
       "      <td>...</td>\n",
       "      <td>0.032090</td>\n",
       "      <td>0.025346</td>\n",
       "      <td>0.097543</td>\n",
       "      <td>0.014836</td>\n",
       "      <td>0.049368</td>\n",
       "      <td>0.005659</td>\n",
       "      <td>0.023771</td>\n",
       "      <td>0.006582</td>\n",
       "      <td>0.003830</td>\n",
       "      <td>0.010686</td>\n",
       "    </tr>\n",
       "    <tr>\n",
       "      <th>2019-01-07 00:05:00</th>\n",
       "      <td>0.087607</td>\n",
       "      <td>0.0</td>\n",
       "      <td>0.000000</td>\n",
       "      <td>0.017296</td>\n",
       "      <td>0.137091</td>\n",
       "      <td>0.215983</td>\n",
       "      <td>0.085160</td>\n",
       "      <td>0.017485</td>\n",
       "      <td>0.009297</td>\n",
       "      <td>0.012255</td>\n",
       "      <td>...</td>\n",
       "      <td>0.021134</td>\n",
       "      <td>0.023905</td>\n",
       "      <td>0.088059</td>\n",
       "      <td>0.015903</td>\n",
       "      <td>0.054750</td>\n",
       "      <td>0.013968</td>\n",
       "      <td>0.026696</td>\n",
       "      <td>0.004487</td>\n",
       "      <td>0.006674</td>\n",
       "      <td>0.002984</td>\n",
       "    </tr>\n",
       "    <tr>\n",
       "      <th>2019-01-07 00:10:00</th>\n",
       "      <td>0.072222</td>\n",
       "      <td>0.0</td>\n",
       "      <td>0.000000</td>\n",
       "      <td>0.008278</td>\n",
       "      <td>0.145424</td>\n",
       "      <td>0.216760</td>\n",
       "      <td>0.082966</td>\n",
       "      <td>0.014281</td>\n",
       "      <td>0.005208</td>\n",
       "      <td>0.010772</td>\n",
       "      <td>...</td>\n",
       "      <td>0.015278</td>\n",
       "      <td>0.023905</td>\n",
       "      <td>0.088548</td>\n",
       "      <td>0.018165</td>\n",
       "      <td>0.045044</td>\n",
       "      <td>0.006725</td>\n",
       "      <td>0.034862</td>\n",
       "      <td>0.002511</td>\n",
       "      <td>0.000928</td>\n",
       "      <td>0.011048</td>\n",
       "    </tr>\n",
       "    <tr>\n",
       "      <th>2019-01-07 00:15:00</th>\n",
       "      <td>0.061197</td>\n",
       "      <td>0.0</td>\n",
       "      <td>0.004537</td>\n",
       "      <td>0.000000</td>\n",
       "      <td>0.101404</td>\n",
       "      <td>0.067195</td>\n",
       "      <td>0.113464</td>\n",
       "      <td>0.014090</td>\n",
       "      <td>0.004089</td>\n",
       "      <td>0.002451</td>\n",
       "      <td>...</td>\n",
       "      <td>0.010648</td>\n",
       "      <td>0.016382</td>\n",
       "      <td>0.063659</td>\n",
       "      <td>0.041118</td>\n",
       "      <td>0.063761</td>\n",
       "      <td>0.008152</td>\n",
       "      <td>0.033829</td>\n",
       "      <td>0.006595</td>\n",
       "      <td>0.005158</td>\n",
       "      <td>0.006564</td>\n",
       "    </tr>\n",
       "    <tr>\n",
       "      <th>2019-01-07 00:20:00</th>\n",
       "      <td>0.068376</td>\n",
       "      <td>0.0</td>\n",
       "      <td>0.009259</td>\n",
       "      <td>0.000000</td>\n",
       "      <td>0.083333</td>\n",
       "      <td>0.067249</td>\n",
       "      <td>0.112714</td>\n",
       "      <td>0.018842</td>\n",
       "      <td>0.002799</td>\n",
       "      <td>0.002451</td>\n",
       "      <td>...</td>\n",
       "      <td>0.012037</td>\n",
       "      <td>0.018118</td>\n",
       "      <td>0.065471</td>\n",
       "      <td>0.037094</td>\n",
       "      <td>0.041159</td>\n",
       "      <td>0.011034</td>\n",
       "      <td>0.029079</td>\n",
       "      <td>0.016778</td>\n",
       "      <td>0.007937</td>\n",
       "      <td>0.005961</td>\n",
       "    </tr>\n",
       "  </tbody>\n",
       "</table>\n",
       "<p>5 rows × 6928 columns</p>\n",
       "</div>"
      ],
      "text/plain": [
       "XDSegID              155725149   155730113   155742183   155751635   \\\n",
       "datetime                                                              \n",
       "2019-01-07 00:00:00    0.087607         0.0    0.008056    0.022222   \n",
       "2019-01-07 00:05:00    0.087607         0.0    0.000000    0.017296   \n",
       "2019-01-07 00:10:00    0.072222         0.0    0.000000    0.008278   \n",
       "2019-01-07 00:15:00    0.061197         0.0    0.004537    0.000000   \n",
       "2019-01-07 00:20:00    0.068376         0.0    0.009259    0.000000   \n",
       "\n",
       "XDSegID              155783062   155791217   155792268   155795795   \\\n",
       "datetime                                                              \n",
       "2019-01-07 00:00:00    0.131170    0.212972    0.096785    0.020062   \n",
       "2019-01-07 00:05:00    0.137091    0.215983    0.085160    0.017485   \n",
       "2019-01-07 00:10:00    0.145424    0.216760    0.082966    0.014281   \n",
       "2019-01-07 00:15:00    0.101404    0.067195    0.113464    0.014090   \n",
       "2019-01-07 00:20:00    0.083333    0.067249    0.112714    0.018842   \n",
       "\n",
       "XDSegID              155796708   155802488   ...  1524643235  1524643236  \\\n",
       "datetime                                     ...                           \n",
       "2019-01-07 00:00:00    0.009492    0.011838  ...    0.032090    0.025346   \n",
       "2019-01-07 00:05:00    0.009297    0.012255  ...    0.021134    0.023905   \n",
       "2019-01-07 00:10:00    0.005208    0.010772  ...    0.015278    0.023905   \n",
       "2019-01-07 00:15:00    0.004089    0.002451  ...    0.010648    0.016382   \n",
       "2019-01-07 00:20:00    0.002799    0.002451  ...    0.012037    0.018118   \n",
       "\n",
       "XDSegID              1524643817  1524643823  1524644550  1524644585  \\\n",
       "datetime                                                              \n",
       "2019-01-07 00:00:00    0.097543    0.014836    0.049368    0.005659   \n",
       "2019-01-07 00:05:00    0.088059    0.015903    0.054750    0.013968   \n",
       "2019-01-07 00:10:00    0.088548    0.018165    0.045044    0.006725   \n",
       "2019-01-07 00:15:00    0.063659    0.041118    0.063761    0.008152   \n",
       "2019-01-07 00:20:00    0.065471    0.037094    0.041159    0.011034   \n",
       "\n",
       "XDSegID              1524645372  1524646416  1524646417  1524646899  \n",
       "datetime                                                             \n",
       "2019-01-07 00:00:00    0.023771    0.006582    0.003830    0.010686  \n",
       "2019-01-07 00:05:00    0.026696    0.004487    0.006674    0.002984  \n",
       "2019-01-07 00:10:00    0.034862    0.002511    0.000928    0.011048  \n",
       "2019-01-07 00:15:00    0.033829    0.006595    0.005158    0.006564  \n",
       "2019-01-07 00:20:00    0.029079    0.016778    0.007937    0.005961  \n",
       "\n",
       "[5 rows x 6928 columns]"
      ]
     },
     "execution_count": 376,
     "metadata": {},
     "output_type": "execute_result"
    }
   ],
   "source": [
    "# Converting the df_overeall_all to a usable dataframe\n",
    "fp = os.path.join(data_dir, 'overall_means.pkl')\n",
    "df_overall_all = pd.read_pickle(fp)\n",
    "active_segments = df_overall_all.droplevel([0, 1]).reset_index()['XDSegID'].unique().tolist()\n",
    "\n",
    "datasets = 'congestion_mean' #congestion_mean\n",
    "days_in_a_week = range(7)\n",
    "week_df = []\n",
    "for day in days_in_a_week:\n",
    "    week_df.append(df_overall_all.xs((day))[datasets].unstack(\"window\").T)\n",
    "week_df = pd.concat(week_df, axis=0)\n",
    "# starts on a monday (dayofweek=0)\n",
    "_df = data_proc.convert_windows_to_dt_df(week_df, date='2019-01-07')\n",
    "_df = _df[active_segments]\n",
    "_df.head()"
   ]
  },
  {
   "cell_type": "code",
   "execution_count": 377,
   "id": "acting-nancy",
   "metadata": {},
   "outputs": [],
   "source": [
    "time_start = '06:00:00'\n",
    "time_end   = '21:00:00'\n",
    "data_column = 'congestion_mean'\n",
    "granularity = 5\n",
    "days = [0, 1, 2, 3, 4] # weekday\n",
    "sub_df = _df[_df.index.dayofweek.isin(days)].between_time(time_start, time_end)"
   ]
  },
  {
   "cell_type": "code",
   "execution_count": 379,
   "id": "active-chambers",
   "metadata": {},
   "outputs": [],
   "source": [
    "def get_correlation(segment_1_ID, segment_2_ID, _method='pearson'):\n",
    "    segment_1_data = sub_df[segment_1_ID]\n",
    "    segment_2_data = sub_df[segment_2_ID]\n",
    "    return segment_1_data.corr(segment_2_data, method=_method)"
   ]
  },
  {
   "cell_type": "code",
   "execution_count": 382,
   "id": "fiscal-heating",
   "metadata": {},
   "outputs": [
    {
     "name": "stdout",
     "output_type": "stream",
     "text": [
      "Name: \n",
      "Type: MultiDiGraph\n",
      "Number of nodes: 5553\n",
      "Number of edges: 5488\n",
      "Average in degree:   0.9883\n",
      "Average out degree:   0.9883\n",
      "[449614803, 441419950.0, 449630928.0, 1524407697.0, 449630862.0, 156069304.0]\n",
      "['0.1354', '0.4266', '0.5111', '0.5717', '0.1166', '0.1801', '0.5008']\n"
     ]
    },
    {
     "data": {
      "text/plain": [
       "[0.34887949117320166]"
      ]
     },
     "execution_count": 382,
     "metadata": {},
     "output_type": "execute_result"
    }
   ],
   "source": [
    "\n",
    "from itertools import combinations\n",
    "overall_correlation = []\n",
    "fp = os.path.join(data_dir, f'positive_correlation_SG_0.7.pkl')\n",
    "SG = nx.read_gpickle(fp)\n",
    "print(nx.info(SG))\n",
    "cluster = bad_cluster\n",
    "print(cluster)\n",
    "combos = list(combinations(cluster, 2))\n",
    "correlations = []\n",
    "for c in combos:\n",
    "    ed = SG.get_edge_data(*c, 0)\n",
    "    correlation = get_correlation(c[0], c[1])\n",
    "    if correlation > 0:\n",
    "        correlations.append(correlation)\n",
    "pprint([f\"{c:.4f}\" for c in correlations])\n",
    "correlations = np.asarray(correlations)\n",
    "overall_correlation.append(np.mean(correlations) if np.mean(correlations) > 0 else 0)\n",
    "overall_correlation"
   ]
  },
  {
   "cell_type": "markdown",
   "id": "complex-youth",
   "metadata": {},
   "source": [
    "# For getting MAD of different cluster"
   ]
  },
  {
   "cell_type": "code",
   "execution_count": 327,
   "id": "english-orchestra",
   "metadata": {},
   "outputs": [],
   "source": [
    "MAD_clusters = {0.1: [159993250.0,\n",
    "  441419742.0,\n",
    "  441419743.0,\n",
    "  441552618.0,\n",
    "  441552619.0,\n",
    "  1524264921.0,\n",
    "  1524518468.0],\n",
    " 0.3: [159993250.0,\n",
    "  441419742.0,\n",
    "  441419743.0,\n",
    "  441550769.0,\n",
    "  441550770.0,\n",
    "  441552618.0,\n",
    "  441552619.0,\n",
    "  1524264921.0,\n",
    "  1524296480.0,\n",
    "  1524514760.0,\n",
    "  1524518468.0,\n",
    "  1524556772.0],\n",
    " 0.5: [159993250.0,\n",
    "  441419742.0,\n",
    "  441419743.0,\n",
    "  441550769.0,\n",
    "  441550770.0,\n",
    "  441552618.0,\n",
    "  441552619.0,\n",
    "  449574979.0,\n",
    "  449574980.0,\n",
    "  449614956.0,\n",
    "  449614957.0,\n",
    "  449614958.0,\n",
    "  449614961.0,\n",
    "  449629816.0,\n",
    "  449629817.0,\n",
    "  449629818.0,\n",
    "  449629819.0,\n",
    "  449629823.0,\n",
    "  449629824.0,\n",
    "  449629825.0,\n",
    "  449629826.0,\n",
    "  1524264921.0,\n",
    "  1524296480.0,\n",
    "  1524357642.0,\n",
    "  1524361819.0,\n",
    "  1524362509.0,\n",
    "  1524416497.0,\n",
    "  1524514760.0,\n",
    "  1524518468.0,\n",
    "  1524556772.0],\n",
    " 0.7: [159993250.0,\n",
    "  441419742.0,\n",
    "  441419743.0,\n",
    "  441550769.0,\n",
    "  441550770.0,\n",
    "  441552618.0,\n",
    "  441552619.0,\n",
    "  449574979.0,\n",
    "  449574980.0,\n",
    "  449614956.0,\n",
    "  449614957.0,\n",
    "  449629813.0,\n",
    "  449629814.0,\n",
    "  449629816.0,\n",
    "  449629817.0,\n",
    "  449629823.0,\n",
    "  449629824.0,\n",
    "  449629825.0,\n",
    "  449629826.0,\n",
    "  1524264921.0,\n",
    "  1524296480.0,\n",
    "  1524361819.0,\n",
    "  1524362509.0,\n",
    "  1524402609.0,\n",
    "  1524514760.0,\n",
    "  1524518468.0,\n",
    "  1524556772.0],\n",
    " 0.9: [159993250.0,\n",
    "  441419742.0,\n",
    "  441419743.0,\n",
    "  441550769.0,\n",
    "  441550770.0,\n",
    "  441552618.0,\n",
    "  441552619.0,\n",
    "  449574979.0,\n",
    "  449574980.0,\n",
    "  449614956.0,\n",
    "  449614957.0,\n",
    "  449629813.0,\n",
    "  449629814.0,\n",
    "  449629816.0,\n",
    "  449629817.0,\n",
    "  449629823.0,\n",
    "  449629824.0,\n",
    "  449629825.0,\n",
    "  449629826.0,\n",
    "  1524264921.0,\n",
    "  1524296480.0,\n",
    "  1524361819.0,\n",
    "  1524362509.0,\n",
    "  1524402609.0,\n",
    "  1524514760.0,\n",
    "  1524518468.0,\n",
    "  1524556772.0]}"
   ]
  },
  {
   "cell_type": "code",
   "execution_count": 331,
   "id": "clear-classroom",
   "metadata": {},
   "outputs": [
    {
     "name": "stdout",
     "output_type": "stream",
     "text": [
      "ALL_5m_DF_2019_1...\n"
     ]
    },
    {
     "data": {
      "application/vnd.jupyter.widget-view+json": {
       "model_id": "483fa2ae209b4db6bf1a3289b3a07632",
       "version_major": 2,
       "version_minor": 0
      },
      "text/plain": [
       "  0%|          | 0/5 [00:00<?, ?it/s]"
      ]
     },
     "metadata": {},
     "output_type": "display_data"
    },
    {
     "name": "stdout",
     "output_type": "stream",
     "text": [
      "ALL_5m_DF_2019_2...\n"
     ]
    },
    {
     "data": {
      "application/vnd.jupyter.widget-view+json": {
       "model_id": "1d8e64d472ce4a12b00afb50ca7f4d4d",
       "version_major": 2,
       "version_minor": 0
      },
      "text/plain": [
       "  0%|          | 0/5 [00:00<?, ?it/s]"
      ]
     },
     "metadata": {},
     "output_type": "display_data"
    },
    {
     "name": "stdout",
     "output_type": "stream",
     "text": [
      "ALL_5m_DF_2019_3...\n"
     ]
    },
    {
     "data": {
      "application/vnd.jupyter.widget-view+json": {
       "model_id": "e73c56b2707b4959b0d0417a027acf9f",
       "version_major": 2,
       "version_minor": 0
      },
      "text/plain": [
       "  0%|          | 0/5 [00:00<?, ?it/s]"
      ]
     },
     "metadata": {},
     "output_type": "display_data"
    },
    {
     "name": "stdout",
     "output_type": "stream",
     "text": [
      "ALL_5m_DF_2019_4...\n"
     ]
    },
    {
     "data": {
      "application/vnd.jupyter.widget-view+json": {
       "model_id": "cdcbf6c68242493382fca9c6ff61aa2f",
       "version_major": 2,
       "version_minor": 0
      },
      "text/plain": [
       "  0%|          | 0/5 [00:00<?, ?it/s]"
      ]
     },
     "metadata": {},
     "output_type": "display_data"
    },
    {
     "name": "stdout",
     "output_type": "stream",
     "text": [
      "ALL_5m_DF_2019_5...\n"
     ]
    },
    {
     "data": {
      "application/vnd.jupyter.widget-view+json": {
       "model_id": "33993422e3084c78b5fb960c18f74a59",
       "version_major": 2,
       "version_minor": 0
      },
      "text/plain": [
       "  0%|          | 0/5 [00:00<?, ?it/s]"
      ]
     },
     "metadata": {},
     "output_type": "display_data"
    },
    {
     "name": "stdout",
     "output_type": "stream",
     "text": [
      "ALL_5m_DF_2019_6...\n"
     ]
    },
    {
     "data": {
      "application/vnd.jupyter.widget-view+json": {
       "model_id": "9147ec3ba34342a59ca3900d6d5f9023",
       "version_major": 2,
       "version_minor": 0
      },
      "text/plain": [
       "  0%|          | 0/5 [00:00<?, ?it/s]"
      ]
     },
     "metadata": {},
     "output_type": "display_data"
    },
    {
     "name": "stdout",
     "output_type": "stream",
     "text": [
      "ALL_5m_DF_2019_7...\n"
     ]
    },
    {
     "data": {
      "application/vnd.jupyter.widget-view+json": {
       "model_id": "faa815e16727469bb2ba58aa4e602525",
       "version_major": 2,
       "version_minor": 0
      },
      "text/plain": [
       "  0%|          | 0/5 [00:00<?, ?it/s]"
      ]
     },
     "metadata": {},
     "output_type": "display_data"
    },
    {
     "name": "stdout",
     "output_type": "stream",
     "text": [
      "ALL_5m_DF_2019_8...\n"
     ]
    },
    {
     "data": {
      "application/vnd.jupyter.widget-view+json": {
       "model_id": "7e4fb28dc8a44abb8e36d3f011862649",
       "version_major": 2,
       "version_minor": 0
      },
      "text/plain": [
       "  0%|          | 0/5 [00:00<?, ?it/s]"
      ]
     },
     "metadata": {},
     "output_type": "display_data"
    },
    {
     "name": "stdout",
     "output_type": "stream",
     "text": [
      "ALL_5m_DF_2019_9...\n"
     ]
    },
    {
     "data": {
      "application/vnd.jupyter.widget-view+json": {
       "model_id": "be5b429de1cf4cd3ae6764a2c8133e5d",
       "version_major": 2,
       "version_minor": 0
      },
      "text/plain": [
       "  0%|          | 0/5 [00:00<?, ?it/s]"
      ]
     },
     "metadata": {},
     "output_type": "display_data"
    },
    {
     "name": "stdout",
     "output_type": "stream",
     "text": [
      "ALL_5m_DF_2019_10...\n"
     ]
    },
    {
     "data": {
      "application/vnd.jupyter.widget-view+json": {
       "model_id": "22655baafe704c29912539b08bf42982",
       "version_major": 2,
       "version_minor": 0
      },
      "text/plain": [
       "  0%|          | 0/5 [00:00<?, ?it/s]"
      ]
     },
     "metadata": {},
     "output_type": "display_data"
    },
    {
     "name": "stdout",
     "output_type": "stream",
     "text": [
      "ALL_5m_DF_2019_11...\n"
     ]
    },
    {
     "data": {
      "application/vnd.jupyter.widget-view+json": {
       "model_id": "d9e06e954f8d44a19641264c0d8b7c19",
       "version_major": 2,
       "version_minor": 0
      },
      "text/plain": [
       "  0%|          | 0/5 [00:00<?, ?it/s]"
      ]
     },
     "metadata": {},
     "output_type": "display_data"
    },
    {
     "name": "stdout",
     "output_type": "stream",
     "text": [
      "ALL_5m_DF_2019_12...\n"
     ]
    },
    {
     "data": {
      "application/vnd.jupyter.widget-view+json": {
       "model_id": "7e77c192af7d430bae8e75fc0ff0412c",
       "version_major": 2,
       "version_minor": 0
      },
      "text/plain": [
       "  0%|          | 0/5 [00:00<?, ?it/s]"
      ]
     },
     "metadata": {},
     "output_type": "display_data"
    },
    {
     "ename": "KeyError",
     "evalue": "'qr_1524401820'",
     "output_type": "error",
     "traceback": [
      "\u001b[0;31m---------------------------------------------------------------------------\u001b[0m",
      "\u001b[0;31mKeyError\u001b[0m                                  Traceback (most recent call last)",
      "\u001b[0;32m/opt/conda/lib/python3.8/site-packages/pandas/core/indexes/base.py\u001b[0m in \u001b[0;36mget_loc\u001b[0;34m(self, key, method, tolerance)\u001b[0m\n\u001b[1;32m   2897\u001b[0m             \u001b[0;32mtry\u001b[0m\u001b[0;34m:\u001b[0m\u001b[0;34m\u001b[0m\u001b[0;34m\u001b[0m\u001b[0m\n\u001b[0;32m-> 2898\u001b[0;31m                 \u001b[0;32mreturn\u001b[0m \u001b[0mself\u001b[0m\u001b[0;34m.\u001b[0m\u001b[0m_engine\u001b[0m\u001b[0;34m.\u001b[0m\u001b[0mget_loc\u001b[0m\u001b[0;34m(\u001b[0m\u001b[0mcasted_key\u001b[0m\u001b[0;34m)\u001b[0m\u001b[0;34m\u001b[0m\u001b[0;34m\u001b[0m\u001b[0m\n\u001b[0m\u001b[1;32m   2899\u001b[0m             \u001b[0;32mexcept\u001b[0m \u001b[0mKeyError\u001b[0m \u001b[0;32mas\u001b[0m \u001b[0merr\u001b[0m\u001b[0;34m:\u001b[0m\u001b[0;34m\u001b[0m\u001b[0;34m\u001b[0m\u001b[0m\n",
      "\u001b[0;32mpandas/_libs/index.pyx\u001b[0m in \u001b[0;36mpandas._libs.index.IndexEngine.get_loc\u001b[0;34m()\u001b[0m\n",
      "\u001b[0;32mpandas/_libs/index.pyx\u001b[0m in \u001b[0;36mpandas._libs.index.IndexEngine.get_loc\u001b[0;34m()\u001b[0m\n",
      "\u001b[0;32mpandas/_libs/hashtable_class_helper.pxi\u001b[0m in \u001b[0;36mpandas._libs.hashtable.PyObjectHashTable.get_item\u001b[0;34m()\u001b[0m\n",
      "\u001b[0;32mpandas/_libs/hashtable_class_helper.pxi\u001b[0m in \u001b[0;36mpandas._libs.hashtable.PyObjectHashTable.get_item\u001b[0;34m()\u001b[0m\n",
      "\u001b[0;31mKeyError\u001b[0m: 'qr_1524401820'",
      "\nThe above exception was the direct cause of the following exception:\n",
      "\u001b[0;31mKeyError\u001b[0m                                  Traceback (most recent call last)",
      "\u001b[0;32m<ipython-input-331-03ba4e77c4a9>\u001b[0m in \u001b[0;36m<module>\u001b[0;34m\u001b[0m\n\u001b[1;32m     44\u001b[0m \u001b[0mfp\u001b[0m \u001b[0;34m=\u001b[0m \u001b[0mos\u001b[0m\u001b[0;34m.\u001b[0m\u001b[0mpath\u001b[0m\u001b[0;34m.\u001b[0m\u001b[0mjoin\u001b[0m\u001b[0;34m(\u001b[0m\u001b[0mdata_dir\u001b[0m\u001b[0;34m,\u001b[0m \u001b[0;34mf'{str(month).zfill(2)}_2019_ratios_MAD_incidents_24h.pkl'\u001b[0m\u001b[0;34m)\u001b[0m\u001b[0;34m\u001b[0m\u001b[0;34m\u001b[0m\u001b[0m\n\u001b[1;32m     45\u001b[0m \u001b[0mclusters_df\u001b[0m\u001b[0;34m.\u001b[0m\u001b[0mto_pickle\u001b[0m\u001b[0;34m(\u001b[0m\u001b[0mfp\u001b[0m\u001b[0;34m)\u001b[0m\u001b[0;34m\u001b[0m\u001b[0;34m\u001b[0m\u001b[0m\n\u001b[0;32m---> 46\u001b[0;31m \u001b[0mclusters_df\u001b[0m\u001b[0;34m[\u001b[0m\u001b[0mclusters_df\u001b[0m\u001b[0;34m.\u001b[0m\u001b[0mindex\u001b[0m\u001b[0;34m.\u001b[0m\u001b[0mday\u001b[0m \u001b[0;34m==\u001b[0m \u001b[0;36m1\u001b[0m\u001b[0;34m]\u001b[0m\u001b[0;34m[\u001b[0m\u001b[0;34m'qr_1524401820'\u001b[0m\u001b[0;34m]\u001b[0m\u001b[0;34m.\u001b[0m\u001b[0mplot\u001b[0m\u001b[0;34m(\u001b[0m\u001b[0mlegend\u001b[0m\u001b[0;34m=\u001b[0m\u001b[0;32mTrue\u001b[0m\u001b[0;34m)\u001b[0m\u001b[0;34m\u001b[0m\u001b[0;34m\u001b[0m\u001b[0m\n\u001b[0m",
      "\u001b[0;32m/opt/conda/lib/python3.8/site-packages/pandas/core/frame.py\u001b[0m in \u001b[0;36m__getitem__\u001b[0;34m(self, key)\u001b[0m\n\u001b[1;32m   2904\u001b[0m             \u001b[0;32mif\u001b[0m \u001b[0mself\u001b[0m\u001b[0;34m.\u001b[0m\u001b[0mcolumns\u001b[0m\u001b[0;34m.\u001b[0m\u001b[0mnlevels\u001b[0m \u001b[0;34m>\u001b[0m \u001b[0;36m1\u001b[0m\u001b[0;34m:\u001b[0m\u001b[0;34m\u001b[0m\u001b[0;34m\u001b[0m\u001b[0m\n\u001b[1;32m   2905\u001b[0m                 \u001b[0;32mreturn\u001b[0m \u001b[0mself\u001b[0m\u001b[0;34m.\u001b[0m\u001b[0m_getitem_multilevel\u001b[0m\u001b[0;34m(\u001b[0m\u001b[0mkey\u001b[0m\u001b[0;34m)\u001b[0m\u001b[0;34m\u001b[0m\u001b[0;34m\u001b[0m\u001b[0m\n\u001b[0;32m-> 2906\u001b[0;31m             \u001b[0mindexer\u001b[0m \u001b[0;34m=\u001b[0m \u001b[0mself\u001b[0m\u001b[0;34m.\u001b[0m\u001b[0mcolumns\u001b[0m\u001b[0;34m.\u001b[0m\u001b[0mget_loc\u001b[0m\u001b[0;34m(\u001b[0m\u001b[0mkey\u001b[0m\u001b[0;34m)\u001b[0m\u001b[0;34m\u001b[0m\u001b[0;34m\u001b[0m\u001b[0m\n\u001b[0m\u001b[1;32m   2907\u001b[0m             \u001b[0;32mif\u001b[0m \u001b[0mis_integer\u001b[0m\u001b[0;34m(\u001b[0m\u001b[0mindexer\u001b[0m\u001b[0;34m)\u001b[0m\u001b[0;34m:\u001b[0m\u001b[0;34m\u001b[0m\u001b[0;34m\u001b[0m\u001b[0m\n\u001b[1;32m   2908\u001b[0m                 \u001b[0mindexer\u001b[0m \u001b[0;34m=\u001b[0m \u001b[0;34m[\u001b[0m\u001b[0mindexer\u001b[0m\u001b[0;34m]\u001b[0m\u001b[0;34m\u001b[0m\u001b[0;34m\u001b[0m\u001b[0m\n",
      "\u001b[0;32m/opt/conda/lib/python3.8/site-packages/pandas/core/indexes/base.py\u001b[0m in \u001b[0;36mget_loc\u001b[0;34m(self, key, method, tolerance)\u001b[0m\n\u001b[1;32m   2898\u001b[0m                 \u001b[0;32mreturn\u001b[0m \u001b[0mself\u001b[0m\u001b[0;34m.\u001b[0m\u001b[0m_engine\u001b[0m\u001b[0;34m.\u001b[0m\u001b[0mget_loc\u001b[0m\u001b[0;34m(\u001b[0m\u001b[0mcasted_key\u001b[0m\u001b[0;34m)\u001b[0m\u001b[0;34m\u001b[0m\u001b[0;34m\u001b[0m\u001b[0m\n\u001b[1;32m   2899\u001b[0m             \u001b[0;32mexcept\u001b[0m \u001b[0mKeyError\u001b[0m \u001b[0;32mas\u001b[0m \u001b[0merr\u001b[0m\u001b[0;34m:\u001b[0m\u001b[0;34m\u001b[0m\u001b[0;34m\u001b[0m\u001b[0m\n\u001b[0;32m-> 2900\u001b[0;31m                 \u001b[0;32mraise\u001b[0m \u001b[0mKeyError\u001b[0m\u001b[0;34m(\u001b[0m\u001b[0mkey\u001b[0m\u001b[0;34m)\u001b[0m \u001b[0;32mfrom\u001b[0m \u001b[0merr\u001b[0m\u001b[0;34m\u001b[0m\u001b[0;34m\u001b[0m\u001b[0m\n\u001b[0m\u001b[1;32m   2901\u001b[0m \u001b[0;34m\u001b[0m\u001b[0m\n\u001b[1;32m   2902\u001b[0m         \u001b[0;32mif\u001b[0m \u001b[0mtolerance\u001b[0m \u001b[0;32mis\u001b[0m \u001b[0;32mnot\u001b[0m \u001b[0;32mNone\u001b[0m\u001b[0;34m:\u001b[0m\u001b[0;34m\u001b[0m\u001b[0;34m\u001b[0m\u001b[0m\n",
      "\u001b[0;31mKeyError\u001b[0m: 'qr_1524401820'"
     ]
    }
   ],
   "source": [
    "# incident = '2019-08-01 18:35:00'\n",
    "month = 8\n",
    "for month in range(1, 13):\n",
    "    print(f'ALL_5m_DF_2019_{month}...')\n",
    "    DF_All = DF_ALL_Arr[month - 1]\n",
    "\n",
    "    start = time.time()\n",
    "\n",
    "    cluster_dfs = []\n",
    "    #     for cluster_head in tqdm(clusters):\n",
    "    for cluster_head in tqdm([0.1, 0.3, 0.5, 0.7, 0.9]):\n",
    "        cluster = MAD_clusters[cluster_head]\n",
    "\n",
    "        a = DF_All[DF_All['XDSegID'].isin(cluster)].reset_index().dropna()\n",
    "\n",
    "        # This is to guard from very incomplete clusters\n",
    "        existing_segs = a.XDSegID.unique().tolist()\n",
    "        if (len(existing_segs)/len(cluster)) < 0.5:\n",
    "            a[:] = np.nan\n",
    "\n",
    "        a = a.groupby(['time_local', 'XDSegID']).agg({\"speed_mean\": ['mean']})\n",
    "        a = a.droplevel(0, axis=1)\n",
    "        a = a.groupby(['time_local']).agg({\"mean\": [hmean, 'mean']})\n",
    "\n",
    "        # Added this for granularity purposes (hopefully it is right)\n",
    "        if not a.empty:\n",
    "            a = a.resample(f\"{granularity}T\").mean()\n",
    "\n",
    "        a['qr'] = a['mean']['hmean']/a['mean']['mean']\n",
    "    #         a = a[['qr']].rename(columns={'qr':cluster_head})\n",
    "\n",
    "        # Addendum: To calculate AD(t) ratio\n",
    "    #         a = a[['qr']].rename(columns={'qr':cluster_head})\n",
    "    #         h = a['mean']['hmean']\n",
    "        a = a.droplevel(0, axis=1) \n",
    "        a = a.rename(columns={'hmean':f\"hm_{cluster_head}\",\n",
    "                              'mean' :f\"am_{cluster_head}\",\n",
    "                              ''     :f\"qr_{cluster_head}\"})\n",
    "        cluster_dfs.append(a)\n",
    "\n",
    "elapsed = time.time() - start\n",
    "#     print(f\"Done in: {elapsed} s\")\n",
    "clusters_df = pd.concat(cluster_dfs, axis=1)\n",
    "fp = os.path.join(data_dir, f'{str(month).zfill(2)}_2019_ratios_MAD_incidents_24h.pkl')\n",
    "clusters_df.to_pickle(fp)\n",
    "clusters_df[clusters_df.index.day == 1]['qr_1524401820'].plot(legend=True)"
   ]
  },
  {
   "cell_type": "code",
   "execution_count": 329,
   "id": "characteristic-guinea",
   "metadata": {},
   "outputs": [
    {
     "data": {
      "text/html": [
       "<div>\n",
       "<style scoped>\n",
       "    .dataframe tbody tr th:only-of-type {\n",
       "        vertical-align: middle;\n",
       "    }\n",
       "\n",
       "    .dataframe tbody tr th {\n",
       "        vertical-align: top;\n",
       "    }\n",
       "\n",
       "    .dataframe thead th {\n",
       "        text-align: right;\n",
       "    }\n",
       "</style>\n",
       "<table border=\"1\" class=\"dataframe\">\n",
       "  <thead>\n",
       "    <tr style=\"text-align: right;\">\n",
       "      <th></th>\n",
       "      <th>hm_0.1</th>\n",
       "      <th>am_0.1</th>\n",
       "      <th>qr_0.1</th>\n",
       "      <th>hm_0.3</th>\n",
       "      <th>am_0.3</th>\n",
       "      <th>qr_0.3</th>\n",
       "      <th>hm_0.5</th>\n",
       "      <th>am_0.5</th>\n",
       "      <th>qr_0.5</th>\n",
       "      <th>hm_0.7</th>\n",
       "      <th>am_0.7</th>\n",
       "      <th>qr_0.7</th>\n",
       "      <th>hm_0.9</th>\n",
       "      <th>am_0.9</th>\n",
       "      <th>qr_0.9</th>\n",
       "    </tr>\n",
       "    <tr>\n",
       "      <th>time_local</th>\n",
       "      <th></th>\n",
       "      <th></th>\n",
       "      <th></th>\n",
       "      <th></th>\n",
       "      <th></th>\n",
       "      <th></th>\n",
       "      <th></th>\n",
       "      <th></th>\n",
       "      <th></th>\n",
       "      <th></th>\n",
       "      <th></th>\n",
       "      <th></th>\n",
       "      <th></th>\n",
       "      <th></th>\n",
       "      <th></th>\n",
       "    </tr>\n",
       "  </thead>\n",
       "  <tbody>\n",
       "    <tr>\n",
       "      <th>2019-08-01 00:00:00</th>\n",
       "      <td>29.247661</td>\n",
       "      <td>32.618571</td>\n",
       "      <td>0.896657</td>\n",
       "      <td>29.705914</td>\n",
       "      <td>34.360000</td>\n",
       "      <td>0.864549</td>\n",
       "      <td>27.001097</td>\n",
       "      <td>31.200667</td>\n",
       "      <td>0.865401</td>\n",
       "      <td>26.663076</td>\n",
       "      <td>30.470000</td>\n",
       "      <td>0.875060</td>\n",
       "      <td>26.663076</td>\n",
       "      <td>30.470000</td>\n",
       "      <td>0.875060</td>\n",
       "    </tr>\n",
       "    <tr>\n",
       "      <th>2019-08-01 00:05:00</th>\n",
       "      <td>28.914531</td>\n",
       "      <td>32.251429</td>\n",
       "      <td>0.896535</td>\n",
       "      <td>29.537716</td>\n",
       "      <td>34.311667</td>\n",
       "      <td>0.860865</td>\n",
       "      <td>27.213547</td>\n",
       "      <td>31.439333</td>\n",
       "      <td>0.865589</td>\n",
       "      <td>26.816182</td>\n",
       "      <td>30.447407</td>\n",
       "      <td>0.880738</td>\n",
       "      <td>26.816182</td>\n",
       "      <td>30.447407</td>\n",
       "      <td>0.880738</td>\n",
       "    </tr>\n",
       "    <tr>\n",
       "      <th>2019-08-01 00:10:00</th>\n",
       "      <td>27.894227</td>\n",
       "      <td>31.714286</td>\n",
       "      <td>0.879548</td>\n",
       "      <td>29.456162</td>\n",
       "      <td>34.115000</td>\n",
       "      <td>0.863437</td>\n",
       "      <td>27.145925</td>\n",
       "      <td>31.016333</td>\n",
       "      <td>0.875214</td>\n",
       "      <td>26.682979</td>\n",
       "      <td>29.907778</td>\n",
       "      <td>0.892175</td>\n",
       "      <td>26.682979</td>\n",
       "      <td>29.907778</td>\n",
       "      <td>0.892175</td>\n",
       "    </tr>\n",
       "    <tr>\n",
       "      <th>2019-08-01 00:15:00</th>\n",
       "      <td>28.461159</td>\n",
       "      <td>32.312857</td>\n",
       "      <td>0.880800</td>\n",
       "      <td>29.485533</td>\n",
       "      <td>34.302500</td>\n",
       "      <td>0.859574</td>\n",
       "      <td>26.347891</td>\n",
       "      <td>30.563667</td>\n",
       "      <td>0.862066</td>\n",
       "      <td>26.110500</td>\n",
       "      <td>29.552222</td>\n",
       "      <td>0.883538</td>\n",
       "      <td>26.110500</td>\n",
       "      <td>29.552222</td>\n",
       "      <td>0.883538</td>\n",
       "    </tr>\n",
       "    <tr>\n",
       "      <th>2019-08-01 00:20:00</th>\n",
       "      <td>30.356634</td>\n",
       "      <td>33.325714</td>\n",
       "      <td>0.910907</td>\n",
       "      <td>30.984930</td>\n",
       "      <td>35.156667</td>\n",
       "      <td>0.881339</td>\n",
       "      <td>27.046789</td>\n",
       "      <td>30.885667</td>\n",
       "      <td>0.875707</td>\n",
       "      <td>27.274982</td>\n",
       "      <td>30.509630</td>\n",
       "      <td>0.893979</td>\n",
       "      <td>27.274982</td>\n",
       "      <td>30.509630</td>\n",
       "      <td>0.893979</td>\n",
       "    </tr>\n",
       "    <tr>\n",
       "      <th>...</th>\n",
       "      <td>...</td>\n",
       "      <td>...</td>\n",
       "      <td>...</td>\n",
       "      <td>...</td>\n",
       "      <td>...</td>\n",
       "      <td>...</td>\n",
       "      <td>...</td>\n",
       "      <td>...</td>\n",
       "      <td>...</td>\n",
       "      <td>...</td>\n",
       "      <td>...</td>\n",
       "      <td>...</td>\n",
       "      <td>...</td>\n",
       "      <td>...</td>\n",
       "      <td>...</td>\n",
       "    </tr>\n",
       "    <tr>\n",
       "      <th>2019-08-31 23:35:00</th>\n",
       "      <td>20.009122</td>\n",
       "      <td>32.762857</td>\n",
       "      <td>0.610726</td>\n",
       "      <td>22.132258</td>\n",
       "      <td>33.493333</td>\n",
       "      <td>0.660796</td>\n",
       "      <td>22.909260</td>\n",
       "      <td>30.690667</td>\n",
       "      <td>0.746457</td>\n",
       "      <td>22.721758</td>\n",
       "      <td>30.270370</td>\n",
       "      <td>0.750627</td>\n",
       "      <td>22.721758</td>\n",
       "      <td>30.270370</td>\n",
       "      <td>0.750627</td>\n",
       "    </tr>\n",
       "    <tr>\n",
       "      <th>2019-08-31 23:40:00</th>\n",
       "      <td>33.989687</td>\n",
       "      <td>37.184286</td>\n",
       "      <td>0.914087</td>\n",
       "      <td>32.430832</td>\n",
       "      <td>36.837500</td>\n",
       "      <td>0.880375</td>\n",
       "      <td>27.294923</td>\n",
       "      <td>31.976667</td>\n",
       "      <td>0.853589</td>\n",
       "      <td>27.258617</td>\n",
       "      <td>31.545185</td>\n",
       "      <td>0.864113</td>\n",
       "      <td>27.258617</td>\n",
       "      <td>31.545185</td>\n",
       "      <td>0.864113</td>\n",
       "    </tr>\n",
       "    <tr>\n",
       "      <th>2019-08-31 23:45:00</th>\n",
       "      <td>33.757091</td>\n",
       "      <td>36.370000</td>\n",
       "      <td>0.928158</td>\n",
       "      <td>32.353503</td>\n",
       "      <td>36.432500</td>\n",
       "      <td>0.888040</td>\n",
       "      <td>26.941616</td>\n",
       "      <td>31.956333</td>\n",
       "      <td>0.843076</td>\n",
       "      <td>26.734207</td>\n",
       "      <td>31.173333</td>\n",
       "      <td>0.857599</td>\n",
       "      <td>26.734207</td>\n",
       "      <td>31.173333</td>\n",
       "      <td>0.857599</td>\n",
       "    </tr>\n",
       "    <tr>\n",
       "      <th>2019-08-31 23:50:00</th>\n",
       "      <td>32.981927</td>\n",
       "      <td>35.544286</td>\n",
       "      <td>0.927911</td>\n",
       "      <td>29.151168</td>\n",
       "      <td>35.151667</td>\n",
       "      <td>0.829297</td>\n",
       "      <td>21.124783</td>\n",
       "      <td>29.377667</td>\n",
       "      <td>0.719076</td>\n",
       "      <td>20.484554</td>\n",
       "      <td>28.171111</td>\n",
       "      <td>0.727148</td>\n",
       "      <td>20.484554</td>\n",
       "      <td>28.171111</td>\n",
       "      <td>0.727148</td>\n",
       "    </tr>\n",
       "    <tr>\n",
       "      <th>2019-08-31 23:55:00</th>\n",
       "      <td>32.370024</td>\n",
       "      <td>35.308571</td>\n",
       "      <td>0.916775</td>\n",
       "      <td>29.543328</td>\n",
       "      <td>35.118333</td>\n",
       "      <td>0.841251</td>\n",
       "      <td>22.436125</td>\n",
       "      <td>30.489000</td>\n",
       "      <td>0.735876</td>\n",
       "      <td>21.739456</td>\n",
       "      <td>29.374074</td>\n",
       "      <td>0.740090</td>\n",
       "      <td>21.739456</td>\n",
       "      <td>29.374074</td>\n",
       "      <td>0.740090</td>\n",
       "    </tr>\n",
       "  </tbody>\n",
       "</table>\n",
       "<p>8928 rows × 15 columns</p>\n",
       "</div>"
      ],
      "text/plain": [
       "                        hm_0.1     am_0.1    qr_0.1     hm_0.3     am_0.3  \\\n",
       "time_local                                                                  \n",
       "2019-08-01 00:00:00  29.247661  32.618571  0.896657  29.705914  34.360000   \n",
       "2019-08-01 00:05:00  28.914531  32.251429  0.896535  29.537716  34.311667   \n",
       "2019-08-01 00:10:00  27.894227  31.714286  0.879548  29.456162  34.115000   \n",
       "2019-08-01 00:15:00  28.461159  32.312857  0.880800  29.485533  34.302500   \n",
       "2019-08-01 00:20:00  30.356634  33.325714  0.910907  30.984930  35.156667   \n",
       "...                        ...        ...       ...        ...        ...   \n",
       "2019-08-31 23:35:00  20.009122  32.762857  0.610726  22.132258  33.493333   \n",
       "2019-08-31 23:40:00  33.989687  37.184286  0.914087  32.430832  36.837500   \n",
       "2019-08-31 23:45:00  33.757091  36.370000  0.928158  32.353503  36.432500   \n",
       "2019-08-31 23:50:00  32.981927  35.544286  0.927911  29.151168  35.151667   \n",
       "2019-08-31 23:55:00  32.370024  35.308571  0.916775  29.543328  35.118333   \n",
       "\n",
       "                       qr_0.3     hm_0.5     am_0.5    qr_0.5     hm_0.7  \\\n",
       "time_local                                                                 \n",
       "2019-08-01 00:00:00  0.864549  27.001097  31.200667  0.865401  26.663076   \n",
       "2019-08-01 00:05:00  0.860865  27.213547  31.439333  0.865589  26.816182   \n",
       "2019-08-01 00:10:00  0.863437  27.145925  31.016333  0.875214  26.682979   \n",
       "2019-08-01 00:15:00  0.859574  26.347891  30.563667  0.862066  26.110500   \n",
       "2019-08-01 00:20:00  0.881339  27.046789  30.885667  0.875707  27.274982   \n",
       "...                       ...        ...        ...       ...        ...   \n",
       "2019-08-31 23:35:00  0.660796  22.909260  30.690667  0.746457  22.721758   \n",
       "2019-08-31 23:40:00  0.880375  27.294923  31.976667  0.853589  27.258617   \n",
       "2019-08-31 23:45:00  0.888040  26.941616  31.956333  0.843076  26.734207   \n",
       "2019-08-31 23:50:00  0.829297  21.124783  29.377667  0.719076  20.484554   \n",
       "2019-08-31 23:55:00  0.841251  22.436125  30.489000  0.735876  21.739456   \n",
       "\n",
       "                        am_0.7    qr_0.7     hm_0.9     am_0.9    qr_0.9  \n",
       "time_local                                                                \n",
       "2019-08-01 00:00:00  30.470000  0.875060  26.663076  30.470000  0.875060  \n",
       "2019-08-01 00:05:00  30.447407  0.880738  26.816182  30.447407  0.880738  \n",
       "2019-08-01 00:10:00  29.907778  0.892175  26.682979  29.907778  0.892175  \n",
       "2019-08-01 00:15:00  29.552222  0.883538  26.110500  29.552222  0.883538  \n",
       "2019-08-01 00:20:00  30.509630  0.893979  27.274982  30.509630  0.893979  \n",
       "...                        ...       ...        ...        ...       ...  \n",
       "2019-08-31 23:35:00  30.270370  0.750627  22.721758  30.270370  0.750627  \n",
       "2019-08-31 23:40:00  31.545185  0.864113  27.258617  31.545185  0.864113  \n",
       "2019-08-31 23:45:00  31.173333  0.857599  26.734207  31.173333  0.857599  \n",
       "2019-08-31 23:50:00  28.171111  0.727148  20.484554  28.171111  0.727148  \n",
       "2019-08-31 23:55:00  29.374074  0.740090  21.739456  29.374074  0.740090  \n",
       "\n",
       "[8928 rows x 15 columns]"
      ]
     },
     "execution_count": 329,
     "metadata": {},
     "output_type": "execute_result"
    }
   ],
   "source": [
    "clusters_df"
   ]
  },
  {
   "cell_type": "code",
   "execution_count": 330,
   "id": "israeli-moisture",
   "metadata": {},
   "outputs": [
    {
     "data": {
      "image/png": "[encoded data removed]",
      "text/plain": [
       "<Figure size 432x288 with 1 Axes>"
      ]
     },
     "metadata": {
      "needs_background": "light"
     },
     "output_type": "display_data"
    }
   ],
   "source": [
    "fig, ax = plt.subplots()\n",
    "mad_arr = []\n",
    "pcuts = [0.1, 0.3, 0.5, 0.7, 0.9]\n",
    "for pcut in pcuts:\n",
    "#     clusters_df[clusters_df.index.day == 1][f\"qr_{pcut}\"].plot(ax=ax)\n",
    "#     clusters_df[f\"qr_{pcut}\"].plot(ax=ax)  \n",
    "    mad = clusters_df[clusters_df.index.day == 6][f\"qr_{pcut}\"].mad()\n",
    "#     mad = clusters_df[f\"qr_{pcut}\"].mad()\n",
    "    mad_arr.append(mad)\n",
    "ax.plot(pcuts, mad_arr, marker='o')\n",
    "\n",
    "\n",
    "ax.set_ylabel(\"MAD Value\", fontsize=17)\n",
    "ax.set_xlabel(r\"$p_{cut}$\", fontsize=17)\n",
    "# We change the fontsize of minor ticks label \n",
    "ax.tick_params(axis='both', which='major', labelsize=12, width=2, length=4)\n",
    "ax.tick_params(axis='both', which='minor', labelsize=12, width=2, length=4)\n",
    "\n",
    "fp = os.path.join(img_dir, 'MAD_value.eps')\n",
    "plt.savefig(fp, dpi=1000, format='eps', bbox_inches='tight')\n",
    "\n",
    "fp = os.path.join(img_dir, 'MAD_value.png')\n",
    "plt.savefig(fp, dpi=200, format='png', bbox_inches='tight')"
   ]
  },
  {
   "cell_type": "code",
   "execution_count": null,
   "id": "metallic-jaguar",
   "metadata": {},
   "outputs": [],
   "source": []
  },
  {
   "cell_type": "code",
   "execution_count": null,
   "id": "demographic-laundry",
   "metadata": {},
   "outputs": [],
   "source": []
  },
  {
   "cell_type": "markdown",
   "id": "earned-interest",
   "metadata": {},
   "source": [
    "# Extra"
   ]
  },
  {
   "cell_type": "code",
   "execution_count": null,
   "id": "verbal-crazy",
   "metadata": {},
   "outputs": [],
   "source": [
    "cluster_head = locate_segment_cluster(156176995, clusters)\n",
    "cluster_heads = [1524471443, 156715863, 449622662, 449617473, 156176995, 1524338417, 1524641496]\n",
    "for c in cluster_heads:\n",
    "    print(c, locate_segment_cluster(c, clusters))"
   ]
  },
  {
   "cell_type": "code",
   "execution_count": null,
   "id": "useful-endorsement",
   "metadata": {},
   "outputs": [],
   "source": [
    "month = 10\n",
    "granularity = 5\n",
    "fp = os.path.join(incident_ratio_dir, f'{str(month).zfill(2)}_2019_ratios_{clustering_version}_gran_{granularity}_incidents_24h.pkl')\n",
    "clusters_df = pd.read_pickle(fp)"
   ]
  },
  {
   "cell_type": "code",
   "execution_count": 24,
   "id": "outstanding-favorite",
   "metadata": {},
   "outputs": [],
   "source": [
    "fp = os.path.join(data_dir, \"all_incidents_ground_truth.pkl\")\n",
    "df_incidents_gt = pd.read_pickle(fp)\n",
    "\n",
    "df_incidents_gt = df_incidents_gt[(df_incidents_gt.index.month == 10) & \n",
    "                                  (df_incidents_gt.XDSegID.isin(clusters[1524397645]))]"
   ]
  },
  {
   "cell_type": "code",
   "execution_count": 21,
   "id": "developed-swedish",
   "metadata": {},
   "outputs": [
    {
     "name": "stdout",
     "output_type": "stream",
     "text": [
      "1524471443, 20.2826, 0.0704\n",
      "156715863, 2.4941, 0.0109\n",
      "449622662, 11.3873, 0.0395\n",
      "449617473, -1, -1\n",
      "156176995, 6.9981, 0.0265\n",
      "1524338417, -1, -1\n",
      "1524641496, 55.9196, 0.1942\n"
     ]
    }
   ],
   "source": [
    "day = 22\n",
    "for c in cluster_heads:\n",
    "    ch = locate_segment_cluster(c, clusters)\n",
    "    if ch < 0:\n",
    "        print(f\"{c}, -1, -1\")\n",
    "    else:\n",
    "        print(f\"{c}, {abs(1.0 - clusters_df[clusters_df.index.day == day][f'qr_{ch}']).sum():.4f}, {abs(1.0 - clusters_df[clusters_df.index.day == day][f'qr_{ch}']).mean():.4f}\")"
   ]
  },
  {
   "cell_type": "code",
   "execution_count": 22,
   "id": "magnetic-momentum",
   "metadata": {},
   "outputs": [
    {
     "data": {
      "image/png": "[encoded data removed]",
      "text/plain": [
       "<Figure size 432x288 with 1 Axes>"
      ]
     },
     "metadata": {
      "needs_background": "light"
     },
     "output_type": "display_data"
    }
   ],
   "source": [
    "# clusters_df #\n",
    "c = 1524471443\n",
    "cluster_head = locate_segment_cluster(c, clusters)\n",
    "\n",
    "ax = clusters_df[clusters_df.index.day == 22][f'qr_{cluster_head}'].plot()\n",
    "# ax = clusters_df[f'qr_{cluster_head}'].plot()\n",
    "ax.set_ylim(0.0, 1.1)\n",
    "for k, v in df_incidents_gt.iterrows():\n",
    "    ax.vlines(x=k, \n",
    "              ymin=0, \n",
    "              ymax=1.1, \n",
    "              colors='blue', ls='--', lw=1, alpha=1.0)\n",
    "    \n",
    "ax.set_ylim(0.0, 1.1)\n",
    "ax.set_title(f'Brute Force: {c}:{len(clusters[cluster_head])} segments')\n",
    "ax.set_ylabel('$Q_{ratio}$')\n",
    "ax.set_xlabel('Time')\n",
    "# ax.legend()\n",
    "fp = os.path.join(img_dir, f'brute_{c}.png')\n",
    "plt.savefig(fp, dpi=200, bbox_inches='tight')"
   ]
  },
  {
   "cell_type": "code",
   "execution_count": 126,
   "id": "operational-wallpaper",
   "metadata": {},
   "outputs": [
    {
     "data": {
      "text/plain": [
       "0.04829807204536816"
      ]
     },
     "execution_count": 126,
     "metadata": {},
     "output_type": "execute_result"
    }
   ],
   "source": [
    "clusters_df[clusters_df.index.day == 22][f'qr_{cluster_head}'].std()"
   ]
  },
  {
   "cell_type": "code",
   "execution_count": 101,
   "id": "impressive-bernard",
   "metadata": {},
   "outputs": [
    {
     "data": {
      "text/plain": [
       "(406, 5.854679802955665, 4, 47, 2377)"
      ]
     },
     "execution_count": 101,
     "metadata": {},
     "output_type": "execute_result"
    }
   ],
   "source": [
    "seg_counts = []\n",
    "for cluster_head in clusters:\n",
    "    seg_counts.append(len(clusters[cluster_head]))\n",
    "seg_counts = np.asarray(seg_counts)\n",
    "len(seg_counts), seg_counts.mean(), seg_counts.min(), seg_counts.max(), seg_counts.sum()\n",
    "# fig, ax = plt.subplots()\n",
    "# ax.hist(seg_counts, bins=[1, 5, 10, 15, 20])"
   ]
  },
  {
   "cell_type": "code",
   "execution_count": 108,
   "id": "reflected-allergy",
   "metadata": {},
   "outputs": [
    {
     "name": "stdout",
     "output_type": "stream",
     "text": [
      "1524471443,0.03354\n",
      "156715863,0.01418\n",
      "449622662,0.04689\n",
      "None\n",
      "None\n",
      "156176995,0.03252\n",
      "None\n",
      "1524641496,0.04830\n"
     ]
    }
   ],
   "source": [
    "\n",
    "for c in [1524471443, 156715863, 449622662, 449621031, 449617473, 156176995, 1524338417, 1524641496]:\n",
    "    cluster_head = locate_segment_cluster(c, clusters)\n",
    "    if cluster_head > -1:\n",
    "        print(f\"{c},{clusters_df[clusters_df.index.day == 22][f'qr_{cluster_head}'].std():.5f}\")\n",
    "    else:\n",
    "        print(\"None\")"
   ]
  },
  {
   "cell_type": "code",
   "execution_count": null,
   "id": "applicable-affiliation",
   "metadata": {},
   "outputs": [],
   "source": []
  }
 ],
 "metadata": {
  "kernelspec": {
   "display_name": "Python 3",
   "language": "python",
   "name": "python3"
  },
  "language_info": {
   "codemirror_mode": {
    "name": "ipython",
    "version": 3
   },
   "file_extension": ".py",
   "mimetype": "text/x-python",
   "name": "python",
   "nbconvert_exporter": "python",
   "pygments_lexer": "ipython3",
   "version": "3.8.8"
  }
 },
 "nbformat": 4,
 "nbformat_minor": 5
}
