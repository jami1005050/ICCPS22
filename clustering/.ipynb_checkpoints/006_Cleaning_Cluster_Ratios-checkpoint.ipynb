{
 "cells": [
  {
   "cell_type": "code",
   "execution_count": 1,
   "id": "signed-poker",
   "metadata": {},
   "outputs": [],
   "source": [
    "%matplotlib inline"
   ]
  },
  {
   "cell_type": "code",
   "execution_count": 2,
   "id": "third-chocolate",
   "metadata": {},
   "outputs": [],
   "source": [
    "%load_ext autoreload"
   ]
  },
  {
   "cell_type": "code",
   "execution_count": 3,
   "id": "minute-citizen",
   "metadata": {},
   "outputs": [],
   "source": [
    "%autoreload 2"
   ]
  },
  {
   "cell_type": "markdown",
   "id": "answering-player",
   "metadata": {},
   "source": [
    "# Clean the cluster ratios\n",
    "* New idea and much more drastic since the averages we used before is not enough\n",
    "* Using cumulative moving average: [Link](https://towardsdatascience.com/moving-averages-in-python-16170e20f6c)\n",
    "* First idea:\n",
    "    * Using incident ground truth\n",
    "    * Get CMA of some time frame before\n",
    "    * After incident, look for first instance that it goes below the CMA (last value)\n",
    "    * Look for next instance that it is greater than or equal to the CMA\n",
    "    * Replace all with CMA\n",
    "    * This uses all the incident ratios generated in the previous notebook: `004_Cluster_Ratio_Generation.ipynb`\n",
    "    * Pickle files are: `f'{str(month).zfill(2)}_2019_ratios_{clustering_version}_gran_{granularity}_incidents_24h.pkl')`"
   ]
  },
  {
   "cell_type": "code",
   "execution_count": 5,
   "id": "clean-bracelet",
   "metadata": {},
   "outputs": [],
   "source": [
    "import pandas as pd\n",
    "pd.options.mode.chained_assignment = None  # default='warn'\n",
    "\n",
    "import random\n",
    "import importlib\n",
    "import numpy as np\n",
    "import pickle\n",
    "import os\n",
    "import json\n",
    "import sys\n",
    "import geopandas as gpd\n",
    "import matplotlib.pyplot as plt\n",
    "import osmnx as ox\n",
    "import networkx as nx\n",
    "import matplotlib.dates as md\n",
    "\n",
    "from matplotlib.lines import Line2D\n",
    "from shapely.geometry import Point, LineString, MultiLineString\n",
    "from tqdm.notebook import tqdm\n",
    "from copy import deepcopy\n",
    "from scipy.stats.stats import pearsonr\n",
    "from scipy.stats import hmean\n",
    "from pprint import pprint\n",
    "from scipy.signal import find_peaks\n",
    "from scipy import signal\n",
    "\n",
    "sys.path.append(\"..\")\n",
    "from src.utils import Read_DF, Call_Back\n",
    "from src import cleaning_data"
   ]
  },
  {
   "cell_type": "code",
   "execution_count": 6,
   "id": "bronze-spread",
   "metadata": {},
   "outputs": [],
   "source": [
    "# Confirm directorys are in place\n",
    "\n",
    "if not os.path.exists(os.path.join(os.getcwd(), '../data')):\n",
    "    raise OSError(\"Must first download data, see README.md\")\n",
    "data_dir = os.path.join(os.getcwd(), '../data')\n",
    "\n",
    "if not os.path.exists(os.path.join(data_dir, 'segment_network_graphs')):\n",
    "    os.mkdir(os.path.join(data_dir, 'segment_network_graphs'))\n",
    "graphs_dir = os.path.join(data_dir, 'segment_network_graphs')\n",
    "\n",
    "if not os.path.exists(os.path.join(os.getcwd(), '../img')):\n",
    "    raise OSError(\"Must first download data, see README.md\")\n",
    "img_dir = os.path.join(os.getcwd(), '../img')\n",
    "\n",
    "if not os.path.exists(os.path.join(data_dir, 'generated_clusters')):\n",
    "    os.mkdir(os.path.join(data_dir, 'generated_clusters'))\n",
    "cluster_dir = os.path.join(data_dir, 'generated_clusters')"
   ]
  },
  {
   "cell_type": "markdown",
   "id": "planned-conviction",
   "metadata": {},
   "source": [
    "# This is the approximation algorithm clustering"
   ]
  },
  {
   "cell_type": "code",
   "execution_count": 10,
   "id": "settled-screw",
   "metadata": {},
   "outputs": [
    {
     "name": "stdout",
     "output_type": "stream",
     "text": [
      "618\n"
     ]
    }
   ],
   "source": [
    "lower_bound_correlation = 0.7\n",
    "correlation_threshold = 0.85\n",
    "clustering_version = f'maxr0{int(correlation_threshold * 100)}'\n",
    "params = {'granularity': 5}\n",
    "fp = os.path.join(cluster_dir, f'optimized_clustering_{lower_bound_correlation}_{correlation_threshold}_{clustering_version}_restricted.pkl')\n",
    "with open(fp, 'rb') as handle:\n",
    "    clusters = pickle.load(handle)\n",
    "print(len(clusters))    "
   ]
  },
  {
   "cell_type": "code",
   "execution_count": 11,
   "id": "frozen-holiday",
   "metadata": {},
   "outputs": [
    {
     "name": "stdout",
     "output_type": "stream",
     "text": [
      "/home/jovyan/work/clustering/../data/generated_clusters/maxr085_incident_ratios\n",
      "/home/jovyan/work/clustering/../data/generated_clusters/maxr085_incident_ratios/incidents\n",
      "/home/jovyan/work/clustering/../data/generated_clusters/maxr085_incident_ratios/cleaned\n"
     ]
    }
   ],
   "source": [
    "# Setting up output directories\n",
    "if not os.path.exists(os.path.join(cluster_dir, f\"{clustering_version}_incident_ratios\")):\n",
    "    os.mkdir(os.path.join(cluster_dir, f\"{clustering_version}_incident_ratios\"))\n",
    "incident_ratio_dir = os.path.join(cluster_dir, f\"{clustering_version}_incident_ratios\")\n",
    "print(incident_ratio_dir)\n",
    "\n",
    "# Setting up output directories\n",
    "if not os.path.exists(os.path.join(incident_ratio_dir, f\"incidents\")):\n",
    "    os.mkdir(os.path.join(incident_ratio_dir, f\"incidents\"))\n",
    "incidents_dir = os.path.join(incident_ratio_dir, f\"incidents\")\n",
    "print(incidents_dir)\n",
    "\n",
    "# Setting up output directories\n",
    "if not os.path.exists(os.path.join(incident_ratio_dir, f\"cleaned\")):\n",
    "    os.mkdir(os.path.join(incident_ratio_dir, f\"cleaned\"))\n",
    "cleaned_dir = os.path.join(incident_ratio_dir, f\"cleaned\")\n",
    "print(cleaned_dir)"
   ]
  },
  {
   "cell_type": "markdown",
   "id": "contained-habitat",
   "metadata": {},
   "source": [
    "# Loading rations (with incidents)"
   ]
  },
  {
   "cell_type": "code",
   "execution_count": 12,
   "id": "collect-clear",
   "metadata": {},
   "outputs": [],
   "source": [
    "month = 1\n",
    "granularity = params['granularity']\n",
    "\n",
    "fp = os.path.join(incident_ratio_dir, f'{str(month).zfill(2)}_2019_ratios_{clustering_version}_gran_{granularity}_incidents_24h.pkl')\n",
    "dirty = pd.read_pickle(fp)"
   ]
  },
  {
   "cell_type": "code",
   "execution_count": 14,
   "id": "operational-membrane",
   "metadata": {},
   "outputs": [
    {
     "data": {
      "text/html": [
       "<div>\n",
       "<style scoped>\n",
       "    .dataframe tbody tr th:only-of-type {\n",
       "        vertical-align: middle;\n",
       "    }\n",
       "\n",
       "    .dataframe tbody tr th {\n",
       "        vertical-align: top;\n",
       "    }\n",
       "\n",
       "    .dataframe thead th {\n",
       "        text-align: right;\n",
       "    }\n",
       "</style>\n",
       "<table border=\"1\" class=\"dataframe\">\n",
       "  <thead>\n",
       "    <tr style=\"text-align: right;\">\n",
       "      <th></th>\n",
       "      <th>hm_449617778</th>\n",
       "      <th>am_449617778</th>\n",
       "      <th>qr_449617778</th>\n",
       "      <th>hm_160774420</th>\n",
       "      <th>am_160774420</th>\n",
       "      <th>qr_160774420</th>\n",
       "      <th>hm_449616523</th>\n",
       "      <th>am_449616523</th>\n",
       "      <th>qr_449616523</th>\n",
       "      <th>hm_1524543496</th>\n",
       "      <th>am_1524543496</th>\n",
       "      <th>qr_1524543496</th>\n",
       "      <th>hm_156560786</th>\n",
       "      <th>am_156560786</th>\n",
       "      <th>qr_156560786</th>\n",
       "    </tr>\n",
       "    <tr>\n",
       "      <th>time_local</th>\n",
       "      <th></th>\n",
       "      <th></th>\n",
       "      <th></th>\n",
       "      <th></th>\n",
       "      <th></th>\n",
       "      <th></th>\n",
       "      <th></th>\n",
       "      <th></th>\n",
       "      <th></th>\n",
       "      <th></th>\n",
       "      <th></th>\n",
       "      <th></th>\n",
       "      <th></th>\n",
       "      <th></th>\n",
       "      <th></th>\n",
       "    </tr>\n",
       "  </thead>\n",
       "  <tbody>\n",
       "    <tr>\n",
       "      <th>2019-01-01 00:00:00</th>\n",
       "      <td>36.756757</td>\n",
       "      <td>37.0</td>\n",
       "      <td>0.993426</td>\n",
       "      <td>NaN</td>\n",
       "      <td>NaN</td>\n",
       "      <td>NaN</td>\n",
       "      <td>NaN</td>\n",
       "      <td>NaN</td>\n",
       "      <td>NaN</td>\n",
       "      <td>32.242936</td>\n",
       "      <td>37.793103</td>\n",
       "      <td>0.853143</td>\n",
       "      <td>NaN</td>\n",
       "      <td>NaN</td>\n",
       "      <td>NaN</td>\n",
       "    </tr>\n",
       "    <tr>\n",
       "      <th>2019-01-01 00:05:00</th>\n",
       "      <td>36.756757</td>\n",
       "      <td>37.0</td>\n",
       "      <td>0.993426</td>\n",
       "      <td>NaN</td>\n",
       "      <td>NaN</td>\n",
       "      <td>NaN</td>\n",
       "      <td>NaN</td>\n",
       "      <td>NaN</td>\n",
       "      <td>NaN</td>\n",
       "      <td>32.398649</td>\n",
       "      <td>38.073793</td>\n",
       "      <td>0.850944</td>\n",
       "      <td>NaN</td>\n",
       "      <td>NaN</td>\n",
       "      <td>NaN</td>\n",
       "    </tr>\n",
       "    <tr>\n",
       "      <th>2019-01-01 00:10:00</th>\n",
       "      <td>36.756757</td>\n",
       "      <td>37.0</td>\n",
       "      <td>0.993426</td>\n",
       "      <td>NaN</td>\n",
       "      <td>NaN</td>\n",
       "      <td>NaN</td>\n",
       "      <td>NaN</td>\n",
       "      <td>NaN</td>\n",
       "      <td>NaN</td>\n",
       "      <td>32.287423</td>\n",
       "      <td>37.971379</td>\n",
       "      <td>0.850309</td>\n",
       "      <td>NaN</td>\n",
       "      <td>NaN</td>\n",
       "      <td>NaN</td>\n",
       "    </tr>\n",
       "    <tr>\n",
       "      <th>2019-01-01 00:15:00</th>\n",
       "      <td>35.972222</td>\n",
       "      <td>36.0</td>\n",
       "      <td>0.999228</td>\n",
       "      <td>NaN</td>\n",
       "      <td>NaN</td>\n",
       "      <td>NaN</td>\n",
       "      <td>NaN</td>\n",
       "      <td>NaN</td>\n",
       "      <td>NaN</td>\n",
       "      <td>31.732477</td>\n",
       "      <td>37.471379</td>\n",
       "      <td>0.846846</td>\n",
       "      <td>NaN</td>\n",
       "      <td>NaN</td>\n",
       "      <td>NaN</td>\n",
       "    </tr>\n",
       "    <tr>\n",
       "      <th>2019-01-01 00:20:00</th>\n",
       "      <td>35.972222</td>\n",
       "      <td>36.0</td>\n",
       "      <td>0.999228</td>\n",
       "      <td>NaN</td>\n",
       "      <td>NaN</td>\n",
       "      <td>NaN</td>\n",
       "      <td>NaN</td>\n",
       "      <td>NaN</td>\n",
       "      <td>NaN</td>\n",
       "      <td>31.867736</td>\n",
       "      <td>37.655172</td>\n",
       "      <td>0.846304</td>\n",
       "      <td>NaN</td>\n",
       "      <td>NaN</td>\n",
       "      <td>NaN</td>\n",
       "    </tr>\n",
       "  </tbody>\n",
       "</table>\n",
       "</div>"
      ],
      "text/plain": [
       "                     hm_449617778  am_449617778  qr_449617778  hm_160774420  \\\n",
       "time_local                                                                    \n",
       "2019-01-01 00:00:00     36.756757          37.0      0.993426           NaN   \n",
       "2019-01-01 00:05:00     36.756757          37.0      0.993426           NaN   \n",
       "2019-01-01 00:10:00     36.756757          37.0      0.993426           NaN   \n",
       "2019-01-01 00:15:00     35.972222          36.0      0.999228           NaN   \n",
       "2019-01-01 00:20:00     35.972222          36.0      0.999228           NaN   \n",
       "\n",
       "                     am_160774420  qr_160774420  hm_449616523  am_449616523  \\\n",
       "time_local                                                                    \n",
       "2019-01-01 00:00:00           NaN           NaN           NaN           NaN   \n",
       "2019-01-01 00:05:00           NaN           NaN           NaN           NaN   \n",
       "2019-01-01 00:10:00           NaN           NaN           NaN           NaN   \n",
       "2019-01-01 00:15:00           NaN           NaN           NaN           NaN   \n",
       "2019-01-01 00:20:00           NaN           NaN           NaN           NaN   \n",
       "\n",
       "                     qr_449616523  hm_1524543496  am_1524543496  \\\n",
       "time_local                                                        \n",
       "2019-01-01 00:00:00           NaN      32.242936      37.793103   \n",
       "2019-01-01 00:05:00           NaN      32.398649      38.073793   \n",
       "2019-01-01 00:10:00           NaN      32.287423      37.971379   \n",
       "2019-01-01 00:15:00           NaN      31.732477      37.471379   \n",
       "2019-01-01 00:20:00           NaN      31.867736      37.655172   \n",
       "\n",
       "                     qr_1524543496  hm_156560786  am_156560786  qr_156560786  \n",
       "time_local                                                                    \n",
       "2019-01-01 00:00:00       0.853143           NaN           NaN           NaN  \n",
       "2019-01-01 00:05:00       0.850944           NaN           NaN           NaN  \n",
       "2019-01-01 00:10:00       0.850309           NaN           NaN           NaN  \n",
       "2019-01-01 00:15:00       0.846846           NaN           NaN           NaN  \n",
       "2019-01-01 00:20:00       0.846304           NaN           NaN           NaN  "
      ]
     },
     "execution_count": 14,
     "metadata": {},
     "output_type": "execute_result"
    }
   ],
   "source": [
    "# Sanity check\n",
    "dirty.head()"
   ]
  },
  {
   "cell_type": "markdown",
   "id": "forward-label",
   "metadata": {},
   "source": [
    "# Loading incident ground truth"
   ]
  },
  {
   "cell_type": "code",
   "execution_count": 17,
   "id": "oriental-vertical",
   "metadata": {},
   "outputs": [
    {
     "data": {
      "text/html": [
       "<div>\n",
       "<style scoped>\n",
       "    .dataframe tbody tr th:only-of-type {\n",
       "        vertical-align: middle;\n",
       "    }\n",
       "\n",
       "    .dataframe tbody tr th {\n",
       "        vertical-align: top;\n",
       "    }\n",
       "\n",
       "    .dataframe thead th {\n",
       "        text-align: right;\n",
       "    }\n",
       "</style>\n",
       "<table border=\"1\" class=\"dataframe\">\n",
       "  <thead>\n",
       "    <tr style=\"text-align: right;\">\n",
       "      <th></th>\n",
       "      <th>XDSegID</th>\n",
       "      <th>Total_Number_Incidents</th>\n",
       "    </tr>\n",
       "    <tr>\n",
       "      <th>time_local</th>\n",
       "      <th></th>\n",
       "      <th></th>\n",
       "    </tr>\n",
       "  </thead>\n",
       "  <tbody>\n",
       "    <tr>\n",
       "      <th>2019-01-01 01:10:00</th>\n",
       "      <td>1524461437</td>\n",
       "      <td>1</td>\n",
       "    </tr>\n",
       "    <tr>\n",
       "      <th>2019-01-01 01:15:00</th>\n",
       "      <td>441420536</td>\n",
       "      <td>1</td>\n",
       "    </tr>\n",
       "    <tr>\n",
       "      <th>2019-01-01 02:00:00</th>\n",
       "      <td>449626583</td>\n",
       "      <td>1</td>\n",
       "    </tr>\n",
       "    <tr>\n",
       "      <th>2019-01-01 02:05:00</th>\n",
       "      <td>1524395080</td>\n",
       "      <td>1</td>\n",
       "    </tr>\n",
       "    <tr>\n",
       "      <th>2019-01-01 16:30:00</th>\n",
       "      <td>1524581409</td>\n",
       "      <td>1</td>\n",
       "    </tr>\n",
       "  </tbody>\n",
       "</table>\n",
       "</div>"
      ],
      "text/plain": [
       "                        XDSegID  Total_Number_Incidents\n",
       "time_local                                             \n",
       "2019-01-01 01:10:00  1524461437                       1\n",
       "2019-01-01 01:15:00   441420536                       1\n",
       "2019-01-01 02:00:00   449626583                       1\n",
       "2019-01-01 02:05:00  1524395080                       1\n",
       "2019-01-01 16:30:00  1524581409                       1"
      ]
     },
     "execution_count": 17,
     "metadata": {},
     "output_type": "execute_result"
    }
   ],
   "source": [
    "fp = os.path.join(data_dir, \"all_incidents_ground_truth.pkl\")\n",
    "df_incidents_gt = pd.read_pickle(fp)\n",
    "# df_incidents_gt = pd.read_pickle(f\"{clustering_version}_ground_truth.pkl\")\n",
    "df_incidents_gt.head()"
   ]
  },
  {
   "cell_type": "markdown",
   "id": "exposed-people",
   "metadata": {},
   "source": [
    "## Matching segments with cluster heads"
   ]
  },
  {
   "cell_type": "code",
   "execution_count": 18,
   "id": "governmental-modification",
   "metadata": {},
   "outputs": [],
   "source": [
    "df_incidents_gt['cluster_head'] = df_incidents_gt['XDSegID'].apply(lambda x: cleaning_data.locate_segment_cluster(x, clusters))\n",
    "df_incidents_gt = df_incidents_gt[df_incidents_gt['cluster_head'] != -1]\n",
    "# df_incidents_gt.to_pickle(f\"{cluster_version}_ground_truth.pkl\")\n",
    "df_incidents_gt = df_incidents_gt.between_time('06:00:00', '21:00:00')"
   ]
  },
  {
   "cell_type": "code",
   "execution_count": 19,
   "id": "graduate-colony",
   "metadata": {},
   "outputs": [
    {
     "data": {
      "text/html": [
       "<div>\n",
       "<style scoped>\n",
       "    .dataframe tbody tr th:only-of-type {\n",
       "        vertical-align: middle;\n",
       "    }\n",
       "\n",
       "    .dataframe tbody tr th {\n",
       "        vertical-align: top;\n",
       "    }\n",
       "\n",
       "    .dataframe thead th {\n",
       "        text-align: right;\n",
       "    }\n",
       "</style>\n",
       "<table border=\"1\" class=\"dataframe\">\n",
       "  <thead>\n",
       "    <tr style=\"text-align: right;\">\n",
       "      <th></th>\n",
       "      <th>XDSegID</th>\n",
       "      <th>Total_Number_Incidents</th>\n",
       "      <th>cluster_head</th>\n",
       "    </tr>\n",
       "    <tr>\n",
       "      <th>time_local</th>\n",
       "      <th></th>\n",
       "      <th></th>\n",
       "      <th></th>\n",
       "    </tr>\n",
       "  </thead>\n",
       "  <tbody>\n",
       "    <tr>\n",
       "      <th>2019-08-06 17:25:00</th>\n",
       "      <td>449629856</td>\n",
       "      <td>1</td>\n",
       "      <td>155860268</td>\n",
       "    </tr>\n",
       "    <tr>\n",
       "      <th>2019-12-28 16:25:00</th>\n",
       "      <td>160960959</td>\n",
       "      <td>1</td>\n",
       "      <td>155860268</td>\n",
       "    </tr>\n",
       "    <tr>\n",
       "      <th>2019-08-14 06:50:00</th>\n",
       "      <td>160960959</td>\n",
       "      <td>1</td>\n",
       "      <td>155860268</td>\n",
       "    </tr>\n",
       "    <tr>\n",
       "      <th>2019-09-11 06:20:00</th>\n",
       "      <td>449629855</td>\n",
       "      <td>1</td>\n",
       "      <td>155860268</td>\n",
       "    </tr>\n",
       "    <tr>\n",
       "      <th>2019-12-17 14:20:00</th>\n",
       "      <td>449629857</td>\n",
       "      <td>1</td>\n",
       "      <td>155860268</td>\n",
       "    </tr>\n",
       "    <tr>\n",
       "      <th>...</th>\n",
       "      <td>...</td>\n",
       "      <td>...</td>\n",
       "      <td>...</td>\n",
       "    </tr>\n",
       "    <tr>\n",
       "      <th>2019-04-14 16:55:00</th>\n",
       "      <td>449628531</td>\n",
       "      <td>1</td>\n",
       "      <td>1524634500</td>\n",
       "    </tr>\n",
       "    <tr>\n",
       "      <th>2019-12-30 12:25:00</th>\n",
       "      <td>441550927</td>\n",
       "      <td>1</td>\n",
       "      <td>1524643235</td>\n",
       "    </tr>\n",
       "    <tr>\n",
       "      <th>2019-09-20 17:55:00</th>\n",
       "      <td>441420521</td>\n",
       "      <td>1</td>\n",
       "      <td>1524643235</td>\n",
       "    </tr>\n",
       "    <tr>\n",
       "      <th>2019-03-06 06:50:00</th>\n",
       "      <td>441550927</td>\n",
       "      <td>1</td>\n",
       "      <td>1524643235</td>\n",
       "    </tr>\n",
       "    <tr>\n",
       "      <th>2019-12-23 11:50:00</th>\n",
       "      <td>441420521</td>\n",
       "      <td>1</td>\n",
       "      <td>1524643235</td>\n",
       "    </tr>\n",
       "  </tbody>\n",
       "</table>\n",
       "<p>4892 rows × 3 columns</p>\n",
       "</div>"
      ],
      "text/plain": [
       "                       XDSegID  Total_Number_Incidents  cluster_head\n",
       "time_local                                                          \n",
       "2019-08-06 17:25:00  449629856                       1     155860268\n",
       "2019-12-28 16:25:00  160960959                       1     155860268\n",
       "2019-08-14 06:50:00  160960959                       1     155860268\n",
       "2019-09-11 06:20:00  449629855                       1     155860268\n",
       "2019-12-17 14:20:00  449629857                       1     155860268\n",
       "...                        ...                     ...           ...\n",
       "2019-04-14 16:55:00  449628531                       1    1524634500\n",
       "2019-12-30 12:25:00  441550927                       1    1524643235\n",
       "2019-09-20 17:55:00  441420521                       1    1524643235\n",
       "2019-03-06 06:50:00  441550927                       1    1524643235\n",
       "2019-12-23 11:50:00  441420521                       1    1524643235\n",
       "\n",
       "[4892 rows x 3 columns]"
      ]
     },
     "execution_count": 19,
     "metadata": {},
     "output_type": "execute_result"
    }
   ],
   "source": [
    "# Sort\n",
    "df_incidents_gt = df_incidents_gt.sort_values(by='cluster_head')\n",
    "df_incidents_gt"
   ]
  },
  {
   "cell_type": "code",
   "execution_count": 20,
   "id": "pleased-powder",
   "metadata": {},
   "outputs": [
    {
     "data": {
      "text/html": [
       "<div>\n",
       "<style scoped>\n",
       "    .dataframe tbody tr th:only-of-type {\n",
       "        vertical-align: middle;\n",
       "    }\n",
       "\n",
       "    .dataframe tbody tr th {\n",
       "        vertical-align: top;\n",
       "    }\n",
       "\n",
       "    .dataframe thead th {\n",
       "        text-align: right;\n",
       "    }\n",
       "</style>\n",
       "<table border=\"1\" class=\"dataframe\">\n",
       "  <thead>\n",
       "    <tr style=\"text-align: right;\">\n",
       "      <th></th>\n",
       "      <th>cluster_head</th>\n",
       "      <th>Total_Number_Incidents</th>\n",
       "    </tr>\n",
       "    <tr>\n",
       "      <th>cluster_head</th>\n",
       "      <th></th>\n",
       "      <th></th>\n",
       "    </tr>\n",
       "  </thead>\n",
       "  <tbody>\n",
       "    <tr>\n",
       "      <th>1524545914</th>\n",
       "      <td>1524545914</td>\n",
       "      <td>137</td>\n",
       "    </tr>\n",
       "    <tr>\n",
       "      <th>1524596232</th>\n",
       "      <td>1524596232</td>\n",
       "      <td>98</td>\n",
       "    </tr>\n",
       "    <tr>\n",
       "      <th>1524276985</th>\n",
       "      <td>1524276985</td>\n",
       "      <td>88</td>\n",
       "    </tr>\n",
       "    <tr>\n",
       "      <th>1524274331</th>\n",
       "      <td>1524274331</td>\n",
       "      <td>69</td>\n",
       "    </tr>\n",
       "    <tr>\n",
       "      <th>1524482444</th>\n",
       "      <td>1524482444</td>\n",
       "      <td>68</td>\n",
       "    </tr>\n",
       "    <tr>\n",
       "      <th>...</th>\n",
       "      <td>...</td>\n",
       "      <td>...</td>\n",
       "    </tr>\n",
       "    <tr>\n",
       "      <th>429334581</th>\n",
       "      <td>429334581</td>\n",
       "      <td>1</td>\n",
       "    </tr>\n",
       "    <tr>\n",
       "      <th>429334666</th>\n",
       "      <td>429334666</td>\n",
       "      <td>1</td>\n",
       "    </tr>\n",
       "    <tr>\n",
       "      <th>449617728</th>\n",
       "      <td>449617728</td>\n",
       "      <td>1</td>\n",
       "    </tr>\n",
       "    <tr>\n",
       "      <th>1524279485</th>\n",
       "      <td>1524279485</td>\n",
       "      <td>1</td>\n",
       "    </tr>\n",
       "    <tr>\n",
       "      <th>449629695</th>\n",
       "      <td>449629695</td>\n",
       "      <td>1</td>\n",
       "    </tr>\n",
       "  </tbody>\n",
       "</table>\n",
       "<p>467 rows × 2 columns</p>\n",
       "</div>"
      ],
      "text/plain": [
       "              cluster_head  Total_Number_Incidents\n",
       "cluster_head                                      \n",
       "1524545914      1524545914                     137\n",
       "1524596232      1524596232                      98\n",
       "1524276985      1524276985                      88\n",
       "1524274331      1524274331                      69\n",
       "1524482444      1524482444                      68\n",
       "...                    ...                     ...\n",
       "429334581        429334581                       1\n",
       "429334666        429334666                       1\n",
       "449617728        449617728                       1\n",
       "1524279485      1524279485                       1\n",
       "449629695        449629695                       1\n",
       "\n",
       "[467 rows x 2 columns]"
      ]
     },
     "execution_count": 20,
     "metadata": {},
     "output_type": "execute_result"
    }
   ],
   "source": [
    "df_incidents_gt.groupby('cluster_head').agg({'cluster_head': 'mean', 'Total_Number_Incidents': 'sum'}).sort_values(by='Total_Number_Incidents', ascending=False)"
   ]
  },
  {
   "cell_type": "markdown",
   "id": "improved-academy",
   "metadata": {},
   "source": [
    "## Additional Rules or caveats:\n",
    "* I combine the valleys and the peaks into the earliest valley and latest peak\n",
    "    * It is very difficult to have some consistent method of identifying disconnected dips\n",
    "* How to adapt to see if the peak is high enough even though its beyond the search area (time window for incident)?\n",
    "    * I still have no answer to this, because sometimes the dips extend beyond the search window i set\n",
    "    * sample cluster: 1524331139 2019-06-01\n",
    "    * But maybe cannot take this into account anymore, especially with such a wide window\n",
    "* Divide the search area into chunks of 30 min and see if there are dips (pairs of valleys and peaks) there.\n",
    "    * Planned, but not yet implemented\n",
    "* Some data is really noisy, it is hard to work on it"
   ]
  },
  {
   "cell_type": "code",
   "execution_count": 62,
   "id": "together-messenger",
   "metadata": {},
   "outputs": [],
   "source": [
    "# Parameters\n",
    "to_months = 2\n",
    "# window = 0.5 # incident search window (hours before and hours after)\n",
    "order = 1 # For finding valleys\n",
    "slope_threshold_modifier = 1 # Adjustment for detecting the slope as a change point"
   ]
  },
  {
   "cell_type": "code",
   "execution_count": 63,
   "id": "sized-surveillance",
   "metadata": {},
   "outputs": [
    {
     "name": "stdout",
     "output_type": "stream",
     "text": [
      "5\n"
     ]
    }
   ],
   "source": [
    "print(f\"{granularity}\")"
   ]
  },
  {
   "cell_type": "code",
   "execution_count": 64,
   "id": "australian-mobility",
   "metadata": {},
   "outputs": [
    {
     "data": {
      "text/plain": [
       "'/home/jovyan/work/clustering/../data/generated_clusters/maxr085_incident_ratios/incidents_GT'"
      ]
     },
     "execution_count": 64,
     "metadata": {},
     "output_type": "execute_result"
    }
   ],
   "source": [
    "if not os.path.exists(os.path.join(cluster_dir, f'{clustering_version}_incident_ratios/incidents_GT')):\n",
    "    os.mkdir(os.path.join(cluster_dir, f'{clustering_version}_incident_ratios/incidents_GT'))\n",
    "incidents_GT_dir = os.path.join(cluster_dir, f'{clustering_version}_incident_ratios/incidents_GT')\n",
    "incidents_GT_dir"
   ]
  },
  {
   "cell_type": "code",
   "execution_count": 65,
   "id": "fiscal-bacteria",
   "metadata": {},
   "outputs": [
    {
     "data": {
      "application/vnd.jupyter.widget-view+json": {
       "model_id": "1753d093163b4affa091389e6872df9e",
       "version_major": 2,
       "version_minor": 0
      },
      "text/plain": [
       "  0%|          | 0/1 [00:00<?, ?it/s]"
      ]
     },
     "metadata": {},
     "output_type": "display_data"
    }
   ],
   "source": [
    "# Loop through by month\n",
    "for month in tqdm(range(1, to_months)):\n",
    "    incidents = df_incidents_gt[df_incidents_gt.index.month == month]\n",
    "    fp = os.path.join(incidents_GT_dir, f'{clustering_version}_incidents_{str(month).zfill(2)}.pkl')\n",
    "#     print(fp)\n",
    "    incidents.to_pickle(fp)"
   ]
  },
  {
   "cell_type": "markdown",
   "id": "widespread-interaction",
   "metadata": {},
   "source": [
    "# Getting the data generated from:\n",
    "* `005_Incident_Distribution.ipynb005_Incident_Distribution.ipynb`\n",
    "* I think this gives a more accurate incident congestion selection"
   ]
  },
  {
   "cell_type": "code",
   "execution_count": 66,
   "id": "first-spokesman",
   "metadata": {},
   "outputs": [
    {
     "data": {
      "text/html": [
       "<div>\n",
       "<style scoped>\n",
       "    .dataframe tbody tr th:only-of-type {\n",
       "        vertical-align: middle;\n",
       "    }\n",
       "\n",
       "    .dataframe tbody tr th {\n",
       "        vertical-align: top;\n",
       "    }\n",
       "\n",
       "    .dataframe thead th {\n",
       "        text-align: right;\n",
       "    }\n",
       "</style>\n",
       "<table border=\"1\" class=\"dataframe\">\n",
       "  <thead>\n",
       "    <tr style=\"text-align: right;\">\n",
       "      <th></th>\n",
       "      <th>incident_ts</th>\n",
       "      <th>incident_XDSegID</th>\n",
       "      <th>detected_XDSegID</th>\n",
       "      <th>detected_ts_start</th>\n",
       "      <th>detected_ts_end</th>\n",
       "      <th>detected_distance</th>\n",
       "      <th>detected_congestion</th>\n",
       "      <th>detected_duration</th>\n",
       "      <th>incident_id</th>\n",
       "    </tr>\n",
       "  </thead>\n",
       "  <tbody>\n",
       "    <tr>\n",
       "      <th>1</th>\n",
       "      <td>2019-01-01 01:15:00</td>\n",
       "      <td>441420536</td>\n",
       "      <td>4.414205e+08</td>\n",
       "      <td>2019-01-01 02:10:00</td>\n",
       "      <td>2019-01-01 02:20:00</td>\n",
       "      <td>0 days 00:55:00</td>\n",
       "      <td>0.307692</td>\n",
       "      <td>10.0</td>\n",
       "      <td>2019-01-01 01:15:00:441420536</td>\n",
       "    </tr>\n",
       "    <tr>\n",
       "      <th>3</th>\n",
       "      <td>2019-01-01 02:05:00</td>\n",
       "      <td>1524395080</td>\n",
       "      <td>1.524395e+09</td>\n",
       "      <td>2019-01-01 02:25:00</td>\n",
       "      <td>2019-01-01 02:45:00</td>\n",
       "      <td>0 days 00:20:00</td>\n",
       "      <td>0.454545</td>\n",
       "      <td>20.0</td>\n",
       "      <td>2019-01-01 02:05:00:1524395080</td>\n",
       "    </tr>\n",
       "    <tr>\n",
       "      <th>5</th>\n",
       "      <td>2019-01-01 18:40:00</td>\n",
       "      <td>429334934</td>\n",
       "      <td>4.293349e+08</td>\n",
       "      <td>2019-01-01 18:30:00</td>\n",
       "      <td>2019-01-01 18:45:00</td>\n",
       "      <td>0 days 00:10:00</td>\n",
       "      <td>0.179487</td>\n",
       "      <td>15.0</td>\n",
       "      <td>2019-01-01 18:40:00:429334934</td>\n",
       "    </tr>\n",
       "    <tr>\n",
       "      <th>6</th>\n",
       "      <td>2019-01-01 18:40:00</td>\n",
       "      <td>449575014</td>\n",
       "      <td>4.495750e+08</td>\n",
       "      <td>2019-01-01 18:30:00</td>\n",
       "      <td>2019-01-01 18:55:00</td>\n",
       "      <td>0 days 00:10:00</td>\n",
       "      <td>0.105263</td>\n",
       "      <td>25.0</td>\n",
       "      <td>2019-01-01 18:40:00:449575014</td>\n",
       "    </tr>\n",
       "    <tr>\n",
       "      <th>8</th>\n",
       "      <td>2019-01-01 23:05:00</td>\n",
       "      <td>1524482617</td>\n",
       "      <td>1.524483e+09</td>\n",
       "      <td>2019-01-01 22:35:00</td>\n",
       "      <td>2019-01-01 23:15:00</td>\n",
       "      <td>0 days 00:30:00</td>\n",
       "      <td>0.200000</td>\n",
       "      <td>40.0</td>\n",
       "      <td>2019-01-01 23:05:00:1524482617</td>\n",
       "    </tr>\n",
       "  </tbody>\n",
       "</table>\n",
       "</div>"
      ],
      "text/plain": [
       "          incident_ts  incident_XDSegID  detected_XDSegID   detected_ts_start  \\\n",
       "1 2019-01-01 01:15:00         441420536      4.414205e+08 2019-01-01 02:10:00   \n",
       "3 2019-01-01 02:05:00        1524395080      1.524395e+09 2019-01-01 02:25:00   \n",
       "5 2019-01-01 18:40:00         429334934      4.293349e+08 2019-01-01 18:30:00   \n",
       "6 2019-01-01 18:40:00         449575014      4.495750e+08 2019-01-01 18:30:00   \n",
       "8 2019-01-01 23:05:00        1524482617      1.524483e+09 2019-01-01 22:35:00   \n",
       "\n",
       "      detected_ts_end detected_distance  detected_congestion  \\\n",
       "1 2019-01-01 02:20:00   0 days 00:55:00             0.307692   \n",
       "3 2019-01-01 02:45:00   0 days 00:20:00             0.454545   \n",
       "5 2019-01-01 18:45:00   0 days 00:10:00             0.179487   \n",
       "6 2019-01-01 18:55:00   0 days 00:10:00             0.105263   \n",
       "8 2019-01-01 23:15:00   0 days 00:30:00             0.200000   \n",
       "\n",
       "   detected_duration                     incident_id  \n",
       "1               10.0   2019-01-01 01:15:00:441420536  \n",
       "3               20.0  2019-01-01 02:05:00:1524395080  \n",
       "5               15.0   2019-01-01 18:40:00:429334934  \n",
       "6               25.0   2019-01-01 18:40:00:449575014  \n",
       "8               40.0  2019-01-01 23:05:00:1524482617  "
      ]
     },
     "execution_count": 66,
     "metadata": {},
     "output_type": "execute_result"
    }
   ],
   "source": [
    "# Load results\n",
    "verification_dfs = []\n",
    "\n",
    "test_priority = 'distance'\n",
    "test_threshold = 0.1\n",
    "\n",
    "for month in range(1, to_months):\n",
    "    fp = os.path.join(data_dir, 'incident_congestion_verification', f'{test_priority}_{test_threshold}', f'{month}_{test_priority}_{test_threshold}_verified.pkl')\n",
    "    df = pd.read_pickle(fp)\n",
    "    df['incident_id'] = df.incident_ts.astype(str) + ':' + df['incident_XDSegID'].astype(str) #2019-01-01 01:05:00\n",
    "    \n",
    "    verified_congestions = df['incident_id'].tolist()\n",
    "    \n",
    "    fp = os.path.join(data_dir, \"all_incidents_ground_truth.pkl\")\n",
    "    _df_incidents_gt = pd.read_pickle(fp)\n",
    "    _df_incidents_gt = _df_incidents_gt[_df_incidents_gt.index.month == month]\n",
    "    _df_incidents_gt['incident_id'] = _df_incidents_gt.index.strftime('%Y-%m-%d %H:%M:%S') + ':' + _df_incidents_gt['XDSegID'].astype(str) #2019-01-01 01:05:00\n",
    "    \n",
    "    reported_incidents = _df_incidents_gt['incident_id'].tolist()\n",
    "    \n",
    "    congestion_incidents = list(set(reported_incidents) & set(verified_congestions))\n",
    "    non_congestion_incidents = list(set(reported_incidents) - set(verified_congestions))\n",
    "    incidents_without_congestions = len(non_congestion_incidents)\n",
    "    \n",
    "    verification_dfs.append(df)\n",
    "    \n",
    "\n",
    "verification_dfs = pd.concat([df for df in verification_dfs])\n",
    "verification_dfs = verification_dfs.reset_index()\n",
    "verification_dfs = verification_dfs.drop(['index'], axis=1)\n",
    "\n",
    "non_na_df = verification_dfs.dropna()\n",
    "non_na_df.head()"
   ]
  },
  {
   "cell_type": "code",
   "execution_count": 67,
   "id": "verified-interface",
   "metadata": {},
   "outputs": [
    {
     "data": {
      "text/plain": [
       "Text(0.5, 0, 'Distance from $GT(t)$')"
      ]
     },
     "execution_count": 67,
     "metadata": {},
     "output_type": "execute_result"
    },
    {
     "data": {
      "image/png": "[encoded data removed]",
      "text/plain": [
       "<Figure size 432x288 with 2 Axes>"
      ]
     },
     "metadata": {
      "needs_background": "light"
     },
     "output_type": "display_data"
    }
   ],
   "source": [
    "df = deepcopy(non_na_df)\n",
    "CP1 = non_na_df['detected_ts_start'] - non_na_df['incident_ts']\n",
    "CP2 = non_na_df['detected_ts_end'] - non_na_df['incident_ts']\n",
    "nCP1 = (CP1 / np.timedelta64(1, 'm')).to_numpy() \n",
    "nCP2 = (CP2 / np.timedelta64(1, 'm')).to_numpy()\n",
    "df['det_dist_minutes_start'] = nCP1\n",
    "df['det_dist_minutes_end'] = nCP2\n",
    "nALL = df['det_dist_minutes_start'].append(df['det_dist_minutes_end'])\n",
    "\n",
    "# ax = nALL.hist()\n",
    "ax = nALL.hist(bins=len(nALL.unique()))\n",
    "ax1 = ax.twinx()\n",
    "nALL.plot.kde(ax=ax1)\n",
    "\n",
    "ax.tick_params(axis='both', which='major', labelsize=12, width=2, length=4)\n",
    "ax.tick_params(axis='both', which='minor', labelsize=12, width=2, length=4)\n",
    "ax.set_ylabel('Probability', fontsize=17)\n",
    "ax.set_xlabel(r'Distance from $GT(t)$', fontsize=17)\n",
    "\n",
    "# fp = os.path.join(img_dir, 'incident_verification_times_2.eps')\n",
    "# plt.savefig(fp, dpi=1000, bbox_inches='tight', format='eps')"
   ]
  },
  {
   "cell_type": "code",
   "execution_count": 68,
   "id": "present-vaccine",
   "metadata": {},
   "outputs": [
    {
     "data": {
      "text/plain": [
       "40.0"
      ]
     },
     "execution_count": 68,
     "metadata": {},
     "output_type": "execute_result"
    }
   ],
   "source": [
    "# Get 80% of this for the window (40% after and 40% before?)\n",
    "# Maybe simpler to just get the CDF and then get it from there\n",
    "nALL = abs(nALL)\n",
    "df = pd.DataFrame(nALL, columns = ['detection_time'])\n",
    "detection_times = df[['detection_time']]\n",
    "# Frequency\n",
    "stats_df = detection_times \\\n",
    "            .groupby('detection_time') \\\n",
    "            ['detection_time'] \\\n",
    "            .agg('count') \\\n",
    "            .pipe(pd.DataFrame) \\\n",
    "            .rename(columns = {'detection_time': 'frequency'})\n",
    "\n",
    "stats_df['pdf'] = stats_df['frequency'] / sum(stats_df['frequency'])\n",
    "stats_df['cdf'] = stats_df['pdf'].cumsum()\n",
    "stats_df = stats_df.reset_index()\n",
    "\n",
    "# fig, ax = plt.subplots()\n",
    "# stats_df.plot(ax=ax, x = 'detection_time', y = ['cdf'], grid = True, legend=None)\n",
    "\n",
    "window = stats_df[stats_df['cdf'] <= 0.80].iloc[-1].detection_time\n",
    "window"
   ]
  },
  {
   "cell_type": "code",
   "execution_count": 70,
   "id": "responsible-poland",
   "metadata": {},
   "outputs": [],
   "source": [
    "mini_cluster_list = [449617778, 160774420, 449616523, 1524543496, 156560786]"
   ]
  },
  {
   "cell_type": "code",
   "execution_count": 71,
   "id": "integrated-highland",
   "metadata": {},
   "outputs": [
    {
     "data": {
      "application/vnd.jupyter.widget-view+json": {
       "model_id": "63c2b19c86434289888d8e69dbc0fe22",
       "version_major": 2,
       "version_minor": 0
      },
      "text/plain": [
       "  0%|          | 0/1 [00:00<?, ?it/s]"
      ]
     },
     "metadata": {},
     "output_type": "display_data"
    },
    {
     "data": {
      "application/vnd.jupyter.widget-view+json": {
       "model_id": "28ee3fedde5f4682aee0b61096f333dd",
       "version_major": 2,
       "version_minor": 0
      },
      "text/plain": [
       "  0%|          | 0/320 [00:00<?, ?it/s]"
      ]
     },
     "metadata": {},
     "output_type": "display_data"
    }
   ],
   "source": [
    "# Loop through by month\n",
    "for month in tqdm(range(1, to_months)):\n",
    "    incidents = df_incidents_gt[df_incidents_gt.index.month == month]\n",
    "    \n",
    "    fp = os.path.join(incident_ratio_dir, f'{str(month).zfill(2)}_2019_ratios_{clustering_version}_gran_{granularity}_incidents_24h.pkl')\n",
    "    dirty = pd.read_pickle(fp)\n",
    "\n",
    "    for dtindex, incident in tqdm(incidents.iterrows(), total=incidents.shape[0]):\n",
    "        dtindex = dtindex.round(f'{granularity}min')\n",
    "        cluster_head = incident['cluster_head']\n",
    "        if cluster_head not in mini_cluster_list:\n",
    "            continue\n",
    "        incident_month = dtindex.month\n",
    "        incident_day = dtindex.day\n",
    "        for_cleaning = dirty[dirty.index.day == incident_day][f\"qr_{cluster_head}\"]\n",
    "        slope_diff = cleaning_data.compute_slope_difference(for_cleaning)\n",
    "        (before, after) = cleaning_data.get_window_around_incident(dtindex, window=window)\n",
    "        valid_valleys, peaks = cleaning_data.get_peaks_valleys(slope_diff, \n",
    "                                                               before, after, \n",
    "                                                               modifier=slope_threshold_modifier, window=window, order=order)\n",
    "        \n",
    "        if valid_valleys:\n",
    "            if peaks:\n",
    "                if min(valid_valleys) > max(peaks):\n",
    "                    temp = peaks\n",
    "                    peaks = valid_valleys\n",
    "                    valid_valleys = temp\n",
    "                    \n",
    "                replacement_cma = cleaning_data.get_cma(for_cleaning, min(valid_valleys), max(peaks), method='cwma')\n",
    "                dirty.loc[slope_diff.index.values[min(valid_valleys)]:slope_diff.index.values[max(peaks) + 1], f\"qr_{cluster_head}\"] = replacement_cma.tolist()\n",
    "\n",
    "#         break\n",
    "    fp = os.path.join(cleaned_dir, f'{str(month).zfill(2)}_2019_ratios_{clustering_version}_gran_{granularity}_incidents_cleaned.pkl')\n",
    "    \n",
    "    # Leave only the \"QR\" columns\n",
    "    filter_col = [col for col in dirty if col.startswith('qr')]\n",
    "    cluster_heads = [int(ch[3:]) for ch in filter_col]\n",
    "    dirty = dirty[filter_col]\n",
    "    dirty.columns = cluster_heads\n",
    "    dirty.to_pickle(fp)"
   ]
  },
  {
   "cell_type": "markdown",
   "id": "ultimate-leadership",
   "metadata": {},
   "source": [
    "# Cleaning the incidents DataFrame by removing extra columns\n",
    "* Remove `hm`, `am` and rename `qr_cluster_head`"
   ]
  },
  {
   "cell_type": "code",
   "execution_count": 73,
   "id": "described-removal",
   "metadata": {},
   "outputs": [],
   "source": [
    "for month in range(1, to_months):\n",
    "    fp = os.path.join(incident_ratio_dir, f'{str(month).zfill(2)}_2019_ratios_{clustering_version}_gran_{granularity}_incidents_24h.pkl')\n",
    "    dirty = pd.read_pickle(fp)\n",
    "    dirty.between_time('06:00', '09:00').head()\n",
    "\n",
    "    filter_col = [col for col in dirty if col.startswith('qr')]\n",
    "    cluster_heads = [int(ch[3:]) for ch in filter_col]\n",
    "    dirty = dirty[filter_col]\n",
    "    dirty.columns = cluster_heads\n",
    "    fp = os.path.join(incidents_dir, f'{str(month).zfill(2)}_2019_ratios_{clustering_version}_gran_{granularity}_incidents.pkl')\n",
    "    dirty.to_pickle(fp)"
   ]
  }
 ],
 "metadata": {
  "kernelspec": {
   "display_name": "Python 3",
   "language": "python",
   "name": "python3"
  },
  "language_info": {
   "codemirror_mode": {
    "name": "ipython",
    "version": 3
   },
   "file_extension": ".py",
   "mimetype": "text/x-python",
   "name": "python",
   "nbconvert_exporter": "python",
   "pygments_lexer": "ipython3",
   "version": "3.8.8"
  }
 },
 "nbformat": 4,
 "nbformat_minor": 5
}
