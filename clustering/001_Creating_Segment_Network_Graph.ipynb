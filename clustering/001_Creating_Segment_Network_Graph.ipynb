{
 "cells": [
  {
   "cell_type": "code",
   "execution_count": 1,
   "id": "revolutionary-spanish",
   "metadata": {},
   "outputs": [],
   "source": [
    "%matplotlib inline"
   ]
  },
  {
   "cell_type": "code",
   "execution_count": 2,
   "id": "modern-headline",
   "metadata": {},
   "outputs": [],
   "source": [
    "%load_ext autoreload"
   ]
  },
  {
   "cell_type": "code",
   "execution_count": 3,
   "id": "reasonable-province",
   "metadata": {},
   "outputs": [],
   "source": [
    "%autoreload 2"
   ]
  },
  {
   "cell_type": "code",
   "execution_count": 4,
   "id": "junior-yahoo",
   "metadata": {},
   "outputs": [],
   "source": [
    "# # Install a pip package in the current Jupyter kernel\n",
    "# import sys\n",
    "# !{sys.executable} -m pip install nxviz pygeoj swifter plotly"
   ]
  },
  {
   "cell_type": "markdown",
   "id": "wired-partition",
   "metadata": {},
   "source": [
    "# Creating segment network:\n",
    "* Uses the same code as Sayyed.\n",
    "* Segments as nodes\n",
    "* Use the beginning and end points stated in the inrix dataset. (StartLatStartLongEndLatEndLong)"
   ]
  },
  {
   "cell_type": "code",
   "execution_count": 7,
   "id": "neutral-cleaner",
   "metadata": {},
   "outputs": [],
   "source": [
    "import os\n",
    "import random\n",
    "import matplotlib.pyplot as plt\n",
    "import networkx as nx\n",
    "import sys\n",
    "import pandas as pd\n",
    "\n",
    "from shapely.geometry import Point\n",
    "sys.path.append(\"..\")\n",
    "from src import network_graphing as net_graph"
   ]
  },
  {
   "cell_type": "code",
   "execution_count": 8,
   "id": "southwest-dominant",
   "metadata": {},
   "outputs": [],
   "source": [
    "# Confirm directorys are in place\n",
    "\n",
    "if not os.path.exists(os.path.join(os.getcwd(), '../data')):\n",
    "    raise OSError(\"Must first download data, see README.md\")\n",
    "data_dir = os.path.join(os.getcwd(), '../data')\n",
    "\n",
    "if not os.path.exists(os.path.join(data_dir, 'segment_network_graphs')):\n",
    "    os.mkdir(os.path.join(data_dir, 'segment_network_graphs'))\n",
    "graphs_dir = os.path.join(data_dir, 'segment_network_graphs')\n",
    "\n",
    "if not os.path.exists(os.path.join(os.getcwd(), '../img')):\n",
    "    raise OSError(\"Must first download data, see README.md\")\n",
    "img_dir = os.path.join(os.getcwd(), '../img')"
   ]
  },
  {
   "cell_type": "code",
   "execution_count": 9,
   "id": "documented-holocaust",
   "metadata": {},
   "outputs": [
    {
     "data": {
      "text/plain": [
       "'/home/jovyan/work/clustering/../data/segment_network_graphs'"
      ]
     },
     "execution_count": 9,
     "metadata": {},
     "output_type": "execute_result"
    }
   ],
   "source": [
    "graphs_dir"
   ]
  },
  {
   "cell_type": "code",
   "execution_count": 10,
   "id": "specified-style",
   "metadata": {},
   "outputs": [],
   "source": [
    "fp = os.path.join(data_dir, 'overall_means.pkl')\n",
    "df_overall_all = pd.read_pickle(fp)"
   ]
  },
  {
   "cell_type": "code",
   "execution_count": 11,
   "id": "damaged-favorite",
   "metadata": {},
   "outputs": [],
   "source": [
    "active_segments = df_overall_all.droplevel([0, 1]).reset_index()['XDSegID'].unique().tolist()"
   ]
  },
  {
   "cell_type": "code",
   "execution_count": 13,
   "id": "recovered-induction",
   "metadata": {},
   "outputs": [
    {
     "name": "stderr",
     "output_type": "stream",
     "text": [
      "/opt/conda/lib/python3.8/site-packages/pandas/core/dtypes/cast.py:112: ShapelyDeprecationWarning: The array interface is deprecated and will no longer work in Shapely 2.0. Convert the '.coords' to a numpy array instead.\n",
      "  values = construct_1d_object_array_from_listlike(values)\n"
     ]
    }
   ],
   "source": [
    "# Load inrix dataset\n",
    "fp = os.path.join(data_dir, 'inrix_grouped.pkl')\n",
    "inrix_df = pd.read_pickle(fp)\n",
    "inrix_df = inrix_df.set_geometry('geometry')\n",
    "\n",
    "# limit to available data sources\n",
    "clusters_df = inrix_df.loc[inrix_df['XDSegID'].isin(active_segments)]\n",
    "\n",
    "begs = []\n",
    "ends = []\n",
    "for i in range(len(clusters_df)):\n",
    "    begs.append(Point(clusters_df.iloc[i]['StartLong'], clusters_df.iloc[i]['StartLat']))\n",
    "    ends.append(Point(clusters_df.iloc[i]['EndLong'], clusters_df.iloc[i]['EndLat']))\n",
    "    \n",
    "clusters_df['Beg'] = begs\n",
    "clusters_df['End'] = ends\n",
    "clusters_df['center'] = clusters_df['geometry'].centroid\n",
    "\n",
    "# 1 mile = 1609.34 meters"
   ]
  },
  {
   "cell_type": "markdown",
   "id": "governmental-today",
   "metadata": {},
   "source": [
    "### To change CRS if needed"
   ]
  },
  {
   "cell_type": "code",
   "execution_count": 14,
   "id": "latin-ownership",
   "metadata": {},
   "outputs": [],
   "source": [
    "# original_crs = 4326\n",
    "# to_crs       = 3310\n",
    "\n",
    "# clusters_df = target_area_df.copy()\n",
    "# clusters_df['center'] = clusters_df['geometry'].centroid\n",
    "# clusters_df.set_crs(epsg=original_crs, inplace=True, allow_override=True)\n",
    "# clusters_df['line'] = clusters_df['geometry']\n",
    "# clusters_df = gpd.GeoDataFrame(clusters_df, geometry=clusters_df['line'])\n",
    "# clusters_df['line'] = clusters_df['line'].to_crs(epsg=to_crs)\n",
    "\n",
    "# clusters_df = clusters_df.set_geometry('Beg')\n",
    "# clusters_df['Beg'] = clusters_df['Beg'].to_crs(epsg=to_crs)\n",
    "# clusters_df = clusters_df.set_geometry('End')\n",
    "# clusters_df['End'] = clusters_df['End'].to_crs(epsg=to_crs)\n",
    "\n",
    "# clusters_df = clusters_df.set_geometry('line')\n",
    "# clusters_df.set_crs(epsg=to_crs, inplace=True, allow_override=True)\n",
    "# clusters_df['center_m'] = clusters_df['line'].centroid.to_crs(epsg=to_crs)\n",
    "# # clusters_df = clusters_df[['geometry', 'XDSegID', 'line', 'center', 'center_m']]\n",
    "# clusters_df = clusters_df.reset_index()\n",
    "# clusters_df = clusters_df.drop(['index'], axis=1)\n",
    "# clusters_df.head()"
   ]
  },
  {
   "cell_type": "markdown",
   "id": "earlier-queensland",
   "metadata": {},
   "source": [
    "## Parameters"
   ]
  },
  {
   "cell_type": "code",
   "execution_count": 15,
   "id": "traditional-china",
   "metadata": {},
   "outputs": [],
   "source": [
    "Precision=4"
   ]
  },
  {
   "cell_type": "code",
   "execution_count": 16,
   "id": "occasional-signature",
   "metadata": {},
   "outputs": [
    {
     "name": "stdout",
     "output_type": "stream",
     "text": [
      "Building graph process is started.\n",
      "Number of the Nodes in the Graph: 4009\n",
      "Number of the Edges in the Graph: 6928\n",
      "Number of the Nodes in the Line_Graph_XDSegID: 6906\n",
      "Number of the Edges in the Line_Graph_XDSegID: 15264\n"
     ]
    }
   ],
   "source": [
    "DF_adj, L_XDSegID, G = net_graph.prepare_graph(clusters_df, precision=Precision)"
   ]
  },
  {
   "cell_type": "code",
   "execution_count": 17,
   "id": "occasional-shadow",
   "metadata": {},
   "outputs": [
    {
     "name": "stdout",
     "output_type": "stream",
     "text": [
      "Name: \n",
      "Type: MultiDiGraph\n",
      "Number of nodes: 6906\n",
      "Number of edges: 15264\n",
      "Average in degree:   2.2103\n",
      "Average out degree:   2.2103\n"
     ]
    }
   ],
   "source": [
    "print(nx.info(L_XDSegID))"
   ]
  },
  {
   "cell_type": "code",
   "execution_count": 18,
   "id": "ambient-momentum",
   "metadata": {},
   "outputs": [
    {
     "name": "stdout",
     "output_type": "stream",
     "text": [
      "Not included segments:\n"
     ]
    },
    {
     "data": {
      "text/plain": [
       "[156775310.0,\n",
       " 159898628.0,\n",
       " 160057082.0,\n",
       " 160278182.0,\n",
       " 160579776.0,\n",
       " 395961041.0,\n",
       " 396095357.0,\n",
       " 429352617.0,\n",
       " 429360012.0,\n",
       " 441427094.0,\n",
       " 449616662.0,\n",
       " 450416017.0,\n",
       " 1524333008.0,\n",
       " 1524383343.0,\n",
       " 1524447976.0,\n",
       " 1524452384.0,\n",
       " 1524517849.0,\n",
       " 1524534931.0,\n",
       " 1524544573.0,\n",
       " 1524593357.0,\n",
       " 1524627117.0,\n",
       " 1524631542.0]"
      ]
     },
     "execution_count": 18,
     "metadata": {},
     "output_type": "execute_result"
    }
   ],
   "source": [
    "# Segments that were not included in the network graph\n",
    "print(\"Not included segments:\")\n",
    "clusters_df[~clusters_df['XDSegID'].isin(list(set(L_XDSegID.nodes)))]['XDSegID'].tolist()"
   ]
  },
  {
   "cell_type": "code",
   "execution_count": 19,
   "id": "entertaining-stamp",
   "metadata": {},
   "outputs": [],
   "source": [
    "segs = clusters_df['XDSegID'].tolist()"
   ]
  },
  {
   "cell_type": "code",
   "execution_count": 20,
   "id": "norwegian-flashing",
   "metadata": {},
   "outputs": [],
   "source": [
    "start = random.choice(segs)\n",
    "end   = random.choice(segs)\n",
    "try:\n",
    "    r = nx.shortest_path(L_XDSegID, start, end)\n",
    "    print(r)\n",
    "    \n",
    "    fig, ax = plt.subplots(figsize=(10, 10))\n",
    "    clusters_df.plot(ax=ax, color='gray', lw=1)\n",
    "    clusters_df[clusters_df['XDSegID'].isin(r)].plot(ax=ax, color='red', lw=5)\n",
    "    plt.show()\n",
    "    \n",
    "    miles = 0\n",
    "    for _r in r:\n",
    "#         miles += L_XDSegID.nodes[_r]['Miles']\n",
    "        miles += clusters_df[clusters_df['XDSegID'] == _r]['Miles'].values[0]\n",
    "    print(f\"Total miles: {miles}\")\n",
    "\n",
    "except:\n",
    "    pass"
   ]
  },
  {
   "cell_type": "markdown",
   "id": "featured-browse",
   "metadata": {},
   "source": [
    "### Saving the segment network graph\n",
    "* Relabel the nodes since their code keeps the segment names as floats but i use it as int"
   ]
  },
  {
   "cell_type": "code",
   "execution_count": 21,
   "id": "electrical-korean",
   "metadata": {},
   "outputs": [],
   "source": [
    "new_node_names = {n : int(n) for n in list(L_XDSegID.nodes)}\n",
    "L_XDSegID = nx.relabel_nodes(L_XDSegID, new_node_names, copy=True)"
   ]
  },
  {
   "cell_type": "code",
   "execution_count": 22,
   "id": "featured-acquisition",
   "metadata": {},
   "outputs": [],
   "source": [
    "fp = os.path.join(graphs_dir, 'line_segment_graph.pkl')\n",
    "nx.write_gpickle(L_XDSegID, fp)"
   ]
  },
  {
   "cell_type": "markdown",
   "id": "designing-coach",
   "metadata": {},
   "source": [
    "### Loading the segment network graph"
   ]
  },
  {
   "cell_type": "code",
   "execution_count": 23,
   "id": "spiritual-analysis",
   "metadata": {},
   "outputs": [
    {
     "name": "stdout",
     "output_type": "stream",
     "text": [
      "Name: \n",
      "Type: MultiDiGraph\n",
      "Number of nodes: 6906\n",
      "Number of edges: 15264\n",
      "Average in degree:   2.2103\n",
      "Average out degree:   2.2103\n"
     ]
    }
   ],
   "source": [
    "fp = os.path.join(graphs_dir, 'line_segment_graph.pkl')\n",
    "L_XDSegID = nx.read_gpickle(fp)\n",
    "print(nx.info(L_XDSegID))"
   ]
  }
 ],
 "metadata": {
  "kernelspec": {
   "display_name": "Python 3",
   "language": "python",
   "name": "python3"
  },
  "language_info": {
   "codemirror_mode": {
    "name": "ipython",
    "version": 3
   },
   "file_extension": ".py",
   "mimetype": "text/x-python",
   "name": "python",
   "nbconvert_exporter": "python",
   "pygments_lexer": "ipython3",
   "version": "3.8.8"
  }
 },
 "nbformat": 4,
 "nbformat_minor": 5
}
