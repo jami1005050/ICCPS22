{
 "cells": [
  {
   "cell_type": "code",
   "execution_count": 84,
   "id": "a7da53c1",
   "metadata": {},
   "outputs": [],
   "source": [
    "import pandas as pd\n",
    "import geopandas as gpd\n",
    "import os\n",
    "from shapely.geometry import Polygon\n",
    "import matplotlib.pyplot as plt\n",
    "import folium"
   ]
  },
  {
   "cell_type": "code",
   "execution_count": 85,
   "id": "ebaf6ae6",
   "metadata": {},
   "outputs": [],
   "source": [
    "fp = os.path.join('inrix_grouped.pkl')\n",
    "df = pd.read_pickle(fp)"
   ]
  },
  {
   "cell_type": "code",
   "execution_count": 86,
   "id": "524cd108",
   "metadata": {},
   "outputs": [
    {
     "name": "stdout",
     "output_type": "stream",
     "text": [
      "<class 'pandas.core.frame.DataFrame'>\n",
      "Int64Index: 79190 entries, 0 to 79189\n",
      "Data columns (total 30 columns):\n",
      " #   Column                   Non-Null Count  Dtype   \n",
      "---  ------                   --------------  -----   \n",
      " 0   geometry                 79190 non-null  geometry\n",
      " 1   XDSegID                  79190 non-null  float64 \n",
      " 2   PreviousXD               56315 non-null  float64 \n",
      " 3   NextXDSegI               56314 non-null  float64 \n",
      " 4   FRC                      79190 non-null  int64   \n",
      " 5   County_inrix             79190 non-null  object  \n",
      " 6   Miles                    79190 non-null  float64 \n",
      " 7   Lanes                    79190 non-null  float64 \n",
      " 8   SlipRoad                 79190 non-null  bool    \n",
      " 9   StartLat                 79190 non-null  float64 \n",
      " 10  StartLong                79190 non-null  float64 \n",
      " 11  EndLat                   79190 non-null  float64 \n",
      " 12  EndLong                  79190 non-null  float64 \n",
      " 13  Bearing                  79190 non-null  object  \n",
      " 14  XDGroup                  79190 non-null  float64 \n",
      " 15  RoadNumber               79190 non-null  object  \n",
      " 16  RoadName                 79190 non-null  object  \n",
      " 17  RoadList                 79190 non-null  object  \n",
      " 18  OSMWayIDs                79173 non-null  object  \n",
      " 19  OSMWayDirections         79173 non-null  object  \n",
      " 20  WayStartOffset_m         79190 non-null  float64 \n",
      " 21  WayEndOffset_m           79190 non-null  float64 \n",
      " 22  WayStartOffset_percent   79190 non-null  float64 \n",
      " 23  WayEndOffset_percent     79190 non-null  float64 \n",
      " 24  iSF_length               79190 non-null  float64 \n",
      " 25  iSF_length_min           79190 non-null  float64 \n",
      " 26  Nearest_Weather_Station  79190 non-null  object  \n",
      " 27  MyGrouping_3             79190 non-null  int64   \n",
      " 28  MyGrouping_3_id          0 non-null      float64 \n",
      " 29  MyGrouping_3_id_miles    0 non-null      float64 \n",
      "dtypes: bool(1), float64(18), geometry(1), int64(2), object(8)\n",
      "memory usage: 18.2+ MB\n"
     ]
    }
   ],
   "source": [
    "df.info()"
   ]
  },
  {
   "cell_type": "code",
   "execution_count": 45,
   "id": "401a3f2c",
   "metadata": {},
   "outputs": [
    {
     "data": {
      "text/plain": [
       "Index(['geometry', 'XDSegID', 'PreviousXD', 'NextXDSegI', 'FRC',\n",
       "       'County_inrix', 'Miles', 'Lanes', 'SlipRoad', 'StartLat', 'StartLong',\n",
       "       'EndLat', 'EndLong', 'Bearing', 'XDGroup', 'RoadNumber', 'RoadName',\n",
       "       'RoadList', 'OSMWayIDs', 'OSMWayDirections', 'WayStartOffset_m',\n",
       "       'WayEndOffset_m', 'WayStartOffset_percent', 'WayEndOffset_percent',\n",
       "       'iSF_length', 'iSF_length_min', 'Nearest_Weather_Station',\n",
       "       'MyGrouping_3', 'MyGrouping_3_id', 'MyGrouping_3_id_miles'],\n",
       "      dtype='object')"
      ]
     },
     "execution_count": 45,
     "metadata": {},
     "output_type": "execute_result"
    }
   ],
   "source": [
    "df.columns"
   ]
  },
  {
   "cell_type": "code",
   "execution_count": 46,
   "id": "fb052897",
   "metadata": {},
   "outputs": [
    {
     "data": {
      "text/plain": [
       "3         137561164\n",
       "12       1363617698\n",
       "31       1363503129\n",
       "36        449193042\n",
       "37        429150962\n",
       "            ...    \n",
       "79184    1524646925\n",
       "79186    1524646946\n",
       "79187    1524646945\n",
       "79188     429350938\n",
       "79189    1524645328\n",
       "Name: PreviousXD, Length: 56315, dtype: int64"
      ]
     },
     "execution_count": 46,
     "metadata": {},
     "output_type": "execute_result"
    }
   ],
   "source": [
    "df.loc[df['PreviousXD'].notna()]['PreviousXD'].astype('int64')"
   ]
  },
  {
   "cell_type": "code",
   "execution_count": 47,
   "id": "281e5598",
   "metadata": {},
   "outputs": [
    {
     "data": {
      "text/html": [
       "<div>\n",
       "<style scoped>\n",
       "    .dataframe tbody tr th:only-of-type {\n",
       "        vertical-align: middle;\n",
       "    }\n",
       "\n",
       "    .dataframe tbody tr th {\n",
       "        vertical-align: top;\n",
       "    }\n",
       "\n",
       "    .dataframe thead th {\n",
       "        text-align: right;\n",
       "    }\n",
       "</style>\n",
       "<table border=\"1\" class=\"dataframe\">\n",
       "  <thead>\n",
       "    <tr style=\"text-align: right;\">\n",
       "      <th></th>\n",
       "      <th>XDSegID</th>\n",
       "      <th>PreviousXD</th>\n",
       "      <th>NextXDSegI</th>\n",
       "      <th>Bearing</th>\n",
       "      <th>RoadNumber</th>\n",
       "    </tr>\n",
       "  </thead>\n",
       "  <tbody>\n",
       "    <tr>\n",
       "      <th>0</th>\n",
       "      <td>136894517.0</td>\n",
       "      <td>NaN</td>\n",
       "      <td>NaN</td>\n",
       "      <td>E</td>\n",
       "      <td>140</td>\n",
       "    </tr>\n",
       "    <tr>\n",
       "      <th>1</th>\n",
       "      <td>136894316.0</td>\n",
       "      <td>NaN</td>\n",
       "      <td>NaN</td>\n",
       "      <td>N</td>\n",
       "      <td>16</td>\n",
       "    </tr>\n",
       "    <tr>\n",
       "      <th>2</th>\n",
       "      <td>136898736.0</td>\n",
       "      <td>NaN</td>\n",
       "      <td>NaN</td>\n",
       "      <td>N</td>\n",
       "      <td>None</td>\n",
       "    </tr>\n",
       "    <tr>\n",
       "      <th>3</th>\n",
       "      <td>136898876.0</td>\n",
       "      <td>137561164.0</td>\n",
       "      <td>NaN</td>\n",
       "      <td>E</td>\n",
       "      <td>None</td>\n",
       "    </tr>\n",
       "    <tr>\n",
       "      <th>4</th>\n",
       "      <td>136930189.0</td>\n",
       "      <td>NaN</td>\n",
       "      <td>NaN</td>\n",
       "      <td>W</td>\n",
       "      <td>None</td>\n",
       "    </tr>\n",
       "    <tr>\n",
       "      <th>...</th>\n",
       "      <td>...</td>\n",
       "      <td>...</td>\n",
       "      <td>...</td>\n",
       "      <td>...</td>\n",
       "      <td>...</td>\n",
       "    </tr>\n",
       "    <tr>\n",
       "      <th>79185</th>\n",
       "      <td>1524646933.0</td>\n",
       "      <td>NaN</td>\n",
       "      <td>NaN</td>\n",
       "      <td>E</td>\n",
       "      <td>None</td>\n",
       "    </tr>\n",
       "    <tr>\n",
       "      <th>79186</th>\n",
       "      <td>1524646945.0</td>\n",
       "      <td>1524646946.0</td>\n",
       "      <td>1524646944.0</td>\n",
       "      <td>E</td>\n",
       "      <td>79</td>\n",
       "    </tr>\n",
       "    <tr>\n",
       "      <th>79187</th>\n",
       "      <td>1524646944.0</td>\n",
       "      <td>1524646945.0</td>\n",
       "      <td>160012283.0</td>\n",
       "      <td>N</td>\n",
       "      <td>79</td>\n",
       "    </tr>\n",
       "    <tr>\n",
       "      <th>79188</th>\n",
       "      <td>1524646943.0</td>\n",
       "      <td>429350938.0</td>\n",
       "      <td>1524551088.0</td>\n",
       "      <td>N</td>\n",
       "      <td>412</td>\n",
       "    </tr>\n",
       "    <tr>\n",
       "      <th>79189</th>\n",
       "      <td>1524646946.0</td>\n",
       "      <td>1524645328.0</td>\n",
       "      <td>1524646945.0</td>\n",
       "      <td>E</td>\n",
       "      <td>79</td>\n",
       "    </tr>\n",
       "  </tbody>\n",
       "</table>\n",
       "<p>79190 rows × 5 columns</p>\n",
       "</div>"
      ],
      "text/plain": [
       "            XDSegID    PreviousXD    NextXDSegI Bearing RoadNumber\n",
       "0       136894517.0           NaN           NaN       E        140\n",
       "1       136894316.0           NaN           NaN       N         16\n",
       "2       136898736.0           NaN           NaN       N       None\n",
       "3       136898876.0   137561164.0           NaN       E       None\n",
       "4       136930189.0           NaN           NaN       W       None\n",
       "...             ...           ...           ...     ...        ...\n",
       "79185  1524646933.0           NaN           NaN       E       None\n",
       "79186  1524646945.0  1524646946.0  1524646944.0       E         79\n",
       "79187  1524646944.0  1524646945.0   160012283.0       N         79\n",
       "79188  1524646943.0   429350938.0  1524551088.0       N        412\n",
       "79189  1524646946.0  1524645328.0  1524646945.0       E         79\n",
       "\n",
       "[79190 rows x 5 columns]"
      ]
     },
     "execution_count": 47,
     "metadata": {},
     "output_type": "execute_result"
    }
   ],
   "source": [
    "df['XDSegID'] = df['XDSegID'].astype('object')\n",
    "df['PreviousXD'] = df['PreviousXD'].astype('object')\n",
    "df['NextXDSegI'] = df['NextXDSegI'].astype('object')\n",
    "df[['XDSegID', 'PreviousXD', 'NextXDSegI', 'Bearing', 'RoadNumber']]"
   ]
  },
  {
   "cell_type": "code",
   "execution_count": 49,
   "id": "7ca913ff",
   "metadata": {},
   "outputs": [
    {
     "data": {
      "text/html": [
       "<div>\n",
       "<style scoped>\n",
       "    .dataframe tbody tr th:only-of-type {\n",
       "        vertical-align: middle;\n",
       "    }\n",
       "\n",
       "    .dataframe tbody tr th {\n",
       "        vertical-align: top;\n",
       "    }\n",
       "\n",
       "    .dataframe thead th {\n",
       "        text-align: right;\n",
       "    }\n",
       "</style>\n",
       "<table border=\"1\" class=\"dataframe\">\n",
       "  <thead>\n",
       "    <tr style=\"text-align: right;\">\n",
       "      <th></th>\n",
       "      <th>geometry</th>\n",
       "      <th>XDSegID</th>\n",
       "      <th>PreviousXD</th>\n",
       "      <th>NextXDSegI</th>\n",
       "      <th>FRC</th>\n",
       "      <th>County_inrix</th>\n",
       "      <th>Miles</th>\n",
       "      <th>Lanes</th>\n",
       "      <th>SlipRoad</th>\n",
       "      <th>StartLat</th>\n",
       "      <th>...</th>\n",
       "      <th>WayStartOffset_m</th>\n",
       "      <th>WayEndOffset_m</th>\n",
       "      <th>WayStartOffset_percent</th>\n",
       "      <th>WayEndOffset_percent</th>\n",
       "      <th>iSF_length</th>\n",
       "      <th>iSF_length_min</th>\n",
       "      <th>Nearest_Weather_Station</th>\n",
       "      <th>MyGrouping_3</th>\n",
       "      <th>MyGrouping_3_id</th>\n",
       "      <th>MyGrouping_3_id_miles</th>\n",
       "    </tr>\n",
       "  </thead>\n",
       "  <tbody>\n",
       "    <tr>\n",
       "      <th>0</th>\n",
       "      <td>LINESTRING (-84.081 35.865, -84.081 35.865)</td>\n",
       "      <td>136894517.0</td>\n",
       "      <td>NaN</td>\n",
       "      <td>NaN</td>\n",
       "      <td>0</td>\n",
       "      <td>knox</td>\n",
       "      <td>0.017473</td>\n",
       "      <td>2.0</td>\n",
       "      <td>False</td>\n",
       "      <td>35.86516</td>\n",
       "      <td>...</td>\n",
       "      <td>686.413</td>\n",
       "      <td>704.473</td>\n",
       "      <td>40.749</td>\n",
       "      <td>41.821</td>\n",
       "      <td>1.0</td>\n",
       "      <td>1.0</td>\n",
       "      <td>723260-13891</td>\n",
       "      <td>8211514</td>\n",
       "      <td>NaN</td>\n",
       "      <td>NaN</td>\n",
       "    </tr>\n",
       "  </tbody>\n",
       "</table>\n",
       "<p>1 rows × 30 columns</p>\n",
       "</div>"
      ],
      "text/plain": [
       "                                      geometry      XDSegID PreviousXD  \\\n",
       "0  LINESTRING (-84.081 35.865, -84.081 35.865)  136894517.0        NaN   \n",
       "\n",
       "  NextXDSegI  FRC County_inrix     Miles  Lanes  SlipRoad  StartLat  ...  \\\n",
       "0        NaN    0         knox  0.017473    2.0     False  35.86516  ...   \n",
       "\n",
       "   WayStartOffset_m  WayEndOffset_m  WayStartOffset_percent  \\\n",
       "0           686.413         704.473                  40.749   \n",
       "\n",
       "  WayEndOffset_percent  iSF_length iSF_length_min Nearest_Weather_Station  \\\n",
       "0               41.821         1.0            1.0            723260-13891   \n",
       "\n",
       "  MyGrouping_3 MyGrouping_3_id MyGrouping_3_id_miles  \n",
       "0      8211514             NaN                   NaN  \n",
       "\n",
       "[1 rows x 30 columns]"
      ]
     },
     "execution_count": 49,
     "metadata": {},
     "output_type": "execute_result"
    }
   ],
   "source": [
    "df.loc[df['XDSegID'] == 136894517]"
   ]
  },
  {
   "cell_type": "code",
   "execution_count": 61,
   "id": "571a720d",
   "metadata": {},
   "outputs": [],
   "source": [
    "bbox = Polygon([[-86.79651439189911, 36.155886375528965],\n",
    "                [-86.79439544677734, 36.155886375528965],\n",
    "                [-86.79439544677734, 36.15652307558645],\n",
    "                [-86.79651439189911, 36.15652307558645],\n",
    "                [-86.79651439189911, 36.155886375528965]])"
   ]
  },
  {
   "cell_type": "code",
   "execution_count": 57,
   "id": "f67316d2",
   "metadata": {},
   "outputs": [
    {
     "data": {
      "text/plain": [
       "<AxesSubplot:>"
      ]
     },
     "execution_count": 57,
     "metadata": {},
     "output_type": "execute_result"
    },
    {
     "data": {
      "image/png": "[encoded data removed]",
      "text/plain": [
       "<Figure size 432x288 with 1 Axes>"
      ]
     },
     "metadata": {
      "needs_background": "light"
     },
     "output_type": "display_data"
    }
   ],
   "source": [
    "gdf = gpd.GeoDataFrame(df, geometry='geometry')\n",
    "gdf.plot()"
   ]
  },
  {
   "cell_type": "code",
   "execution_count": 79,
   "id": "a8eb8ee2",
   "metadata": {},
   "outputs": [
    {
     "data": {
      "text/html": [
       "<div>\n",
       "<style scoped>\n",
       "    .dataframe tbody tr th:only-of-type {\n",
       "        vertical-align: middle;\n",
       "    }\n",
       "\n",
       "    .dataframe tbody tr th {\n",
       "        vertical-align: top;\n",
       "    }\n",
       "\n",
       "    .dataframe thead th {\n",
       "        text-align: right;\n",
       "    }\n",
       "</style>\n",
       "<table border=\"1\" class=\"dataframe\">\n",
       "  <thead>\n",
       "    <tr style=\"text-align: right;\">\n",
       "      <th></th>\n",
       "      <th>XDSegID</th>\n",
       "      <th>PreviousXD</th>\n",
       "      <th>NextXDSegI</th>\n",
       "      <th>Bearing</th>\n",
       "      <th>Miles</th>\n",
       "      <th>Lanes</th>\n",
       "    </tr>\n",
       "  </thead>\n",
       "  <tbody>\n",
       "    <tr>\n",
       "      <th>7377</th>\n",
       "      <td>156326265.0</td>\n",
       "      <td>NaN</td>\n",
       "      <td>NaN</td>\n",
       "      <td>S</td>\n",
       "      <td>0.039059</td>\n",
       "      <td>1.0</td>\n",
       "    </tr>\n",
       "    <tr>\n",
       "      <th>8269</th>\n",
       "      <td>156584976.0</td>\n",
       "      <td>NaN</td>\n",
       "      <td>NaN</td>\n",
       "      <td>S</td>\n",
       "      <td>0.037562</td>\n",
       "      <td>1.0</td>\n",
       "    </tr>\n",
       "    <tr>\n",
       "      <th>11368</th>\n",
       "      <td>160218245.0</td>\n",
       "      <td>NaN</td>\n",
       "      <td>NaN</td>\n",
       "      <td>N</td>\n",
       "      <td>0.081642</td>\n",
       "      <td>1.0</td>\n",
       "    </tr>\n",
       "    <tr>\n",
       "      <th>12298</th>\n",
       "      <td>160448968.0</td>\n",
       "      <td>NaN</td>\n",
       "      <td>NaN</td>\n",
       "      <td>N</td>\n",
       "      <td>0.037562</td>\n",
       "      <td>1.0</td>\n",
       "    </tr>\n",
       "    <tr>\n",
       "      <th>13160</th>\n",
       "      <td>160698956.0</td>\n",
       "      <td>NaN</td>\n",
       "      <td>NaN</td>\n",
       "      <td>N</td>\n",
       "      <td>0.039059</td>\n",
       "      <td>1.0</td>\n",
       "    </tr>\n",
       "    <tr>\n",
       "      <th>38764</th>\n",
       "      <td>449629874.0</td>\n",
       "      <td>449629873.0</td>\n",
       "      <td>449629875.0</td>\n",
       "      <td>E</td>\n",
       "      <td>0.210813</td>\n",
       "      <td>1.0</td>\n",
       "    </tr>\n",
       "    <tr>\n",
       "      <th>38765</th>\n",
       "      <td>449629871.0</td>\n",
       "      <td>449629870.0</td>\n",
       "      <td>449629872.0</td>\n",
       "      <td>W</td>\n",
       "      <td>0.210813</td>\n",
       "      <td>1.0</td>\n",
       "    </tr>\n",
       "  </tbody>\n",
       "</table>\n",
       "</div>"
      ],
      "text/plain": [
       "           XDSegID   PreviousXD   NextXDSegI Bearing     Miles  Lanes\n",
       "7377   156326265.0          NaN          NaN       S  0.039059    1.0\n",
       "8269   156584976.0          NaN          NaN       S  0.037562    1.0\n",
       "11368  160218245.0          NaN          NaN       N  0.081642    1.0\n",
       "12298  160448968.0          NaN          NaN       N  0.037562    1.0\n",
       "13160  160698956.0          NaN          NaN       N  0.039059    1.0\n",
       "38764  449629874.0  449629873.0  449629875.0       E  0.210813    1.0\n",
       "38765  449629871.0  449629870.0  449629872.0       W  0.210813    1.0"
      ]
     },
     "execution_count": 79,
     "metadata": {},
     "output_type": "execute_result"
    }
   ],
   "source": [
    "gdf[gdf['geometry'].intersects(bbox)][['XDSegID', 'PreviousXD', 'NextXDSegI', 'Bearing', 'Miles', 'Lanes']]"
   ]
  },
  {
   "cell_type": "code",
   "execution_count": 113,
   "id": "71f832c9",
   "metadata": {},
   "outputs": [
    {
     "name": "stdout",
     "output_type": "stream",
     "text": [
      "LINESTRING (-86.79591018537067 36.15583989547723, -86.79585976508471 36.15585994900005, -86.79563974929138 36.15596995689672, -86.79549020730684 36.15603985774773, -86.79532977912422 36.15612007183905, -86.79519971770472 36.15618023240754, -86.79457977737039 36.15647988933438, -86.79452018975969 36.15651025609753, -86.7941300055012 36.15669990512772, -86.79377992828839 36.15687007359287, -86.79366992039172 36.15691992092105, -86.79351006516687 36.15700013501237, -86.79338974402989 36.15704998234055, -86.79287007130972 36.15731010517953, -86.79274000989022 36.15737026574802, -86.79267010903921 36.15740005955337)\n",
      "LINESTRING (-86.79267010903921 36.15740005955337, -86.79274000989022 36.15737026574802, -86.79287007130972 36.15731010517953, -86.79338974402989 36.15704998234055, -86.79351006516687 36.15700013501237, -86.79366992039172 36.15691992092105, -86.79377992828839 36.15687007359287, -86.7941300055012 36.15669990512772, -86.79452018975969 36.15651025609753, -86.79457977737039 36.15647988933438, -86.79519971770472 36.15618023240754, -86.79532977912422 36.15612007183905, -86.79549020730684 36.15603985774773, -86.79563974929138 36.15596995689672, -86.79585976508471 36.15585994900005, -86.79591018537067 36.15583989547723)\n"
     ]
    }
   ],
   "source": [
    "g1 = gdf.loc[gdf['XDSegID'] == 449629874.0]['geometry'].values[0]\n",
    "g2 = gdf.loc[gdf['XDSegID'] == 449629871.0]['geometry'].values[0]\n",
    "print(g1)\n",
    "print(g2)"
   ]
  },
  {
   "cell_type": "code",
   "execution_count": 95,
   "id": "0fa54618",
   "metadata": {},
   "outputs": [
    {
     "data": {
      "text/plain": [
       "<AxesSubplot:>"
      ]
     },
     "execution_count": 95,
     "metadata": {},
     "output_type": "execute_result"
    },
    {
     "data": {
      "image/png": "[encoded data removed]",
      "text/plain": [
       "<Figure size 720x720 with 1 Axes>"
      ]
     },
     "metadata": {
      "needs_background": "light"
     },
     "output_type": "display_data"
    }
   ],
   "source": [
    "fig, ax = plt.subplots(figsize=(10, 10))\n",
    "gdf.loc[gdf['XDSegID'] == 449629874.0].plot(ax=ax, color='red', lw=5, ls='-')\n",
    "gdf.loc[gdf['XDSegID'] == 449629871.0].plot(ax=ax, color='blue', lw=5, ls='--')\n",
    "gdf.loc[gdf['XDSegID'] == 160698956.0].plot(ax=ax, color='red', lw=5, ls='-')\n",
    "gdf.loc[gdf['XDSegID'] == 156326265.0].plot(ax=ax, color='blue', lw=5, ls='--')"
   ]
  },
  {
   "cell_type": "code",
   "execution_count": 106,
   "id": "b6429a14",
   "metadata": {},
   "outputs": [
    {
     "data": {
      "text/html": [
       "<div style=\"width:100%;\"><div style=\"position:relative;width:100%;height:0;padding-bottom:60%;\"><span style=\"color:#565656\">Make this Notebook Trusted to load map: File -> Trust Notebook</span><iframe src=\"about:blank\" style=\"position:absolute;width:100%;height:100%;left:0;top:0;border:none !important;\" data-html=%3C%21DOCTYPE%20html%3E%0A%3Chead%3E%20%20%20%20%0A%20%20%20%20%3Cmeta%20http-equiv%3D%22content-type%22%20content%3D%22text/html%3B%20charset%3DUTF-8%22%20/%3E%0A%20%20%20%20%0A%20%20%20%20%20%20%20%20%3Cscript%3E%0A%20%20%20%20%20%20%20%20%20%20%20%20L_NO_TOUCH%20%3D%20false%3B%0A%20%20%20%20%20%20%20%20%20%20%20%20L_DISABLE_3D%20%3D%20false%3B%0A%20%20%20%20%20%20%20%20%3C/script%3E%0A%20%20%20%20%0A%20%20%20%20%3Cstyle%3Ehtml%2C%20body%20%7Bwidth%3A%20100%25%3Bheight%3A%20100%25%3Bmargin%3A%200%3Bpadding%3A%200%3B%7D%3C/style%3E%0A%20%20%20%20%3Cstyle%3E%23map%20%7Bposition%3Aabsolute%3Btop%3A0%3Bbottom%3A0%3Bright%3A0%3Bleft%3A0%3B%7D%3C/style%3E%0A%20%20%20%20%3Cscript%20src%3D%22https%3A//cdn.jsdelivr.net/npm/leaflet%401.6.0/dist/leaflet.js%22%3E%3C/script%3E%0A%20%20%20%20%3Cscript%20src%3D%22https%3A//code.jquery.com/jquery-1.12.4.min.js%22%3E%3C/script%3E%0A%20%20%20%20%3Cscript%20src%3D%22https%3A//maxcdn.bootstrapcdn.com/bootstrap/3.2.0/js/bootstrap.min.js%22%3E%3C/script%3E%0A%20%20%20%20%3Cscript%20src%3D%22https%3A//cdnjs.cloudflare.com/ajax/libs/Leaflet.awesome-markers/2.0.2/leaflet.awesome-markers.js%22%3E%3C/script%3E%0A%20%20%20%20%3Clink%20rel%3D%22stylesheet%22%20href%3D%22https%3A//cdn.jsdelivr.net/npm/leaflet%401.6.0/dist/leaflet.css%22/%3E%0A%20%20%20%20%3Clink%20rel%3D%22stylesheet%22%20href%3D%22https%3A//maxcdn.bootstrapcdn.com/bootstrap/3.2.0/css/bootstrap.min.css%22/%3E%0A%20%20%20%20%3Clink%20rel%3D%22stylesheet%22%20href%3D%22https%3A//maxcdn.bootstrapcdn.com/bootstrap/3.2.0/css/bootstrap-theme.min.css%22/%3E%0A%20%20%20%20%3Clink%20rel%3D%22stylesheet%22%20href%3D%22https%3A//maxcdn.bootstrapcdn.com/font-awesome/4.6.3/css/font-awesome.min.css%22/%3E%0A%20%20%20%20%3Clink%20rel%3D%22stylesheet%22%20href%3D%22https%3A//cdnjs.cloudflare.com/ajax/libs/Leaflet.awesome-markers/2.0.2/leaflet.awesome-markers.css%22/%3E%0A%20%20%20%20%3Clink%20rel%3D%22stylesheet%22%20href%3D%22https%3A//cdn.jsdelivr.net/gh/python-visualization/folium/folium/templates/leaflet.awesome.rotate.min.css%22/%3E%0A%20%20%20%20%0A%20%20%20%20%20%20%20%20%20%20%20%20%3Cmeta%20name%3D%22viewport%22%20content%3D%22width%3Ddevice-width%2C%0A%20%20%20%20%20%20%20%20%20%20%20%20%20%20%20%20initial-scale%3D1.0%2C%20maximum-scale%3D1.0%2C%20user-scalable%3Dno%22%20/%3E%0A%20%20%20%20%20%20%20%20%20%20%20%20%3Cstyle%3E%0A%20%20%20%20%20%20%20%20%20%20%20%20%20%20%20%20%23map_f445b59ece6549de977f5e695e9e8cb7%20%7B%0A%20%20%20%20%20%20%20%20%20%20%20%20%20%20%20%20%20%20%20%20position%3A%20relative%3B%0A%20%20%20%20%20%20%20%20%20%20%20%20%20%20%20%20%20%20%20%20width%3A%2050.0%25%3B%0A%20%20%20%20%20%20%20%20%20%20%20%20%20%20%20%20%20%20%20%20height%3A%2050.0%25%3B%0A%20%20%20%20%20%20%20%20%20%20%20%20%20%20%20%20%20%20%20%20left%3A%200.0%25%3B%0A%20%20%20%20%20%20%20%20%20%20%20%20%20%20%20%20%20%20%20%20top%3A%200.0%25%3B%0A%20%20%20%20%20%20%20%20%20%20%20%20%20%20%20%20%7D%0A%20%20%20%20%20%20%20%20%20%20%20%20%3C/style%3E%0A%20%20%20%20%20%20%20%20%0A%3C/head%3E%0A%3Cbody%3E%20%20%20%20%0A%20%20%20%20%0A%20%20%20%20%20%20%20%20%20%20%20%20%3Cdiv%20class%3D%22folium-map%22%20id%3D%22map_f445b59ece6549de977f5e695e9e8cb7%22%20%3E%3C/div%3E%0A%20%20%20%20%20%20%20%20%0A%3C/body%3E%0A%3Cscript%3E%20%20%20%20%0A%20%20%20%20%0A%20%20%20%20%20%20%20%20%20%20%20%20var%20map_f445b59ece6549de977f5e695e9e8cb7%20%3D%20L.map%28%0A%20%20%20%20%20%20%20%20%20%20%20%20%20%20%20%20%22map_f445b59ece6549de977f5e695e9e8cb7%22%2C%0A%20%20%20%20%20%20%20%20%20%20%20%20%20%20%20%20%7B%0A%20%20%20%20%20%20%20%20%20%20%20%20%20%20%20%20%20%20%20%20center%3A%20%5B36.156204725557714%2C%20-86.79545491933823%5D%2C%0A%20%20%20%20%20%20%20%20%20%20%20%20%20%20%20%20%20%20%20%20crs%3A%20L.CRS.EPSG3857%2C%0A%20%20%20%20%20%20%20%20%20%20%20%20%20%20%20%20%20%20%20%20zoom%3A%2019%2C%0A%20%20%20%20%20%20%20%20%20%20%20%20%20%20%20%20%20%20%20%20zoomControl%3A%20true%2C%0A%20%20%20%20%20%20%20%20%20%20%20%20%20%20%20%20%20%20%20%20preferCanvas%3A%20false%2C%0A%20%20%20%20%20%20%20%20%20%20%20%20%20%20%20%20%7D%0A%20%20%20%20%20%20%20%20%20%20%20%20%29%3B%0A%0A%20%20%20%20%20%20%20%20%20%20%20%20%0A%0A%20%20%20%20%20%20%20%20%0A%20%20%20%20%0A%20%20%20%20%20%20%20%20%20%20%20%20var%20tile_layer_d0b53175fe544e6eac132c60b33e630e%20%3D%20L.tileLayer%28%0A%20%20%20%20%20%20%20%20%20%20%20%20%20%20%20%20%22https%3A//cartodb-basemaps-%7Bs%7D.global.ssl.fastly.net/light_all/%7Bz%7D/%7Bx%7D/%7By%7D.png%22%2C%0A%20%20%20%20%20%20%20%20%20%20%20%20%20%20%20%20%7B%22attribution%22%3A%20%22%5Cu0026copy%3B%20%5Cu003ca%20href%3D%5C%22http%3A//www.openstreetmap.org/copyright%5C%22%5Cu003eOpenStreetMap%5Cu003c/a%5Cu003e%20contributors%20%5Cu0026copy%3B%20%5Cu003ca%20href%3D%5C%22http%3A//cartodb.com/attributions%5C%22%5Cu003eCartoDB%5Cu003c/a%5Cu003e%2C%20CartoDB%20%5Cu003ca%20href%20%3D%5C%22http%3A//cartodb.com/attributions%5C%22%5Cu003eattributions%5Cu003c/a%5Cu003e%22%2C%20%22detectRetina%22%3A%20false%2C%20%22maxNativeZoom%22%3A%2018%2C%20%22maxZoom%22%3A%2018%2C%20%22minZoom%22%3A%200%2C%20%22noWrap%22%3A%20false%2C%20%22opacity%22%3A%201%2C%20%22subdomains%22%3A%20%22abc%22%2C%20%22tms%22%3A%20false%7D%0A%20%20%20%20%20%20%20%20%20%20%20%20%29.addTo%28map_f445b59ece6549de977f5e695e9e8cb7%29%3B%0A%20%20%20%20%20%20%20%20%0A%20%20%20%20%0A%20%20%20%20%20%20%20%20%20%20%20%20var%20choropleth_f31ef9ea90564f19a4f10416f65f5e1e%20%3D%20L.featureGroup%28%0A%20%20%20%20%20%20%20%20%20%20%20%20%20%20%20%20%7B%7D%0A%20%20%20%20%20%20%20%20%20%20%20%20%29.addTo%28map_f445b59ece6549de977f5e695e9e8cb7%29%3B%0A%20%20%20%20%20%20%20%20%0A%20%20%20%20%0A%20%20%20%20%20%20%20%20function%20geo_json_0ef3dd843217419d9f782425af2b65a4_styler%28feature%29%20%7B%0A%20%20%20%20%20%20%20%20%20%20%20%20switch%28feature.id%29%20%7B%0A%20%20%20%20%20%20%20%20%20%20%20%20%20%20%20%20default%3A%0A%20%20%20%20%20%20%20%20%20%20%20%20%20%20%20%20%20%20%20%20return%20%7B%22color%22%3A%20%22blue%22%2C%20%22fillColor%22%3A%20%22blue%22%2C%20%22fillOpacity%22%3A%200.6%2C%20%22opacity%22%3A%201%2C%20%22weight%22%3A%2015%7D%3B%0A%20%20%20%20%20%20%20%20%20%20%20%20%7D%0A%20%20%20%20%20%20%20%20%7D%0A%0A%20%20%20%20%20%20%20%20function%20geo_json_0ef3dd843217419d9f782425af2b65a4_onEachFeature%28feature%2C%20layer%29%20%7B%0A%20%20%20%20%20%20%20%20%20%20%20%20layer.on%28%7B%0A%20%20%20%20%20%20%20%20%20%20%20%20%7D%29%3B%0A%20%20%20%20%20%20%20%20%7D%3B%0A%20%20%20%20%20%20%20%20var%20geo_json_0ef3dd843217419d9f782425af2b65a4%20%3D%20L.geoJson%28null%2C%20%7B%0A%20%20%20%20%20%20%20%20%20%20%20%20%20%20%20%20onEachFeature%3A%20geo_json_0ef3dd843217419d9f782425af2b65a4_onEachFeature%2C%0A%20%20%20%20%20%20%20%20%20%20%20%20%0A%20%20%20%20%20%20%20%20%20%20%20%20%20%20%20%20style%3A%20geo_json_0ef3dd843217419d9f782425af2b65a4_styler%2C%0A%20%20%20%20%20%20%20%20%7D%29%3B%0A%0A%20%20%20%20%20%20%20%20function%20geo_json_0ef3dd843217419d9f782425af2b65a4_add%20%28data%29%20%7B%0A%20%20%20%20%20%20%20%20%20%20%20%20geo_json_0ef3dd843217419d9f782425af2b65a4%0A%20%20%20%20%20%20%20%20%20%20%20%20%20%20%20%20.addData%28data%29%0A%20%20%20%20%20%20%20%20%20%20%20%20%20%20%20%20.addTo%28choropleth_f31ef9ea90564f19a4f10416f65f5e1e%29%3B%0A%20%20%20%20%20%20%20%20%7D%0A%20%20%20%20%20%20%20%20%20%20%20%20geo_json_0ef3dd843217419d9f782425af2b65a4_add%28%7B%22features%22%3A%20%5B%7B%22geometry%22%3A%20%7B%22coordinates%22%3A%20%5B%5B-86.7962602625835%2C%2036.15629998058672%5D%2C%20%5B-86.79662982036136%2C%2036.156780119219036%5D%5D%2C%20%22type%22%3A%20%22LineString%22%7D%2C%20%22id%22%3A%20%220%22%2C%20%22type%22%3A%20%22Feature%22%7D%5D%2C%20%22type%22%3A%20%22FeatureCollection%22%7D%29%3B%0A%0A%20%20%20%20%20%20%20%20%0A%20%20%20%20%0A%20%20%20%20%20%20%20%20%20%20%20%20var%20choropleth_7f60beca513e4e84b6d329b4a7bfb82a%20%3D%20L.featureGroup%28%0A%20%20%20%20%20%20%20%20%20%20%20%20%20%20%20%20%7B%7D%0A%20%20%20%20%20%20%20%20%20%20%20%20%29.addTo%28map_f445b59ece6549de977f5e695e9e8cb7%29%3B%0A%20%20%20%20%20%20%20%20%0A%20%20%20%20%0A%20%20%20%20%20%20%20%20function%20geo_json_2658179854f2442f8aba9d2ca4f3b76e_styler%28feature%29%20%7B%0A%20%20%20%20%20%20%20%20%20%20%20%20switch%28feature.id%29%20%7B%0A%20%20%20%20%20%20%20%20%20%20%20%20%20%20%20%20default%3A%0A%20%20%20%20%20%20%20%20%20%20%20%20%20%20%20%20%20%20%20%20return%20%7B%22color%22%3A%20%22blue%22%2C%20%22fillColor%22%3A%20%22blue%22%2C%20%22fillOpacity%22%3A%200.6%2C%20%22opacity%22%3A%201%2C%20%22weight%22%3A%2015%7D%3B%0A%20%20%20%20%20%20%20%20%20%20%20%20%7D%0A%20%20%20%20%20%20%20%20%7D%0A%0A%20%20%20%20%20%20%20%20function%20geo_json_2658179854f2442f8aba9d2ca4f3b76e_onEachFeature%28feature%2C%20layer%29%20%7B%0A%20%20%20%20%20%20%20%20%20%20%20%20layer.on%28%7B%0A%20%20%20%20%20%20%20%20%20%20%20%20%7D%29%3B%0A%20%20%20%20%20%20%20%20%7D%3B%0A%20%20%20%20%20%20%20%20var%20geo_json_2658179854f2442f8aba9d2ca4f3b76e%20%3D%20L.geoJson%28null%2C%20%7B%0A%20%20%20%20%20%20%20%20%20%20%20%20%20%20%20%20onEachFeature%3A%20geo_json_2658179854f2442f8aba9d2ca4f3b76e_onEachFeature%2C%0A%20%20%20%20%20%20%20%20%20%20%20%20%0A%20%20%20%20%20%20%20%20%20%20%20%20%20%20%20%20style%3A%20geo_json_2658179854f2442f8aba9d2ca4f3b76e_styler%2C%0A%20%20%20%20%20%20%20%20%7D%29%3B%0A%0A%20%20%20%20%20%20%20%20function%20geo_json_2658179854f2442f8aba9d2ca4f3b76e_add%20%28data%29%20%7B%0A%20%20%20%20%20%20%20%20%20%20%20%20geo_json_2658179854f2442f8aba9d2ca4f3b76e%0A%20%20%20%20%20%20%20%20%20%20%20%20%20%20%20%20.addData%28data%29%0A%20%20%20%20%20%20%20%20%20%20%20%20%20%20%20%20.addTo%28choropleth_7f60beca513e4e84b6d329b4a7bfb82a%29%3B%0A%20%20%20%20%20%20%20%20%7D%0A%20%20%20%20%20%20%20%20%20%20%20%20geo_json_2658179854f2442f8aba9d2ca4f3b76e_add%28%7B%22features%22%3A%20%5B%7B%22geometry%22%3A%20%7B%22coordinates%22%3A%20%5B%5B-86.79591018537067%2C%2036.15583989547723%5D%2C%20%5B-86.79585976508471%2C%2036.15585994900005%5D%2C%20%5B-86.79563974929138%2C%2036.15596995689672%5D%2C%20%5B-86.79549020730684%2C%2036.15603985774773%5D%2C%20%5B-86.79532977912422%2C%2036.15612007183905%5D%2C%20%5B-86.79519971770472%2C%2036.156180232407536%5D%2C%20%5B-86.79457977737039%2C%2036.156479889334385%5D%2C%20%5B-86.7945201897597%2C%2036.15651025609753%5D%2C%20%5B-86.7941300055012%2C%2036.15669990512772%5D%2C%20%5B-86.79377992828839%2C%2036.15687007359287%5D%2C%20%5B-86.79366992039172%2C%2036.15691992092105%5D%2C%20%5B-86.79351006516687%2C%2036.15700013501237%5D%2C%20%5B-86.7933897440299%2C%2036.157049982340546%5D%2C%20%5B-86.79287007130972%2C%2036.15731010517953%5D%2C%20%5B-86.79274000989022%2C%2036.15737026574802%5D%2C%20%5B-86.79267010903921%2C%2036.15740005955337%5D%5D%2C%20%22type%22%3A%20%22LineString%22%7D%2C%20%22id%22%3A%20%220%22%2C%20%22type%22%3A%20%22Feature%22%7D%5D%2C%20%22type%22%3A%20%22FeatureCollection%22%7D%29%3B%0A%0A%20%20%20%20%20%20%20%20%0A%20%20%20%20%0A%20%20%20%20%20%20%20%20%20%20%20%20var%20choropleth_26fbfe8f1fe443d686c27148360b72c7%20%3D%20L.featureGroup%28%0A%20%20%20%20%20%20%20%20%20%20%20%20%20%20%20%20%7B%7D%0A%20%20%20%20%20%20%20%20%20%20%20%20%29.addTo%28map_f445b59ece6549de977f5e695e9e8cb7%29%3B%0A%20%20%20%20%20%20%20%20%0A%20%20%20%20%0A%20%20%20%20%20%20%20%20function%20geo_json_4a3e10696a2148f6aba5588568434b8e_styler%28feature%29%20%7B%0A%20%20%20%20%20%20%20%20%20%20%20%20switch%28feature.id%29%20%7B%0A%20%20%20%20%20%20%20%20%20%20%20%20%20%20%20%20default%3A%0A%20%20%20%20%20%20%20%20%20%20%20%20%20%20%20%20%20%20%20%20return%20%7B%22color%22%3A%20%22red%22%2C%20%22fillColor%22%3A%20%22blue%22%2C%20%22fillOpacity%22%3A%200.6%2C%20%22opacity%22%3A%201%2C%20%22weight%22%3A%205%7D%3B%0A%20%20%20%20%20%20%20%20%20%20%20%20%7D%0A%20%20%20%20%20%20%20%20%7D%0A%0A%20%20%20%20%20%20%20%20function%20geo_json_4a3e10696a2148f6aba5588568434b8e_onEachFeature%28feature%2C%20layer%29%20%7B%0A%20%20%20%20%20%20%20%20%20%20%20%20layer.on%28%7B%0A%20%20%20%20%20%20%20%20%20%20%20%20%7D%29%3B%0A%20%20%20%20%20%20%20%20%7D%3B%0A%20%20%20%20%20%20%20%20var%20geo_json_4a3e10696a2148f6aba5588568434b8e%20%3D%20L.geoJson%28null%2C%20%7B%0A%20%20%20%20%20%20%20%20%20%20%20%20%20%20%20%20onEachFeature%3A%20geo_json_4a3e10696a2148f6aba5588568434b8e_onEachFeature%2C%0A%20%20%20%20%20%20%20%20%20%20%20%20%0A%20%20%20%20%20%20%20%20%20%20%20%20%20%20%20%20style%3A%20geo_json_4a3e10696a2148f6aba5588568434b8e_styler%2C%0A%20%20%20%20%20%20%20%20%7D%29%3B%0A%0A%20%20%20%20%20%20%20%20function%20geo_json_4a3e10696a2148f6aba5588568434b8e_add%20%28data%29%20%7B%0A%20%20%20%20%20%20%20%20%20%20%20%20geo_json_4a3e10696a2148f6aba5588568434b8e%0A%20%20%20%20%20%20%20%20%20%20%20%20%20%20%20%20.addData%28data%29%0A%20%20%20%20%20%20%20%20%20%20%20%20%20%20%20%20.addTo%28choropleth_26fbfe8f1fe443d686c27148360b72c7%29%3B%0A%20%20%20%20%20%20%20%20%7D%0A%20%20%20%20%20%20%20%20%20%20%20%20geo_json_4a3e10696a2148f6aba5588568434b8e_add%28%7B%22features%22%3A%20%5B%7B%22geometry%22%3A%20%7B%22coordinates%22%3A%20%5B%5B-86.79662982036136%2C%2036.156780119219036%5D%2C%20%5B-86.7962602625835%2C%2036.15629998058672%5D%5D%2C%20%22type%22%3A%20%22LineString%22%7D%2C%20%22id%22%3A%20%220%22%2C%20%22type%22%3A%20%22Feature%22%7D%5D%2C%20%22type%22%3A%20%22FeatureCollection%22%7D%29%3B%0A%0A%20%20%20%20%20%20%20%20%0A%20%20%20%20%0A%20%20%20%20%20%20%20%20%20%20%20%20var%20choropleth_6f6b98a39d4b43e08e7198acd7a51521%20%3D%20L.featureGroup%28%0A%20%20%20%20%20%20%20%20%20%20%20%20%20%20%20%20%7B%7D%0A%20%20%20%20%20%20%20%20%20%20%20%20%29.addTo%28map_f445b59ece6549de977f5e695e9e8cb7%29%3B%0A%20%20%20%20%20%20%20%20%0A%20%20%20%20%0A%20%20%20%20%20%20%20%20function%20geo_json_7b03030484f24591ad099c231fe34d07_styler%28feature%29%20%7B%0A%20%20%20%20%20%20%20%20%20%20%20%20switch%28feature.id%29%20%7B%0A%20%20%20%20%20%20%20%20%20%20%20%20%20%20%20%20default%3A%0A%20%20%20%20%20%20%20%20%20%20%20%20%20%20%20%20%20%20%20%20return%20%7B%22color%22%3A%20%22red%22%2C%20%22fillColor%22%3A%20%22blue%22%2C%20%22fillOpacity%22%3A%200.6%2C%20%22opacity%22%3A%201%2C%20%22weight%22%3A%205%7D%3B%0A%20%20%20%20%20%20%20%20%20%20%20%20%7D%0A%20%20%20%20%20%20%20%20%7D%0A%0A%20%20%20%20%20%20%20%20function%20geo_json_7b03030484f24591ad099c231fe34d07_onEachFeature%28feature%2C%20layer%29%20%7B%0A%20%20%20%20%20%20%20%20%20%20%20%20layer.on%28%7B%0A%20%20%20%20%20%20%20%20%20%20%20%20%7D%29%3B%0A%20%20%20%20%20%20%20%20%7D%3B%0A%20%20%20%20%20%20%20%20var%20geo_json_7b03030484f24591ad099c231fe34d07%20%3D%20L.geoJson%28null%2C%20%7B%0A%20%20%20%20%20%20%20%20%20%20%20%20%20%20%20%20onEachFeature%3A%20geo_json_7b03030484f24591ad099c231fe34d07_onEachFeature%2C%0A%20%20%20%20%20%20%20%20%20%20%20%20%0A%20%20%20%20%20%20%20%20%20%20%20%20%20%20%20%20style%3A%20geo_json_7b03030484f24591ad099c231fe34d07_styler%2C%0A%20%20%20%20%20%20%20%20%7D%29%3B%0A%0A%20%20%20%20%20%20%20%20function%20geo_json_7b03030484f24591ad099c231fe34d07_add%20%28data%29%20%7B%0A%20%20%20%20%20%20%20%20%20%20%20%20geo_json_7b03030484f24591ad099c231fe34d07%0A%20%20%20%20%20%20%20%20%20%20%20%20%20%20%20%20.addData%28data%29%0A%20%20%20%20%20%20%20%20%20%20%20%20%20%20%20%20.addTo%28choropleth_6f6b98a39d4b43e08e7198acd7a51521%29%3B%0A%20%20%20%20%20%20%20%20%7D%0A%20%20%20%20%20%20%20%20%20%20%20%20geo_json_7b03030484f24591ad099c231fe34d07_add%28%7B%22features%22%3A%20%5B%7B%22geometry%22%3A%20%7B%22coordinates%22%3A%20%5B%5B-86.79267010903921%2C%2036.15740005955337%5D%2C%20%5B-86.79274000989022%2C%2036.15737026574802%5D%2C%20%5B-86.79287007130972%2C%2036.15731010517953%5D%2C%20%5B-86.7933897440299%2C%2036.157049982340546%5D%2C%20%5B-86.79351006516687%2C%2036.15700013501237%5D%2C%20%5B-86.79366992039172%2C%2036.15691992092105%5D%2C%20%5B-86.79377992828839%2C%2036.15687007359287%5D%2C%20%5B-86.7941300055012%2C%2036.15669990512772%5D%2C%20%5B-86.7945201897597%2C%2036.15651025609753%5D%2C%20%5B-86.79457977737039%2C%2036.156479889334385%5D%2C%20%5B-86.79519971770472%2C%2036.156180232407536%5D%2C%20%5B-86.79532977912422%2C%2036.15612007183905%5D%2C%20%5B-86.79549020730684%2C%2036.15603985774773%5D%2C%20%5B-86.79563974929138%2C%2036.15596995689672%5D%2C%20%5B-86.79585976508471%2C%2036.15585994900005%5D%2C%20%5B-86.79591018537067%2C%2036.15583989547723%5D%5D%2C%20%22type%22%3A%20%22LineString%22%7D%2C%20%22id%22%3A%20%220%22%2C%20%22type%22%3A%20%22Feature%22%7D%5D%2C%20%22type%22%3A%20%22FeatureCollection%22%7D%29%3B%0A%0A%20%20%20%20%20%20%20%20%0A%3C/script%3E onload=\"this.contentDocument.open();this.contentDocument.write(    decodeURIComponent(this.getAttribute('data-html')));this.contentDocument.close();\" allowfullscreen webkitallowfullscreen mozallowfullscreen></iframe></div></div>"
      ],
      "text/plain": [
       "<folium.folium.Map at 0x7f6bc8ffd8e0>"
      ]
     },
     "execution_count": 106,
     "metadata": {},
     "output_type": "execute_result"
    }
   ],
   "source": [
    "roads1 = [449629874.0, 160698956.0]\n",
    "tgdf1 = gdf.loc[[x in roads1 for x in gdf['XDSegID']]]\n",
    "roads2 = [449629871.0, 156326265.0]\n",
    "tgdf2 = gdf.loc[[x in roads2 for x in gdf['XDSegID']]]\n",
    "\n",
    "pt_centroid = bbox.centroid\n",
    "m = folium.Map(location=[pt_centroid.y, pt_centroid.x],tiles='cartodbpositron',zoom_start=19, width='50%', height='50%')\n",
    "for i, (k, v) in enumerate(tgdf1.iterrows()):\n",
    "    folium.Choropleth(\n",
    "        v.geometry,\n",
    "        line_weight=15,\n",
    "        line_alpha=0.3,\n",
    "        line_style='--',\n",
    "        line_color='blue'\n",
    "    ).add_to(m)\n",
    "    \n",
    "for i, (k, v) in enumerate(tgdf2.iterrows()):\n",
    "    folium.Choropleth(\n",
    "        v.geometry,\n",
    "        line_weight=5,\n",
    "        line_alpha=0.3,\n",
    "        line_style='-',\n",
    "        line_color='red'\n",
    "    ).add_to(m)\n",
    "    \n",
    "m\n"
   ]
  },
  {
   "cell_type": "code",
   "execution_count": null,
   "id": "6a452e5c",
   "metadata": {},
   "outputs": [],
   "source": []
  }
 ],
 "metadata": {
  "kernelspec": {
   "display_name": "Python 3 (ipykernel)",
   "language": "python",
   "name": "python3"
  },
  "language_info": {
   "codemirror_mode": {
    "name": "ipython",
    "version": 3
   },
   "file_extension": ".py",
   "mimetype": "text/x-python",
   "name": "python",
   "nbconvert_exporter": "python",
   "pygments_lexer": "ipython3",
   "version": "3.10.4"
  }
 },
 "nbformat": 4,
 "nbformat_minor": 5
}
