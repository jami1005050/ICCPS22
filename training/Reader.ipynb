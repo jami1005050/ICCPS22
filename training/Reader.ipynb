{
 "cells": [
  {
   "cell_type": "markdown",
   "id": "aerial-basement",
   "metadata": {},
   "source": [
    "# Import Libraries"
   ]
  },
  {
   "cell_type": "code",
   "execution_count": 1,
   "id": "abandoned-finger",
   "metadata": {},
   "outputs": [],
   "source": [
    "import pandas as pd\n",
    "# pd.options.mode.chained_assignment = None  # default='warn'\n",
    "import datetime\n",
    "import random\n",
    "import importlib\n",
    "import os\n",
    "import sys\n",
    "import json\n",
    "import time\n",
    "import importlib\n",
    "\n",
    "import numpy as np\n",
    "import pickle as pickle\n",
    "import geopandas as gpd\n",
    "import matplotlib.pyplot as plt\n",
    "import osmnx as ox\n",
    "import networkx as nx\n",
    "# import matplotlib.dates as md\n",
    "\n",
    "# from pprint import pprint\n",
    "# from copy import deepcopy\n",
    "# from scipy.stats import hmean\n",
    "# from matplotlib.lines import Line2D\n",
    "# from tqdm.notebook import tqdm\n",
    "# random.seed()"
   ]
  },
  {
   "cell_type": "code",
   "execution_count": 4,
   "id": "788bd969",
   "metadata": {},
   "outputs": [
    {
     "name": "stdout",
     "output_type": "stream",
     "text": [
      "                     hm_441178988  am_441178988  qr_441178988  hm_449241307  \\\n",
      "time_local                                                                    \n",
      "2019-12-31 18:00:00     44.000000        44.000      1.000000     38.470161   \n",
      "2019-12-31 18:05:00     43.138454        43.155      0.999617     33.244444   \n",
      "2019-12-31 18:10:00     41.904762        42.000      0.997732     33.294959   \n",
      "2019-12-31 18:15:00     41.904762        42.000      0.997732     33.492537   \n",
      "2019-12-31 18:20:00     40.741013        40.755      0.999657     36.311971   \n",
      "...                           ...           ...           ...           ...   \n",
      "2020-01-31 17:35:00     41.904762        42.000      0.997732     29.836066   \n",
      "2020-01-31 17:40:00     41.904762        42.000      0.997732     31.450265   \n",
      "2020-01-31 17:45:00     41.349398        41.500      0.996371     34.229680   \n",
      "2020-01-31 17:50:00     41.349398        41.500      0.996371     34.229680   \n",
      "2020-01-31 17:55:00     39.493671        39.500      0.999840     34.367674   \n",
      "\n",
      "                     am_449241307  qr_449241307  hm_1386949647  am_1386949647  \\\n",
      "time_local                                                                      \n",
      "2019-12-31 18:00:00       39.3000      0.978884            NaN            NaN   \n",
      "2019-12-31 18:05:00       33.2500      0.999833            NaN            NaN   \n",
      "2019-12-31 18:10:00       33.3000      0.999849            NaN            NaN   \n",
      "2019-12-31 18:15:00       33.5000      0.999777            NaN            NaN   \n",
      "2019-12-31 18:20:00       36.5000      0.994849            NaN            NaN   \n",
      "...                           ...           ...            ...            ...   \n",
      "2020-01-31 17:35:00       30.5000      0.978232            NaN            NaN   \n",
      "2020-01-31 17:40:00       31.7775      0.989702            NaN            NaN   \n",
      "2020-01-31 17:45:00       34.2500      0.999407            NaN            NaN   \n",
      "2020-01-31 17:50:00       34.2500      0.999407            NaN            NaN   \n",
      "2020-01-31 17:55:00       34.3950      0.999206            NaN            NaN   \n",
      "\n",
      "                     qr_1386949647  hm_391174115  ...  qr_441183945  \\\n",
      "time_local                                        ...                 \n",
      "2019-12-31 18:00:00            NaN     22.370837  ...      0.981244   \n",
      "2019-12-31 18:05:00            NaN     21.994725  ...      0.997623   \n",
      "2019-12-31 18:10:00            NaN     22.338437  ...      0.978374   \n",
      "2019-12-31 18:15:00            NaN     22.457787  ...      0.986646   \n",
      "2019-12-31 18:20:00            NaN     23.143791  ...      0.997605   \n",
      "...                            ...           ...  ...           ...   \n",
      "2020-01-31 17:35:00            NaN     25.167734  ...      0.998336   \n",
      "2020-01-31 17:40:00            NaN     26.770280  ...      0.998988   \n",
      "2020-01-31 17:45:00            NaN     27.818506  ...      0.995044   \n",
      "2020-01-31 17:50:00            NaN     27.818506  ...      0.996985   \n",
      "2020-01-31 17:55:00            NaN     27.818506  ...      0.999364   \n",
      "\n",
      "                     hm_441178038  am_441178038  qr_441178038  hm_144197469  \\\n",
      "time_local                                                                    \n",
      "2019-12-31 18:00:00     27.084206       30.3500      0.892396      7.466667   \n",
      "2019-12-31 18:05:00     27.031072       30.2150      0.894624      7.466667   \n",
      "2019-12-31 18:10:00     28.547472       30.7700      0.927770      7.466667   \n",
      "2019-12-31 18:15:00     29.771341       32.0000      0.930354      7.466667   \n",
      "2019-12-31 18:20:00     29.790428       31.7150      0.939317      7.466667   \n",
      "...                           ...           ...           ...           ...   \n",
      "2020-01-31 17:35:00     26.430440       28.0675      0.941674      6.461538   \n",
      "2020-01-31 17:40:00     26.628030       28.6975      0.927887      6.461538   \n",
      "2020-01-31 17:45:00     20.818950       25.3750      0.820451      6.000000   \n",
      "2020-01-31 17:50:00     19.018482       27.0500      0.703086      6.000000   \n",
      "2020-01-31 17:55:00     22.663520       28.8300      0.786109      6.000000   \n",
      "\n",
      "                     am_144197469  qr_144197469  hm_1386705934  am_1386705934  \\\n",
      "time_local                                                                      \n",
      "2019-12-31 18:00:00           7.5      0.995556      55.982143        56.0000   \n",
      "2019-12-31 18:05:00           7.5      0.995556      55.982143        56.0000   \n",
      "2019-12-31 18:10:00           7.5      0.995556      55.982143        56.0000   \n",
      "2019-12-31 18:15:00           7.5      0.995556      56.002475        56.0650   \n",
      "2019-12-31 18:20:00           7.5      0.995556      56.803279        57.0000   \n",
      "...                           ...           ...            ...            ...   \n",
      "2020-01-31 17:35:00           6.5      0.994083      56.541452        56.5475   \n",
      "2020-01-31 17:40:00           6.5      0.994083      56.737971        56.7500   \n",
      "2020-01-31 17:45:00           6.0      1.000000      47.285171        50.1600   \n",
      "2020-01-31 17:50:00           6.0      1.000000      43.657645        48.4075   \n",
      "2020-01-31 17:55:00           6.0      1.000000      54.981818        55.0000   \n",
      "\n",
      "                     qr_1386705934  \n",
      "time_local                          \n",
      "2019-12-31 18:00:00       0.999681  \n",
      "2019-12-31 18:05:00       0.999681  \n",
      "2019-12-31 18:10:00       0.999681  \n",
      "2019-12-31 18:15:00       0.998885  \n",
      "2019-12-31 18:20:00       0.996549  \n",
      "...                            ...  \n",
      "2020-01-31 17:35:00       0.999893  \n",
      "2020-01-31 17:40:00       0.999788  \n",
      "2020-01-31 17:45:00       0.942687  \n",
      "2020-01-31 17:50:00       0.901878  \n",
      "2020-01-31 17:55:00       0.999669  \n",
      "\n",
      "[8928 rows x 1356 columns]\n"
     ]
    }
   ],
   "source": [
    "fp = './UNCLEAN-RATIOS/01_2019_ratios_maxr085_gran_5_incidents_24h.pkl'\n",
    "with open(fp, 'rb') as handle:\n",
    "    ratio = pickle.load(handle)\n",
    "print(ratio)"
   ]
  },
  {
   "cell_type": "markdown",
   "id": "f744f463",
   "metadata": {},
   "source": [
    "# Detection Report "
   ]
  },
  {
   "cell_type": "code",
   "execution_count": 6,
   "id": "91cd7f11",
   "metadata": {},
   "outputs": [
    {
     "name": "stdout",
     "output_type": "stream",
     "text": [
      "                     cluster_id  kappa  SF  detection_type  detection_number\n",
      "time                                                                        \n",
      "2019-10-09 06:10:00  1524532228   0.25   3               0              48.0\n",
      "2019-09-29 06:15:00  1524532228   0.25   3               0             258.0\n",
      "2019-10-08 06:15:00  1524532228   0.25   3               0             210.0\n",
      "2019-10-09 06:15:00  1524532228   0.25   3               0             399.0\n",
      "2019-10-11 06:15:00  1524532228   0.25   3               0             242.0\n",
      "...                         ...    ...  ..             ...               ...\n",
      "2019-10-20 20:50:00  1524532228   2.00   9               0             276.0\n",
      "2019-10-14 20:55:00  1524532228   2.00   9               0             216.0\n",
      "2019-10-19 20:55:00  1524532228   2.00   9               0             100.0\n",
      "2019-10-20 20:55:00  1524532228   2.00   9               0             585.0\n",
      "2019-10-26 20:55:00  1524532228   2.00   9               0             295.0\n",
      "\n",
      "[80918 rows x 5 columns]\n"
     ]
    }
   ],
   "source": [
    "fp = '../data/maxr085_results/optimized_actual_detection_Frame_maxr085_25C_10-21-2021.pkl'\n",
    "with open(fp, 'rb') as handle:\n",
    "    detection_a = pickle.load(handle)\n",
    "print(detection_a[detection_a['cluster_id'] == 1524532228]) # this 1524532228 was used for \n",
    "# Lagrange based method Testing "
   ]
  },
  {
   "cell_type": "code",
   "execution_count": 7,
   "id": "cceb5306",
   "metadata": {},
   "outputs": [
    {
     "name": "stdout",
     "output_type": "stream",
     "text": [
      "                     cluster_id  kappa  SF       RUC   tau_min  tau_max\n",
      "time                                                                   \n",
      "2019-12-01 06:45:00  1524532228   0.25   9 -0.352165 -0.348643      NaN\n",
      "2019-12-02 06:45:00  1524532228   0.25   9 -0.606531 -0.348643      NaN\n",
      "2019-12-03 06:45:00  1524532228   0.25   9 -0.733895 -0.348643      NaN\n",
      "2019-12-04 06:45:00  1524532228   0.25   9 -0.377246 -0.348643      NaN\n",
      "2019-12-05 06:45:00  1524532228   0.25   9 -0.680684 -0.348643      NaN\n",
      "...                         ...    ...  ..       ...       ...      ...\n",
      "2019-10-26 20:55:00  1524532228   0.25   9 -0.881801 -0.348643      NaN\n",
      "2019-10-27 20:55:00  1524532228   0.25   9 -0.420044 -0.348643      NaN\n",
      "2019-10-28 20:55:00  1524532228   0.25   9 -0.403955 -0.348643      NaN\n",
      "2019-10-29 20:55:00  1524532228   0.25   9 -0.673522 -0.348643      NaN\n",
      "2019-10-31 20:55:00  1524532228   0.25   9 -0.518533 -0.348643      NaN\n",
      "\n",
      "[11081 rows x 6 columns]\n"
     ]
    }
   ],
   "source": [
    "fp2 = '../data/maxr085_results/optimized_detection_report_Frame_maxr085_25C_10-21-2021.pkl'\n",
    "with open(fp2, 'rb') as handle:\n",
    "    detection_r = pickle.load(handle)\n",
    "print(detection_r[detection_r['cluster_id'] == 1524532228])# this 1524532228 was used for \n",
    "# Lagrange based method Testing "
   ]
  },
  {
   "cell_type": "code",
   "execution_count": 4,
   "id": "20431e3c",
   "metadata": {},
   "outputs": [
    {
     "name": "stdout",
     "output_type": "stream",
     "text": [
      "                     cluster_id  kappa  SF       RUC   tau_min  tau_max\n",
      "time                                                                   \n",
      "2019-09-16 06:15:00   429356410   0.25   3 -0.106304 -0.088395      NaN\n",
      "2019-09-23 06:15:00   429356410   0.25   3 -0.139536 -0.088395      NaN\n",
      "2019-09-27 06:15:00   429356410   0.25   3 -0.111439 -0.088395      NaN\n",
      "2019-10-12 06:15:00   429356410   0.25   3  0.126531       NaN   0.0825\n",
      "2019-10-19 06:15:00   429356410   0.25   3  0.111952       NaN   0.0825\n",
      "...                         ...    ...  ..       ...       ...      ...\n",
      "2019-10-20 20:55:00  1524532228   2.00   7 -0.265886 -0.172617      NaN\n",
      "2019-10-14 20:55:00  1524532228   2.00   9 -0.205042 -0.185560      NaN\n",
      "2019-10-19 20:55:00  1524532228   2.00   9 -1.006726 -0.185560      NaN\n",
      "2019-10-20 20:55:00  1524532228   2.00   9 -0.265886 -0.185560      NaN\n",
      "2019-10-26 20:55:00  1524532228   2.00   9 -0.205772 -0.185560      NaN\n",
      "\n",
      "[1151957 rows x 6 columns]\n"
     ]
    }
   ],
   "source": [
    "fp2 = '../data/maxr085_results/optimized_detection_report_maxr085_25C_10-21-2021.pkl'\n",
    "with open(fp2, 'rb') as handle:\n",
    "    detection_r = pickle.load(handle)\n",
    "print(detection_r)"
   ]
  },
  {
   "cell_type": "markdown",
   "id": "awful-summit",
   "metadata": {},
   "source": [
    "# Train Data Prepare"
   ]
  },
  {
   "cell_type": "code",
   "execution_count": 2,
   "id": "popular-steps",
   "metadata": {},
   "outputs": [
    {
     "name": "stdout",
     "output_type": "stream",
     "text": [
      "dict_keys([429356410, 1524555699, 1524274521, 1524373007, 1524471255, 1524476318, 441419752, 1524518468, 1524476847, 1524534201, 1524394465, 429359943, 1524469329, 1524423643, 429334678, 429334753, 1524553047, 441552718, 449617601, 1524393544, 160836160, 1524402419, 1524587754, 429334799, 1524532228])\n"
     ]
    }
   ],
   "source": [
    "fp = '../data/maxr085_results/optimized_residual_train_maxr085_25C_10-21-2021.pkl'\n",
    "with open(fp, 'rb') as handle:\n",
    "    train_residual = pickle.load(handle)\n",
    "print(train_residual.keys())"
   ]
  },
  {
   "cell_type": "code",
   "execution_count": 3,
   "id": "limiting-brief",
   "metadata": {},
   "outputs": [
    {
     "name": "stdout",
     "output_type": "stream",
     "text": [
      "429356410   8\n",
      "1524555699   8\n",
      "1524274521   8\n",
      "1524373007   8\n",
      "1524471255   8\n",
      "1524476318   8\n",
      "441419752   8\n",
      "1524518468   8\n",
      "1524476847   8\n",
      "1524534201   8\n",
      "1524394465   8\n",
      "429359943   8\n",
      "1524469329   8\n",
      "1524423643   8\n",
      "429334678   8\n",
      "429334753   8\n",
      "1524553047   8\n",
      "441552718   8\n",
      "449617601   8\n",
      "1524393544   8\n",
      "160836160   8\n",
      "1524402419   8\n",
      "1524587754   8\n",
      "429334799   8\n",
      "1524532228   8\n",
      "800\n"
     ]
    }
   ],
   "source": [
    "\"\"\"\n",
    "Saving Dictionary Data into Dataframe \n",
    "\"\"\"\n",
    "Data_frame =[]\n",
    "for cluster_id in train_residual.keys():\n",
    "    print(cluster_id,' ',len(train_residual[cluster_id]))\n",
    "    for kappa in train_residual[cluster_id].keys():\n",
    "#         print(kappa,' ',len(train_residual[cluster_id][kappa]))\n",
    "        for sliding_frame in train_residual[cluster_id][kappa].keys():\n",
    "#             print(sliding_frame,' ',len(train_residual[cluster_id][kappa][sliding_frame]))\n",
    "#             print((train_residual[cluster_id][kappa][sliding_frame]))\n",
    "            _df_temp = pd.DataFrame(train_residual[cluster_id][kappa][sliding_frame].items(),columns = ['time','RUC'])\n",
    "            _df_temp['kappa'] = kappa\n",
    "            _df_temp['cluster_ID'] = cluster_id\n",
    "            _df_temp['sliding_frame'] = sliding_frame\n",
    "            Data_frame.append(_df_temp)\n",
    "#             print(_df_temp)\n",
    "#             break\n",
    "#         break\n",
    "    break\n",
    "print(len(Data_frame))"
   ]
  },
  {
   "cell_type": "code",
   "execution_count": 4,
   "id": "rapid-filling",
   "metadata": {},
   "outputs": [],
   "source": [
    "result_frame = pd.concat(Data_frame,ignore_index = True)"
   ]
  },
  {
   "cell_type": "code",
   "execution_count": 5,
   "id": "fatty-survivor",
   "metadata": {},
   "outputs": [],
   "source": [
    "result_frame.to_csv('train.csv')"
   ]
  },
  {
   "cell_type": "markdown",
   "id": "b9eadbe0",
   "metadata": {},
   "source": [
    "# Learned Hyper Paramerters for different cluster \n",
    "Hyper parameters are cluster id kappa and SF"
   ]
  },
  {
   "cell_type": "code",
   "execution_count": 6,
   "id": "d07d235a",
   "metadata": {},
   "outputs": [],
   "source": [
    "fp = '../data/maxr085_results/optimized_hyper_mapping_maxr085_25C_10-21-2021.pkl'\n",
    "with open(fp, 'rb') as handle:\n",
    "    hyper_param = pickle.load(handle)"
   ]
  },
  {
   "cell_type": "code",
   "execution_count": 7,
   "id": "94ba3b79",
   "metadata": {},
   "outputs": [
    {
     "data": {
      "text/plain": [
       "{160836160: {'kappa': 0.25, 'SF': 7},\n",
       " 429334678: {'kappa': 0.25, 'SF': 3},\n",
       " 429334753: {'kappa': 0.25, 'SF': 5},\n",
       " 429334799: {'kappa': 0.25, 'SF': 3},\n",
       " 429356410: {'kappa': 0.25, 'SF': 3},\n",
       " 429359943: {'kappa': 0.25, 'SF': 3},\n",
       " 441419752: {'kappa': 0.25, 'SF': 7},\n",
       " 441552718: {'kappa': 0.25, 'SF': 3},\n",
       " 449617601: {'kappa': 0.25, 'SF': 7},\n",
       " 1524274521: {'kappa': 0.25, 'SF': 3},\n",
       " 1524373007: {'kappa': 0.25, 'SF': 3},\n",
       " 1524393544: {'kappa': 0.25, 'SF': 3},\n",
       " 1524394465: {'kappa': 0.25, 'SF': 9},\n",
       " 1524402419: {'kappa': 0.25, 'SF': 9},\n",
       " 1524423643: {'kappa': 0.25, 'SF': 7},\n",
       " 1524469329: {'kappa': 0.25, 'SF': 7},\n",
       " 1524471255: {'kappa': 0.25, 'SF': 9},\n",
       " 1524476318: {'kappa': 0.25, 'SF': 9},\n",
       " 1524476847: {'kappa': 0.25, 'SF': 3},\n",
       " 1524518468: {'kappa': 0.25, 'SF': 9},\n",
       " 1524532228: {'kappa': 0.25, 'SF': 9},\n",
       " 1524534201: {'kappa': 0.25, 'SF': 7},\n",
       " 1524553047: {'kappa': 0.25, 'SF': 3},\n",
       " 1524555699: {'kappa': 0.25, 'SF': 3},\n",
       " 1524587754: {'kappa': 0.25, 'SF': 9}}"
      ]
     },
     "execution_count": 7,
     "metadata": {},
     "output_type": "execute_result"
    }
   ],
   "source": [
    "hyper_param"
   ]
  },
  {
   "cell_type": "markdown",
   "id": "industrial-accent",
   "metadata": {},
   "source": [
    "# Test Data Prepare 2 from November and December"
   ]
  },
  {
   "cell_type": "code",
   "execution_count": 8,
   "id": "irish-swedish",
   "metadata": {},
   "outputs": [
    {
     "name": "stdout",
     "output_type": "stream",
     "text": [
      "dict_keys([429356410, 1524555699, 1524274521, 1524373007, 1524471255, 1524476318, 441419752, 1524518468, 1524476847, 1524534201, 1524394465, 429359943, 1524469329, 1524423643, 429334678, 429334753, 1524553047, 441552718, 449617601, 1524393544, 160836160, 1524402419, 1524587754, 429334799, 1524532228])\n"
     ]
    }
   ],
   "source": [
    "fpp = '../data/maxr085_results/optimized_test_residual_maxr085_25C_10-21-2021.pkl'\n",
    "with open(fpp, 'rb') as handle:\n",
    "    test_residual = pickle.load(handle)\n",
    "print(test_residual.keys())"
   ]
  },
  {
   "cell_type": "markdown",
   "id": "adb470c9",
   "metadata": {},
   "source": [
    "# The following Testing Residual is between month 10 and 12 "
   ]
  },
  {
   "cell_type": "code",
   "execution_count": 9,
   "id": "ongoing-radar",
   "metadata": {},
   "outputs": [
    {
     "name": "stdout",
     "output_type": "stream",
     "text": [
      "dict_keys([160836160, 429334678, 429334753, 429334799, 429356410, 429359943, 441419752, 441552718, 449617601, 1524274521, 1524373007, 1524393544, 1524394465, 1524402419, 1524423643, 1524469329, 1524471255, 1524476318, 1524476847, 1524518468, 1524532228, 1524534201, 1524553047, 1524555699, 1524587754])\n"
     ]
    }
   ],
   "source": [
    "fpp = '../data/maxr085_results/optimized_residual_Test_QR_maxr085_25C_10-21-2021.pkl'\n",
    "with open(fpp, 'rb') as handle:\n",
    "    test_residual = pickle.load(handle)\n",
    "print(test_residual.keys())"
   ]
  },
  {
   "cell_type": "markdown",
   "id": "b6eed438",
   "metadata": {},
   "source": [
    "# 1524532228 this cluster is used for Lagrange based poisoning test "
   ]
  },
  {
   "cell_type": "code",
   "execution_count": 11,
   "id": "3d2e7b10",
   "metadata": {},
   "outputs": [],
   "source": [
    "test_res_1524532228 = pd.DataFrame(test_residual[1524532228][0.25][9].items(), columns=['time', 'RUC'])"
   ]
  },
  {
   "cell_type": "code",
   "execution_count": 13,
   "id": "243cfb79",
   "metadata": {},
   "outputs": [],
   "source": [
    "test_res_1524532228.to_csv('test_res_1524532228.csv')"
   ]
  },
  {
   "cell_type": "markdown",
   "id": "7ea38cf7",
   "metadata": {},
   "source": [
    "# If want to save all test data into pandas frame"
   ]
  },
  {
   "cell_type": "code",
   "execution_count": null,
   "id": "confirmed-government",
   "metadata": {},
   "outputs": [],
   "source": [
    "for cluster_id in test_residual.keys():\n",
    "    print(cluster_id,' ',len(train_residual[cluster_id]))\n",
    "    Data_frame =[]\n",
    "    for kappa in test_residual[cluster_id].keys():\n",
    "#         print(kappa,' ',len(train_residual[cluster_id][kappa]))\n",
    "        for sliding_frame in test_residual[cluster_id][kappa].keys():\n",
    "#             print(sliding_frame,' ',len(train_residual[cluster_id][kappa][sliding_frame]))\n",
    "#             print((train_residual[cluster_id][kappa][sliding_frame]))\n",
    "            _df_temp = pd.DataFrame(test_residual[cluster_id][kappa][sliding_frame].items(),columns = ['time','RUC'])\n",
    "            _df_temp['kappa'] = kappa\n",
    "            _df_temp['cluster_ID'] = cluster_id\n",
    "            _df_temp['sliding_frame'] = sliding_frame\n",
    "            Data_frame.append(_df_temp)\n",
    "            print(_df_temp)\n",
    "#             break\n",
    "#         break\n",
    "    break\n",
    "\n",
    "print(len(Data_frame))\n",
    "result_frame_test = pd.concat(Data_frame, ignore_index=True)\n",
    "result_frame_test.to_csv('test2.csv')"
   ]
  },
  {
   "cell_type": "markdown",
   "id": "solar-bennett",
   "metadata": {},
   "source": [
    "# Optimal Hyper Parameter Learned"
   ]
  },
  {
   "cell_type": "code",
   "execution_count": 2,
   "id": "surprising-powell",
   "metadata": {},
   "outputs": [],
   "source": [
    "fp = '../data/maxr085_results/optimized_hyper_mapping_maxr085_25C_10-21-2021.pkl'\n",
    "with open(fp, 'rb') as handle:\n",
    "    hyper_param = pickle.load(handle)"
   ]
  },
  {
   "cell_type": "markdown",
   "id": "checked-round",
   "metadata": {},
   "source": [
    "# Filtered Sample Train and Test Data"
   ]
  },
  {
   "cell_type": "code",
   "execution_count": 9,
   "id": "portable-voice",
   "metadata": {},
   "outputs": [],
   "source": [
    "train_frame = pd.read_csv('train.csv')\n",
    "test_frame  = pd.read_csv('test.csv')\n",
    "train_frame_pruned = train_frame[train_frame['kappa']<=1.00]\n",
    "test_frame_pruned = test_frame[test_frame['kappa']<=1.00]"
   ]
  },
  {
   "cell_type": "code",
   "execution_count": 10,
   "id": "olive-headline",
   "metadata": {},
   "outputs": [],
   "source": [
    "# print(train_frame_pruned)\n",
    "train_frame_pruned.to_csv('train_P.csv')\n",
    "# print(test_frame_pruned)\n",
    "test_frame_pruned.to_csv('test_P.csv')\n"
   ]
  },
  {
   "cell_type": "markdown",
   "id": "lightweight-clarity",
   "metadata": {},
   "source": [
    "# Safe Margin with Ratio Plot"
   ]
  },
  {
   "cell_type": "code",
   "execution_count": 2,
   "id": "composed-consent",
   "metadata": {},
   "outputs": [],
   "source": [
    "incident_ratio_path = '../data/generated_clusters/maxr085_incident_ratios/01_2019_ratios_maxr085_gran_5_incidents_24h.pkl'\n",
    "safe_margin_path = '../data/maxr085_results/optimized_safe_margin_maxr085_25C_10-21-2021.pkl'"
   ]
  },
  {
   "cell_type": "code",
   "execution_count": 3,
   "id": "champion-produce",
   "metadata": {},
   "outputs": [],
   "source": [
    "with open(incident_ratio_path, 'rb') as handle:\n",
    "    incident_ratio = pickle.load(handle)\n",
    "with open(safe_margin_path, 'rb') as handle:\n",
    "    safe_margin = pickle.load(handle)"
   ]
  },
  {
   "cell_type": "code",
   "execution_count": 54,
   "id": "successful-reggae",
   "metadata": {},
   "outputs": [
    {
     "data": {
      "image/png": "[encoded data removed]",
      "text/plain": [
       "<Figure size 432x288 with 1 Axes>"
      ]
     },
     "metadata": {
      "needs_background": "light"
     },
     "output_type": "display_data"
    }
   ],
   "source": [
    "from datetime import datetime\n",
    "import matplotlib.dates as mdates\n",
    "\n",
    "for cluster_id in safe_margin.keys():\n",
    "    for kappa in safe_margin[cluster_id].keys():\n",
    "        safe_upper = safe_margin[cluster_id][1.0]['upper'].values()\n",
    "        safe_lower = safe_margin[cluster_id][1.0]['lower'].values()\n",
    "        temp = incident_ratio[(incident_ratio.index.day==1) &\n",
    "                             (incident_ratio.index.hour>=6) & \n",
    "                             (incident_ratio.index.hour<21)]\n",
    "        hour_min_index = temp.index.to_series().apply(lambda x: str(x.hour)+\":\"+str(x.minute)).to_list()\n",
    "#         print(hour_min_index)\n",
    "        ratio_list = incident_ratio[(incident_ratio.index.day==1) &\n",
    "                             (incident_ratio.index.hour>=6) & \n",
    "                             (incident_ratio.index.hour<21)]['qr_'+str(cluster_id)].to_list()\n",
    "        \n",
    "#         print(len(safe_margin[cluster_id][1.0]['upper'].keys()))\n",
    "        ax = plt.axes()\n",
    "        ax.plot(hour_min_index,safe_upper,label ='Upper',color = 'r',linestyle = '--')\n",
    "        ax.plot(hour_min_index,safe_lower,label='Lower',color = 'r',linestyle =':')\n",
    "        ax.plot(hour_min_index,ratio_list,label='Ratio',color = 'k')\n",
    "        ax.set_xlabel('Time')\n",
    "        ax.set_ylabel('Ratio')\n",
    "        ax.xaxis.set_major_locator(mdates.AutoDateLocator())\n",
    "#         ax.xaxis.set_major_formatter(mdates.AutoDateFormatter())\n",
    "        plt.legend()\n",
    "        plt.show()\n",
    "\n",
    "#         pass\n",
    "        break\n",
    "    break"
   ]
  },
  {
   "cell_type": "markdown",
   "id": "proof-guinea",
   "metadata": {},
   "source": [
    "# Ground Truth Information"
   ]
  },
  {
   "cell_type": "code",
   "execution_count": 14,
   "id": "geological-satisfaction",
   "metadata": {},
   "outputs": [],
   "source": [
    "ground_truth_data_path  =  \"../data/generated_clusters/maxr085_incident_ratios/incidents_GT\""
   ]
  },
  {
   "cell_type": "code",
   "execution_count": 15,
   "id": "pending-seating",
   "metadata": {},
   "outputs": [],
   "source": [
    "files_GT = os.listdir(ground_truth_data_path)\n",
    "incident_GT = []\n",
    "i = 0\n",
    "while i< len(files_GT):\n",
    "    fp = os.path.join(ground_truth_data_path, files_GT[i])\n",
    "    with open(fp, 'rb') as handle:\n",
    "        incident_GT.append( pickle.load(handle))\n",
    "    i+=1\n",
    "incident_GT_Frame = pd.concat(incident_GT)"
   ]
  },
  {
   "cell_type": "code",
   "execution_count": 17,
   "id": "technological-privacy",
   "metadata": {},
   "outputs": [],
   "source": [
    "incident_GT_Frame[incident_GT_Frame['cluster_head'] == 1524532228].to_csv('ground_truth_1524532228.csv')"
   ]
  },
  {
   "cell_type": "code",
   "execution_count": 11,
   "id": "driving-onion",
   "metadata": {},
   "outputs": [],
   "source": [
    "# temp = incident_GT_Frame[incident_GT_Frame['cluster_head'] == 429356410]\n",
    "# temp.to_csv('ground_truth.csv')"
   ]
  },
  {
   "cell_type": "markdown",
   "id": "5e2cc2fb",
   "metadata": {},
   "source": [
    "# Road Network infor"
   ]
  },
  {
   "cell_type": "code",
   "execution_count": 3,
   "id": "71ebb26b",
   "metadata": {},
   "outputs": [
    {
     "name": "stderr",
     "output_type": "stream",
     "text": [
      "C:\\Users\\jami1\\anaconda3\\envs\\detection\\lib\\site-packages\\pyproj\\crs\\crs.py:280: FutureWarning: '+init=<authority>:<code>' syntax is deprecated. '<authority>:<code>' is the preferred initialization method. When making the change, be mindful of axis order changes: https://pyproj4.github.io/pyproj/stable/gotchas.html#axis-order-changes-in-proj-6\n",
      "  projstring = _prepare_from_string(projparams)\n"
     ]
    },
    {
     "name": "stdout",
     "output_type": "stream",
     "text": [
      "            XDSegID    PreviousXD    NextXDSegI\n",
      "0      1.368945e+08           NaN           NaN\n",
      "1      1.368943e+08           NaN           NaN\n",
      "2      1.368987e+08           NaN           NaN\n",
      "3      1.368989e+08  1.375612e+08           NaN\n",
      "4      1.369302e+08           NaN           NaN\n",
      "...             ...           ...           ...\n",
      "79185  1.524647e+09           NaN           NaN\n",
      "79186  1.524647e+09  1.524647e+09  1.524647e+09\n",
      "79187  1.524647e+09  1.524647e+09  1.600123e+08\n",
      "79188  1.524647e+09  4.293509e+08  1.524551e+09\n",
      "79189  1.524647e+09  1.524645e+09  1.524647e+09\n",
      "\n",
      "[79190 rows x 3 columns]\n"
     ]
    }
   ],
   "source": [
    "road_net = \"../data/inrix_grouped.pkl\"\n",
    "\n",
    "with open(road_net, 'rb') as handle:\n",
    "    road_net_data = pickle.load(handle)\n",
    "print(road_net_data[['XDSegID','PreviousXD','NextXDSegI']])"
   ]
  },
  {
   "cell_type": "code",
   "execution_count": 3,
   "id": "light-oakland",
   "metadata": {},
   "outputs": [],
   "source": [
    "cluster = \"../data/generated_clusters/optimized_clustering_0.7_0.85_maxr085_all.pkl\"\n",
    "with open(cluster, 'rb') as handle:\n",
    "    cluster_data = pickle.load(handle)"
   ]
  },
  {
   "cell_type": "code",
   "execution_count": 6,
   "id": "a3c31630",
   "metadata": {},
   "outputs": [
    {
     "data": {
      "text/plain": [
       "60"
      ]
     },
     "execution_count": 6,
     "metadata": {},
     "output_type": "execute_result"
    }
   ],
   "source": [
    "len(cluster_data[1524532228])"
   ]
  },
  {
   "cell_type": "code",
   "execution_count": null,
   "id": "42a8f9a2",
   "metadata": {},
   "outputs": [],
   "source": []
  }
 ],
 "metadata": {
  "kernelspec": {
   "display_name": "Python 3 (ipykernel)",
   "language": "python",
   "name": "python3"
  },
  "language_info": {
   "codemirror_mode": {
    "name": "ipython",
    "version": 3
   },
   "file_extension": ".py",
   "mimetype": "text/x-python",
   "name": "python",
   "nbconvert_exporter": "python",
   "pygments_lexer": "ipython3",
   "version": "3.10.4"
  }
 },
 "nbformat": 4,
 "nbformat_minor": 5
}
